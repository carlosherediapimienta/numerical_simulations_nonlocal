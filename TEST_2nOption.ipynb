{
 "cells": [
  {
   "cell_type": "code",
   "execution_count": 2,
   "metadata": {},
   "outputs": [],
   "source": [
    "from scipy.integrate import fixed_quad\n",
    "from scipy.interpolate import interp1d\n",
    "from concurrent.futures import ThreadPoolExecutor\n",
    "from numba import njit\n",
    "from typing import Callable\n",
    "import numpy as np"
   ]
  },
  {
   "cell_type": "code",
   "execution_count": 11,
   "metadata": {},
   "outputs": [],
   "source": [
    "class NonlocalSolverMomentum2ndOrder:\n",
    "    def __init__(self, f: Callable, dL: Callable, t_span: list, y0: np.array, dy0: np.array, betas: list,\n",
    "                 alpha: float, omega:float = 0, lambda_:float = 0, verbose: bool = True):\n",
    "        \n",
    "        np.random.seed(33)\n",
    "\n",
    "        self.f = f\n",
    "        self.t_span = t_span\n",
    "        self.y0 = y0\n",
    "        self.dy0 = dy0  \n",
    "        self.alpha = alpha\n",
    "        self.omega = omega\n",
    "        self.t = np.arange(t_span[0], t_span[1], alpha)\n",
    "        self.betas = betas\n",
    "        self.lambda_ = lambda_\n",
    "        self.dL = dL\n",
    "        self.alpha_t = lambda t: 2 * np.sqrt((1-betas[1]**(t/alpha)) / alpha) / ( alpha * (1 - betas[0]**(t/alpha)))\n",
    "        self.epsilon_t = lambda t: np.sqrt((1-betas[1]**(t/alpha)) / alpha)* 1e-8\n",
    "        self.k = lambda i, s: (1-betas[i-1]) * np.exp( - ((1-betas[i-1]) / alpha) * s)\n",
    "\n",
    "        self.smoothing_factor = 0.5\n",
    "        self.smoothing_factor_max = 0.9999\n",
    "        self.increments = np.linspace(self.smoothing_factor, self.smoothing_factor_max, num=int(1e2))\n",
    "        self.max_value_index = False\n",
    "\n",
    "        self.max_iteration = int(6e2)\n",
    "        self.global_error_tolerance = 1e-4\n",
    "        self.verbose = verbose\n",
    "\n",
    "\n",
    "    def __initial_solution__(self) -> np.array:\n",
    "        return self.__solve_ode__(self.__rhs_system__)\n",
    "    \n",
    "    def __solve_ode__(self, rhs_ode: Callable) -> np.array:\n",
    "        t_values = self.t\n",
    "        y_values = np.zeros((len(t_values), 2)) \n",
    "        y_values[0, 0] = self.y0.item() if isinstance(self.y0, np.ndarray) else self.y0\n",
    "        y_values[0, 1] = self.dy0.item() if isinstance(self.dy0, np.ndarray) else self.dy0   \n",
    "        for i in range(1, len(t_values)):\n",
    "            dy = rhs_ode(t_values[i - 1], y_values[i - 1])\n",
    "            y_values[i, 0] = y_values[i - 1, 0] + self.alpha * dy[0]  \n",
    "            y_values[i, 1] = y_values[i - 1, 1] + self.alpha * dy[1]\n",
    "        return y_values\n",
    "    \n",
    "    def __rhs_system__(self, t, y_vec):\n",
    "        y1, y2 = y_vec\n",
    "        dy1 = y2\n",
    "        dy2 = - (2 / self.alpha) * (y2 + (self.omega / self.alpha) * y1)\n",
    "        return np.array([dy1, dy2])\n",
    "    \n",
    "    def __rhs_with_integral_part__(self, y: np.array) -> np.array:\n",
    "        y_interpolated = interp1d(self.t, y[:, 0], kind='cubic', fill_value=\"extrapolate\", assume_sorted=True)\n",
    "\n",
    "        dy_dt = np.gradient(y_interpolated(self.t), self.t)  \n",
    "        dy_interpolated = interp1d(self.t, dy_dt, kind='cubic', fill_value=\"extrapolate\", assume_sorted=True)\n",
    "\n",
    "        self.m = []\n",
    "        self.v = []\n",
    "\n",
    "        def integral(t):\n",
    "            def integrand(i, tp):\n",
    "                k_value = self.k(i, t - tp)\n",
    "                df_value = self.dL(y_interpolated(tp))\n",
    "                common_term = df_value + 0.5 * self.lambda_ * y_interpolated(tp)\n",
    "                return k_value * common_term if i == 1 else k_value * (common_term ** 2)\n",
    "            \n",
    "            numerador_func = lambda tp: integrand(1, tp)\n",
    "            denominador_func = lambda tp: integrand(2, tp)\n",
    "\n",
    "            with ThreadPoolExecutor() as executor:\n",
    "                future_numerator = executor.submit(fixed_quad, numerador_func, 0, t, n=int(1e3))\n",
    "                future_denominator = executor.submit(fixed_quad, denominador_func, 0, t, n=int(1e3))\n",
    "\n",
    "                value_numerator, _ = future_numerator.result()\n",
    "                value_denominator, _ = future_denominator.result()\n",
    "\n",
    "            v_value = value_denominator\n",
    "            v_sqrt_value = np.sqrt(v_value) \n",
    "            m_value = value_numerator\n",
    "\n",
    "            self.m.append((t, m_value))\n",
    "            self.v.append((t, v_value))   \n",
    "\n",
    "            return m_value / (v_sqrt_value + self.epsilon_t(t))\n",
    "\n",
    "        def rhs(t, y):\n",
    "            y_vec = np.array([y_interpolated(t), dy_interpolated(t)])\n",
    "            return self.__rhs_system__(t, y_vec) - self.alpha_t(t) * integral(t)\n",
    "                \n",
    "        return self.__solve_ode__(rhs)\n",
    "    \n",
    "    @staticmethod\n",
    "    @njit(parallel=True)\n",
    "    def __global_error__(y_new: np.array, y_guess: np.array) -> float:\n",
    "        diff = y_new - y_guess\n",
    "        return np.sqrt(np.sum(diff ** 2))\n",
    "    \n",
    "    @staticmethod\n",
    "    @njit(parallel=True)\n",
    "    def __next_y__(smoothing_factor: float, y_current: np.array, y_guess: np.array) -> np.array:\n",
    "        return (smoothing_factor * y_current) + ((1.0 - smoothing_factor) * y_guess)            \n",
    "        \n",
    "    def solve(self):\n",
    "        self.iteration = 0\n",
    "\n",
    "        y_current = self.__initial_solution__()\n",
    "        y_guess = self.__rhs_with_integral_part__(y_current)\n",
    "        current_error = self.__global_error__(y_current, y_guess)\n",
    "\n",
    "        if self.verbose:\n",
    "            print(f\"Iteration {self.iteration} advanced. Current error: {current_error}.\")\n",
    "\n",
    "        last_error = current_error\n",
    "        while current_error > self.global_error_tolerance:\n",
    "            \n",
    "            y_new = self.__next_y__(self.smoothing_factor, y_current, y_guess)\n",
    "            y_guess = self.__rhs_with_integral_part__(y_new)\n",
    "            current_error = self.__global_error__(y_new, y_guess)\n",
    "\n",
    "            y_current = y_new\n",
    "            self.iteration += 1\n",
    "\n",
    "            if current_error > last_error:\n",
    "                    if self.max_value_index:\n",
    "                        print(f'Maximum value of the smoothing factor reached. The algorithm will stop without reaching the desired tolerance. The error is {current_error}.')\n",
    "                        break\n",
    "\n",
    "                    try:\n",
    "                        next_factor = self.increments[np.searchsorted(self.increments, self.smoothing_factor, side='right')]\n",
    "                    except IndexError:\n",
    "                        next_factor = self.smoothing_factor_max\n",
    "                        print(f'Smoothing factor is at maximum value.')\n",
    "                        self.max_value_index = True\n",
    "\n",
    "                    self.smoothing_factor = min(self.smoothing_factor_max, next_factor)\n",
    "            last_error = current_error\n",
    "\n",
    "            if self.verbose and self.iteration % 1 == 0:\n",
    "                print(f\"Iteration {self.iteration} advanced. Current error: {current_error}.\")\n",
    "\n",
    "            if self.iteration >= self.max_iteration:\n",
    "                print(f\"Maximum number of iterations reached. Current error: {current_error}.\") \n",
    "                break\n",
    "            \n",
    "        print(f'Last iteration: {self.iteration}. Final error: {current_error}')\n",
    "\n",
    "        self.y = y_guess[:, 0]  \n",
    "        self.dy = y_guess[:, 1]  \n",
    "        self.global_error = current_error\n",
    "\n",
    "        return self.t, self.y, self.dy"
   ]
  },
  {
   "cell_type": "code",
   "execution_count": 6,
   "metadata": {},
   "outputs": [],
   "source": [
    "from sklearn.model_selection import ParameterGrid\n",
    "import numpy as np\n",
    "import matplotlib.pyplot as plt"
   ]
  },
  {
   "cell_type": "code",
   "execution_count": 7,
   "metadata": {},
   "outputs": [],
   "source": [
    "dL = lambda y: 2 * (y - 4)\n",
    "f = lambda x, y: 0.0\n",
    "t = [1e-12, 5]"
   ]
  },
  {
   "cell_type": "code",
   "execution_count": 13,
   "metadata": {},
   "outputs": [],
   "source": [
    "param_grid = {'lr': [0.1], 'beta1': [0.9],'beta2': [0.99]}\n",
    "n_learning_rates = len(param_grid['lr'])\n",
    "param_list = list(ParameterGrid(param_grid))"
   ]
  },
  {
   "cell_type": "code",
   "execution_count": 14,
   "metadata": {},
   "outputs": [
    {
     "name": "stdout",
     "output_type": "stream",
     "text": [
      "\n",
      "Nonlocal Continuous Adam Configuration: {'beta1': 0.9, 'beta2': 0.99, 'lr': 0.1}\n",
      "Iteration 0 advanced. Current error: 557.3857178707118.\n",
      "Iteration 1 advanced. Current error: 4417.52785977407.\n",
      "Iteration 2 advanced. Current error: 988.7387681692898.\n",
      "Iteration 3 advanced. Current error: 3404.247021334209.\n",
      "Iteration 4 advanced. Current error: 2510.969308313659.\n",
      "Iteration 5 advanced. Current error: 1467.9296171305448.\n",
      "Iteration 6 advanced. Current error: 1694.233483947901.\n",
      "Iteration 7 advanced. Current error: 2205.822330955976.\n",
      "Iteration 8 advanced. Current error: 2445.9512741803896.\n",
      "Iteration 9 advanced. Current error: 2441.2521535916812.\n",
      "Iteration 10 advanced. Current error: 2298.24776957086.\n",
      "Iteration 11 advanced. Current error: 2094.305790887811.\n",
      "Iteration 12 advanced. Current error: 1875.7961258776638.\n",
      "Iteration 13 advanced. Current error: 1667.64689681395.\n",
      "Iteration 14 advanced. Current error: 1482.1121771235498.\n",
      "Iteration 15 advanced. Current error: 1324.2705084005372.\n",
      "Iteration 16 advanced. Current error: 1195.101438316686.\n",
      "Iteration 17 advanced. Current error: 1093.1483245128338.\n",
      "Iteration 18 advanced. Current error: 1015.4706245894686.\n",
      "Iteration 19 advanced. Current error: 958.3017574175115.\n",
      "Iteration 20 advanced. Current error: 917.5965830437476.\n",
      "Iteration 21 advanced. Current error: 889.4891409677072.\n",
      "Iteration 22 advanced. Current error: 870.6153821949023.\n",
      "Iteration 23 advanced. Current error: 858.2748842307832.\n",
      "Iteration 24 advanced. Current error: 850.453066589938.\n",
      "Iteration 25 advanced. Current error: 845.7534830691023.\n",
      "Iteration 26 advanced. Current error: 843.2892024873561.\n",
      "Iteration 27 advanced. Current error: 842.5669443391464.\n",
      "Iteration 28 advanced. Current error: 843.3813965724003.\n",
      "Iteration 29 advanced. Current error: 845.6713322466738.\n",
      "Iteration 30 advanced. Current error: 849.5150330191677.\n",
      "Iteration 31 advanced. Current error: 855.0411260539695.\n",
      "Iteration 32 advanced. Current error: 862.3853784260668.\n",
      "Iteration 33 advanced. Current error: 871.6622344688346.\n",
      "Iteration 34 advanced. Current error: 882.947589630522.\n",
      "Iteration 35 advanced. Current error: 896.2702896155149.\n",
      "Iteration 36 advanced. Current error: 911.6103021525894.\n",
      "Iteration 37 advanced. Current error: 928.9017415906404.\n",
      "Iteration 38 advanced. Current error: 948.0391046227013.\n",
      "Iteration 39 advanced. Current error: 968.8852835491116.\n",
      "Iteration 40 advanced. Current error: 991.2801840405247.\n",
      "Iteration 41 advanced. Current error: 1015.0490696702459.\n",
      "Iteration 42 advanced. Current error: 1040.0100508070743.\n",
      "Iteration 43 advanced. Current error: 1065.9803976414798.\n",
      "Iteration 44 advanced. Current error: 1092.7815650268212.\n",
      "Iteration 45 advanced. Current error: 1120.2429636477254.\n",
      "Iteration 46 advanced. Current error: 1148.2046023215103.\n",
      "Iteration 47 advanced. Current error: 1176.5187709737922.\n",
      "Iteration 48 advanced. Current error: 1205.0509459478255.\n",
      "Iteration 49 advanced. Current error: 1233.6800907294692.\n",
      "Iteration 50 advanced. Current error: 1262.2985053539944.\n",
      "Iteration 51 advanced. Current error: 1290.8113533933458.\n",
      "Iteration 52 advanced. Current error: 1319.1359707426614.\n",
      "Iteration 53 advanced. Current error: 1347.201037798868.\n",
      "Iteration 54 advanced. Current error: 1374.9456771282764.\n",
      "Iteration 55 advanced. Current error: 1402.3185226247779.\n",
      "Iteration 56 advanced. Current error: 1429.2767932853562.\n",
      "Iteration 57 advanced. Current error: 1455.7853946811547.\n",
      "Iteration 58 advanced. Current error: 1481.8160635169017.\n",
      "Iteration 59 advanced. Current error: 1507.3465648970007.\n",
      "Iteration 60 advanced. Current error: 1532.3599476505865.\n",
      "Iteration 61 advanced. Current error: 1556.843859971176.\n",
      "Iteration 62 advanced. Current error: 1580.7899254236866.\n",
      "Iteration 63 advanced. Current error: 1604.193177844132.\n",
      "Iteration 64 advanced. Current error: 1627.0515526349914.\n",
      "Iteration 65 advanced. Current error: 1649.3654313112368.\n",
      "Iteration 66 advanced. Current error: 1671.1372357781056.\n",
      "Iteration 67 advanced. Current error: 1692.371068647035.\n",
      "Iteration 68 advanced. Current error: 1713.0723958628075.\n",
      "Iteration 69 advanced. Current error: 1733.2477679810545.\n",
      "Iteration 70 advanced. Current error: 1752.9045765685519.\n",
      "Iteration 71 advanced. Current error: 1772.0508423755114.\n",
      "Iteration 72 advanced. Current error: 1790.695032132198.\n",
      "Iteration 73 advanced. Current error: 1808.8459010387503.\n",
      "Iteration 74 advanced. Current error: 1826.5123582379572.\n",
      "Iteration 75 advanced. Current error: 1843.7033527795284.\n",
      "Iteration 76 advanced. Current error: 1860.4277777964214.\n",
      "Iteration 77 advanced. Current error: 1876.6943908165288.\n",
      "Iteration 78 advanced. Current error: 1892.5117483240251.\n",
      "Iteration 79 advanced. Current error: 1907.8881528635993.\n",
      "Iteration 80 advanced. Current error: 1922.8316111467207.\n",
      "Iteration 81 advanced. Current error: 1937.3498017721681.\n",
      "Iteration 82 advanced. Current error: 1951.4500513140124.\n",
      "Iteration 83 advanced. Current error: 1965.139317658772.\n",
      "Iteration 84 advanced. Current error: 1978.4241795911455.\n",
      "Iteration 85 advanced. Current error: 1991.310831734491.\n",
      "Iteration 86 advanced. Current error: 2003.8050840493786.\n",
      "Iteration 87 advanced. Current error: 2015.9123651814853.\n",
      "Iteration 88 advanced. Current error: 2027.6377290296605.\n",
      "Iteration 89 advanced. Current error: 2038.9858639772349.\n",
      "Iteration 90 advanced. Current error: 2049.9611042940874.\n",
      "Iteration 91 advanced. Current error: 2060.567443276232.\n",
      "Iteration 92 advanced. Current error: 2070.808547741896.\n",
      "Iteration 93 advanced. Current error: 2080.6877735509133.\n",
      "Iteration 94 advanced. Current error: 2090.2081818568063.\n",
      "Iteration 95 advanced. Current error: 2099.3725558392634.\n",
      "Iteration 96 advanced. Current error: 2108.1834176991497.\n",
      "Iteration 97 advanced. Current error: 2116.6430457288543.\n",
      "Iteration 98 advanced. Current error: 2124.7534912983274.\n",
      "Iteration 99 advanced. Current error: 2132.5165956216433.\n",
      "Iteration 100 advanced. Current error: 2139.934006190781.\n",
      "Iteration 101 advanced. Current error: 2147.007192782601.\n",
      "Iteration 102 advanced. Current error: 2153.737462962187.\n",
      "Iteration 103 advanced. Current error: 2160.125977020822.\n",
      "Iteration 104 advanced. Current error: 2166.1737623001986.\n",
      "Iteration 105 advanced. Current error: 2171.881726866077.\n",
      "Iteration 106 advanced. Current error: 2177.250672504686.\n",
      "Iteration 107 advanced. Current error: 2182.2813070243124.\n",
      "Iteration 108 advanced. Current error: 2186.9742558516887.\n",
      "Iteration 109 advanced. Current error: 2191.3300729198504.\n",
      "Iteration 110 advanced. Current error: 2195.3492508495174.\n",
      "Iteration 111 advanced. Current error: 2199.032230431136.\n",
      "Iteration 112 advanced. Current error: 2202.379409418666.\n",
      "Iteration 113 advanced. Current error: 2205.3911506502623.\n",
      "Iteration 114 advanced. Current error: 2208.0677895138124.\n",
      "Iteration 115 advanced. Current error: 2210.409640778518.\n",
      "Iteration 116 advanced. Current error: 2212.4170048163433.\n",
      "Iteration 117 advanced. Current error: 2214.0901732399057.\n",
      "Iteration 118 advanced. Current error: 2215.429433986294.\n",
      "Iteration 119 advanced. Current error: 2216.43507587936.\n",
      "Iteration 120 advanced. Current error: 2217.107392706736.\n",
      "Iteration 121 advanced. Current error: 2217.4466868521886.\n",
      "Smoothing factor is at maximum value.\n",
      "Iteration 122 advanced. Current error: 2217.4532725291465.\n",
      "Maximum value of the smoothing factor reached. The algorithm will stop without reaching the desired tolerance. The error is 2217.459858208315.\n",
      "Last iteration: 123. Final error: 2217.459858208315\n"
     ]
    },
    {
     "data": {
      "application/vnd.plotly.v1+json": {
       "config": {
        "plotlyServerURL": "https://plot.ly"
       },
       "data": [
        {
         "legendgroup": "LR=0.1",
         "mode": "lines",
         "name": "beta1=0.9, beta2=0.99",
         "type": "scatter",
         "x": [
          1e-11,
          1.00000000001,
          2.00000000001,
          3.00000000001,
          4.00000000001,
          5.000000000009999,
          6.00000000001,
          7.00000000001,
          8.00000000001,
          9.00000000001,
          10.000000000010001,
          11.000000000010001,
          12.000000000010003,
          13.000000000010001,
          14.000000000010001,
          15.000000000010001,
          16.00000000001,
          17.00000000001,
          18.00000000001,
          19.00000000001,
          20.00000000001,
          21.00000000001,
          22.00000000001,
          23.00000000001,
          24.000000000010004,
          25.00000000001,
          26.00000000001,
          27.00000000001,
          28.00000000001,
          29.000000000010004,
          30.00000000001,
          31.00000000001,
          32.00000000001,
          33.000000000010004,
          34.000000000010004,
          35.00000000001,
          36.00000000001,
          37.00000000001,
          38.000000000010004,
          39.000000000010004,
          40.00000000001,
          41.000000000010004,
          42.00000000001,
          43.00000000001,
          44.000000000010004,
          45.00000000001,
          46.000000000010004,
          47.00000000001,
          48.000000000010004,
          49.000000000010004
         ],
         "xaxis": "x",
         "y": [
          1,
          70.45085648186141,
          132.8038976667144,
          187.94932839376375,
          235.80394624084383,
          276.29131394593355,
          309.33886697588,
          334.87839500614444,
          352.8490121339408,
          363.20363937246094,
          365.92062615366217,
          361.0219464200938,
          348.5983850025341,
          328.84058598261123,
          302.0734873422562,
          268.7912113111128,
          229.68990771313946,
          185.6963069669691,
          137.98829652862088,
          88.00009385532341,
          37.400257695926754,
          -11.97021142924276,
          -58.20618024599087,
          -99.48566527718552,
          -134.23206494500263,
          -161.2567884872482,
          -179.8502621208295,
          -189.80487894948666,
          -191.37452171669077,
          -185.19179428941646,
          -172.16994971183524,
          -153.41203376619904,
          -130.13958340083346,
          -103.64252519072393,
          -75.24418272261404,
          -46.27189920977588,
          -18.024580971961512,
          8.267587231087585,
          31.490582221209607,
          50.695555699879165,
          65.14121280806549,
          74.32188201652795,
          77.97688104955415,
          76.08132112102341,
          68.82249403887708,
          56.56818090678039,
          39.833273197842274,
          19.249481509769396,
          -4.459539078663216,
          -30.497808007935312
         ],
         "yaxis": "y"
        }
       ],
       "layout": {
        "annotations": [
         {
          "font": {
           "size": 16
          },
          "showarrow": false,
          "text": "Learning Rate = 0.1",
          "x": 0.5,
          "xanchor": "center",
          "xref": "paper",
          "y": 1,
          "yanchor": "bottom",
          "yref": "paper"
         }
        ],
        "template": {
         "data": {
          "bar": [
           {
            "error_x": {
             "color": "#2a3f5f"
            },
            "error_y": {
             "color": "#2a3f5f"
            },
            "marker": {
             "line": {
              "color": "#E5ECF6",
              "width": 0.5
             },
             "pattern": {
              "fillmode": "overlay",
              "size": 10,
              "solidity": 0.2
             }
            },
            "type": "bar"
           }
          ],
          "barpolar": [
           {
            "marker": {
             "line": {
              "color": "#E5ECF6",
              "width": 0.5
             },
             "pattern": {
              "fillmode": "overlay",
              "size": 10,
              "solidity": 0.2
             }
            },
            "type": "barpolar"
           }
          ],
          "carpet": [
           {
            "aaxis": {
             "endlinecolor": "#2a3f5f",
             "gridcolor": "white",
             "linecolor": "white",
             "minorgridcolor": "white",
             "startlinecolor": "#2a3f5f"
            },
            "baxis": {
             "endlinecolor": "#2a3f5f",
             "gridcolor": "white",
             "linecolor": "white",
             "minorgridcolor": "white",
             "startlinecolor": "#2a3f5f"
            },
            "type": "carpet"
           }
          ],
          "choropleth": [
           {
            "colorbar": {
             "outlinewidth": 0,
             "ticks": ""
            },
            "type": "choropleth"
           }
          ],
          "contour": [
           {
            "colorbar": {
             "outlinewidth": 0,
             "ticks": ""
            },
            "colorscale": [
             [
              0,
              "#0d0887"
             ],
             [
              0.1111111111111111,
              "#46039f"
             ],
             [
              0.2222222222222222,
              "#7201a8"
             ],
             [
              0.3333333333333333,
              "#9c179e"
             ],
             [
              0.4444444444444444,
              "#bd3786"
             ],
             [
              0.5555555555555556,
              "#d8576b"
             ],
             [
              0.6666666666666666,
              "#ed7953"
             ],
             [
              0.7777777777777778,
              "#fb9f3a"
             ],
             [
              0.8888888888888888,
              "#fdca26"
             ],
             [
              1,
              "#f0f921"
             ]
            ],
            "type": "contour"
           }
          ],
          "contourcarpet": [
           {
            "colorbar": {
             "outlinewidth": 0,
             "ticks": ""
            },
            "type": "contourcarpet"
           }
          ],
          "heatmap": [
           {
            "colorbar": {
             "outlinewidth": 0,
             "ticks": ""
            },
            "colorscale": [
             [
              0,
              "#0d0887"
             ],
             [
              0.1111111111111111,
              "#46039f"
             ],
             [
              0.2222222222222222,
              "#7201a8"
             ],
             [
              0.3333333333333333,
              "#9c179e"
             ],
             [
              0.4444444444444444,
              "#bd3786"
             ],
             [
              0.5555555555555556,
              "#d8576b"
             ],
             [
              0.6666666666666666,
              "#ed7953"
             ],
             [
              0.7777777777777778,
              "#fb9f3a"
             ],
             [
              0.8888888888888888,
              "#fdca26"
             ],
             [
              1,
              "#f0f921"
             ]
            ],
            "type": "heatmap"
           }
          ],
          "heatmapgl": [
           {
            "colorbar": {
             "outlinewidth": 0,
             "ticks": ""
            },
            "colorscale": [
             [
              0,
              "#0d0887"
             ],
             [
              0.1111111111111111,
              "#46039f"
             ],
             [
              0.2222222222222222,
              "#7201a8"
             ],
             [
              0.3333333333333333,
              "#9c179e"
             ],
             [
              0.4444444444444444,
              "#bd3786"
             ],
             [
              0.5555555555555556,
              "#d8576b"
             ],
             [
              0.6666666666666666,
              "#ed7953"
             ],
             [
              0.7777777777777778,
              "#fb9f3a"
             ],
             [
              0.8888888888888888,
              "#fdca26"
             ],
             [
              1,
              "#f0f921"
             ]
            ],
            "type": "heatmapgl"
           }
          ],
          "histogram": [
           {
            "marker": {
             "pattern": {
              "fillmode": "overlay",
              "size": 10,
              "solidity": 0.2
             }
            },
            "type": "histogram"
           }
          ],
          "histogram2d": [
           {
            "colorbar": {
             "outlinewidth": 0,
             "ticks": ""
            },
            "colorscale": [
             [
              0,
              "#0d0887"
             ],
             [
              0.1111111111111111,
              "#46039f"
             ],
             [
              0.2222222222222222,
              "#7201a8"
             ],
             [
              0.3333333333333333,
              "#9c179e"
             ],
             [
              0.4444444444444444,
              "#bd3786"
             ],
             [
              0.5555555555555556,
              "#d8576b"
             ],
             [
              0.6666666666666666,
              "#ed7953"
             ],
             [
              0.7777777777777778,
              "#fb9f3a"
             ],
             [
              0.8888888888888888,
              "#fdca26"
             ],
             [
              1,
              "#f0f921"
             ]
            ],
            "type": "histogram2d"
           }
          ],
          "histogram2dcontour": [
           {
            "colorbar": {
             "outlinewidth": 0,
             "ticks": ""
            },
            "colorscale": [
             [
              0,
              "#0d0887"
             ],
             [
              0.1111111111111111,
              "#46039f"
             ],
             [
              0.2222222222222222,
              "#7201a8"
             ],
             [
              0.3333333333333333,
              "#9c179e"
             ],
             [
              0.4444444444444444,
              "#bd3786"
             ],
             [
              0.5555555555555556,
              "#d8576b"
             ],
             [
              0.6666666666666666,
              "#ed7953"
             ],
             [
              0.7777777777777778,
              "#fb9f3a"
             ],
             [
              0.8888888888888888,
              "#fdca26"
             ],
             [
              1,
              "#f0f921"
             ]
            ],
            "type": "histogram2dcontour"
           }
          ],
          "mesh3d": [
           {
            "colorbar": {
             "outlinewidth": 0,
             "ticks": ""
            },
            "type": "mesh3d"
           }
          ],
          "parcoords": [
           {
            "line": {
             "colorbar": {
              "outlinewidth": 0,
              "ticks": ""
             }
            },
            "type": "parcoords"
           }
          ],
          "pie": [
           {
            "automargin": true,
            "type": "pie"
           }
          ],
          "scatter": [
           {
            "fillpattern": {
             "fillmode": "overlay",
             "size": 10,
             "solidity": 0.2
            },
            "type": "scatter"
           }
          ],
          "scatter3d": [
           {
            "line": {
             "colorbar": {
              "outlinewidth": 0,
              "ticks": ""
             }
            },
            "marker": {
             "colorbar": {
              "outlinewidth": 0,
              "ticks": ""
             }
            },
            "type": "scatter3d"
           }
          ],
          "scattercarpet": [
           {
            "marker": {
             "colorbar": {
              "outlinewidth": 0,
              "ticks": ""
             }
            },
            "type": "scattercarpet"
           }
          ],
          "scattergeo": [
           {
            "marker": {
             "colorbar": {
              "outlinewidth": 0,
              "ticks": ""
             }
            },
            "type": "scattergeo"
           }
          ],
          "scattergl": [
           {
            "marker": {
             "colorbar": {
              "outlinewidth": 0,
              "ticks": ""
             }
            },
            "type": "scattergl"
           }
          ],
          "scattermapbox": [
           {
            "marker": {
             "colorbar": {
              "outlinewidth": 0,
              "ticks": ""
             }
            },
            "type": "scattermapbox"
           }
          ],
          "scatterpolar": [
           {
            "marker": {
             "colorbar": {
              "outlinewidth": 0,
              "ticks": ""
             }
            },
            "type": "scatterpolar"
           }
          ],
          "scatterpolargl": [
           {
            "marker": {
             "colorbar": {
              "outlinewidth": 0,
              "ticks": ""
             }
            },
            "type": "scatterpolargl"
           }
          ],
          "scatterternary": [
           {
            "marker": {
             "colorbar": {
              "outlinewidth": 0,
              "ticks": ""
             }
            },
            "type": "scatterternary"
           }
          ],
          "surface": [
           {
            "colorbar": {
             "outlinewidth": 0,
             "ticks": ""
            },
            "colorscale": [
             [
              0,
              "#0d0887"
             ],
             [
              0.1111111111111111,
              "#46039f"
             ],
             [
              0.2222222222222222,
              "#7201a8"
             ],
             [
              0.3333333333333333,
              "#9c179e"
             ],
             [
              0.4444444444444444,
              "#bd3786"
             ],
             [
              0.5555555555555556,
              "#d8576b"
             ],
             [
              0.6666666666666666,
              "#ed7953"
             ],
             [
              0.7777777777777778,
              "#fb9f3a"
             ],
             [
              0.8888888888888888,
              "#fdca26"
             ],
             [
              1,
              "#f0f921"
             ]
            ],
            "type": "surface"
           }
          ],
          "table": [
           {
            "cells": {
             "fill": {
              "color": "#EBF0F8"
             },
             "line": {
              "color": "white"
             }
            },
            "header": {
             "fill": {
              "color": "#C8D4E3"
             },
             "line": {
              "color": "white"
             }
            },
            "type": "table"
           }
          ]
         },
         "layout": {
          "annotationdefaults": {
           "arrowcolor": "#2a3f5f",
           "arrowhead": 0,
           "arrowwidth": 1
          },
          "autotypenumbers": "strict",
          "coloraxis": {
           "colorbar": {
            "outlinewidth": 0,
            "ticks": ""
           }
          },
          "colorscale": {
           "diverging": [
            [
             0,
             "#8e0152"
            ],
            [
             0.1,
             "#c51b7d"
            ],
            [
             0.2,
             "#de77ae"
            ],
            [
             0.3,
             "#f1b6da"
            ],
            [
             0.4,
             "#fde0ef"
            ],
            [
             0.5,
             "#f7f7f7"
            ],
            [
             0.6,
             "#e6f5d0"
            ],
            [
             0.7,
             "#b8e186"
            ],
            [
             0.8,
             "#7fbc41"
            ],
            [
             0.9,
             "#4d9221"
            ],
            [
             1,
             "#276419"
            ]
           ],
           "sequential": [
            [
             0,
             "#0d0887"
            ],
            [
             0.1111111111111111,
             "#46039f"
            ],
            [
             0.2222222222222222,
             "#7201a8"
            ],
            [
             0.3333333333333333,
             "#9c179e"
            ],
            [
             0.4444444444444444,
             "#bd3786"
            ],
            [
             0.5555555555555556,
             "#d8576b"
            ],
            [
             0.6666666666666666,
             "#ed7953"
            ],
            [
             0.7777777777777778,
             "#fb9f3a"
            ],
            [
             0.8888888888888888,
             "#fdca26"
            ],
            [
             1,
             "#f0f921"
            ]
           ],
           "sequentialminus": [
            [
             0,
             "#0d0887"
            ],
            [
             0.1111111111111111,
             "#46039f"
            ],
            [
             0.2222222222222222,
             "#7201a8"
            ],
            [
             0.3333333333333333,
             "#9c179e"
            ],
            [
             0.4444444444444444,
             "#bd3786"
            ],
            [
             0.5555555555555556,
             "#d8576b"
            ],
            [
             0.6666666666666666,
             "#ed7953"
            ],
            [
             0.7777777777777778,
             "#fb9f3a"
            ],
            [
             0.8888888888888888,
             "#fdca26"
            ],
            [
             1,
             "#f0f921"
            ]
           ]
          },
          "colorway": [
           "#636efa",
           "#EF553B",
           "#00cc96",
           "#ab63fa",
           "#FFA15A",
           "#19d3f3",
           "#FF6692",
           "#B6E880",
           "#FF97FF",
           "#FECB52"
          ],
          "font": {
           "color": "#2a3f5f"
          },
          "geo": {
           "bgcolor": "white",
           "lakecolor": "white",
           "landcolor": "#E5ECF6",
           "showlakes": true,
           "showland": true,
           "subunitcolor": "white"
          },
          "hoverlabel": {
           "align": "left"
          },
          "hovermode": "closest",
          "mapbox": {
           "style": "light"
          },
          "paper_bgcolor": "white",
          "plot_bgcolor": "#E5ECF6",
          "polar": {
           "angularaxis": {
            "gridcolor": "white",
            "linecolor": "white",
            "ticks": ""
           },
           "bgcolor": "#E5ECF6",
           "radialaxis": {
            "gridcolor": "white",
            "linecolor": "white",
            "ticks": ""
           }
          },
          "scene": {
           "xaxis": {
            "backgroundcolor": "#E5ECF6",
            "gridcolor": "white",
            "gridwidth": 2,
            "linecolor": "white",
            "showbackground": true,
            "ticks": "",
            "zerolinecolor": "white"
           },
           "yaxis": {
            "backgroundcolor": "#E5ECF6",
            "gridcolor": "white",
            "gridwidth": 2,
            "linecolor": "white",
            "showbackground": true,
            "ticks": "",
            "zerolinecolor": "white"
           },
           "zaxis": {
            "backgroundcolor": "#E5ECF6",
            "gridcolor": "white",
            "gridwidth": 2,
            "linecolor": "white",
            "showbackground": true,
            "ticks": "",
            "zerolinecolor": "white"
           }
          },
          "shapedefaults": {
           "line": {
            "color": "#2a3f5f"
           }
          },
          "ternary": {
           "aaxis": {
            "gridcolor": "white",
            "linecolor": "white",
            "ticks": ""
           },
           "baxis": {
            "gridcolor": "white",
            "linecolor": "white",
            "ticks": ""
           },
           "bgcolor": "#E5ECF6",
           "caxis": {
            "gridcolor": "white",
            "linecolor": "white",
            "ticks": ""
           }
          },
          "title": {
           "x": 0.05
          },
          "xaxis": {
           "automargin": true,
           "gridcolor": "white",
           "linecolor": "white",
           "ticks": "",
           "title": {
            "standoff": 15
           },
           "zerolinecolor": "white",
           "zerolinewidth": 2
          },
          "yaxis": {
           "automargin": true,
           "gridcolor": "white",
           "linecolor": "white",
           "ticks": "",
           "title": {
            "standoff": 15
           },
           "zerolinecolor": "white",
           "zerolinewidth": 2
          }
         }
        },
        "title": {
         "text": "Theta values convergence trajectories for the second-order nonlocal continuous Adam"
        },
        "xaxis": {
         "anchor": "y",
         "domain": [
          0,
          1
         ],
         "title": {
          "text": "Time/lr"
         }
        },
        "yaxis": {
         "anchor": "x",
         "domain": [
          0,
          1
         ],
         "title": {
          "text": "Theta value"
         }
        }
       }
      }
     },
     "metadata": {},
     "output_type": "display_data"
    },
    {
     "data": {
      "application/vnd.plotly.v1+json": {
       "config": {
        "plotlyServerURL": "https://plot.ly"
       },
       "data": [
        {
         "legendgroup": "LR=0.1",
         "marker": {
          "size": 3
         },
         "mode": "markers",
         "name": "beta1=0.9, beta2=0.99",
         "type": "scatter",
         "x": [
          1e-12,
          0.10000000000100001,
          0.20000000000100002,
          0.300000000001,
          0.400000000001,
          0.500000000001,
          0.6000000000010001,
          0.700000000001,
          0.800000000001,
          0.900000000001,
          1.000000000001,
          1.1000000000010002,
          1.2000000000010003,
          1.3000000000010001,
          1.4000000000010002,
          1.500000000001,
          1.6000000000010002,
          1.7000000000010003,
          1.8000000000010001,
          1.9000000000010002,
          2.000000000001,
          2.100000000001,
          2.2000000000010003,
          2.3000000000010004,
          2.4000000000010004,
          2.500000000001,
          2.600000000001,
          2.7000000000010003,
          2.8000000000010004,
          2.9000000000010004,
          3.000000000001,
          3.100000000001,
          3.2000000000010003,
          3.3000000000010004,
          3.4000000000010004,
          3.500000000001,
          3.600000000001,
          3.7000000000010003,
          3.8000000000010004,
          3.9000000000010004,
          4.000000000001,
          4.100000000001001,
          4.200000000001,
          4.300000000001,
          4.4000000000010004,
          4.500000000001,
          4.600000000001001,
          4.700000000001,
          4.800000000001001
         ],
         "xaxis": "x",
         "y": [
          -6.000000000707562e-12,
          6.075779842029416,
          23.744857577520055,
          50.542405287189645,
          84.2196380167122,
          122.72677151943508,
          164.19482423359628,
          206.91933148408472,
          249.34600562019733,
          290.0589553088466,
          327.7721839898767,
          361.3253306394876,
          389.6845963605203,
          411.9494888084572,
          427.36546351100105,
          435.3419567890558,
          435.4748786434185,
          427.57232915699836,
          411.6817701805571,
          388.11567526788366,
          357.4707149166571,
          320.63352016689,
          278.7654311791543,
          233.26076206162804,
          185.67825258343618,
          137.6520470493711,
          90.79405014042455,
          46.60146530665551,
          6.3810474464992755,
          -28.803587857276128,
          -58.16102653468756,
          -81.18124446364754,
          -97.63062490079349,
          -107.53822520784095,
          -111.17699094674381,
          -109.04142272909039,
          -101.82138557963954,
          -90.37087613887988,
          -75.67082008759624,
          -58.78614889060285,
          -40.8189674867373,
          -22.86092297562268,
          -5.948417608079517,
          8.976084754993513,
          21.094528157866012,
          29.73480763177663,
          34.383952977231026,
          34.69443696907102,
          30.485144619233186
         ],
         "yaxis": "y"
        }
       ],
       "layout": {
        "annotations": [
         {
          "font": {
           "size": 16
          },
          "showarrow": false,
          "text": "Learning Rate = 0.1",
          "x": 0.5,
          "xanchor": "center",
          "xref": "paper",
          "y": 1,
          "yanchor": "bottom",
          "yref": "paper"
         }
        ],
        "template": {
         "data": {
          "bar": [
           {
            "error_x": {
             "color": "#2a3f5f"
            },
            "error_y": {
             "color": "#2a3f5f"
            },
            "marker": {
             "line": {
              "color": "#E5ECF6",
              "width": 0.5
             },
             "pattern": {
              "fillmode": "overlay",
              "size": 10,
              "solidity": 0.2
             }
            },
            "type": "bar"
           }
          ],
          "barpolar": [
           {
            "marker": {
             "line": {
              "color": "#E5ECF6",
              "width": 0.5
             },
             "pattern": {
              "fillmode": "overlay",
              "size": 10,
              "solidity": 0.2
             }
            },
            "type": "barpolar"
           }
          ],
          "carpet": [
           {
            "aaxis": {
             "endlinecolor": "#2a3f5f",
             "gridcolor": "white",
             "linecolor": "white",
             "minorgridcolor": "white",
             "startlinecolor": "#2a3f5f"
            },
            "baxis": {
             "endlinecolor": "#2a3f5f",
             "gridcolor": "white",
             "linecolor": "white",
             "minorgridcolor": "white",
             "startlinecolor": "#2a3f5f"
            },
            "type": "carpet"
           }
          ],
          "choropleth": [
           {
            "colorbar": {
             "outlinewidth": 0,
             "ticks": ""
            },
            "type": "choropleth"
           }
          ],
          "contour": [
           {
            "colorbar": {
             "outlinewidth": 0,
             "ticks": ""
            },
            "colorscale": [
             [
              0,
              "#0d0887"
             ],
             [
              0.1111111111111111,
              "#46039f"
             ],
             [
              0.2222222222222222,
              "#7201a8"
             ],
             [
              0.3333333333333333,
              "#9c179e"
             ],
             [
              0.4444444444444444,
              "#bd3786"
             ],
             [
              0.5555555555555556,
              "#d8576b"
             ],
             [
              0.6666666666666666,
              "#ed7953"
             ],
             [
              0.7777777777777778,
              "#fb9f3a"
             ],
             [
              0.8888888888888888,
              "#fdca26"
             ],
             [
              1,
              "#f0f921"
             ]
            ],
            "type": "contour"
           }
          ],
          "contourcarpet": [
           {
            "colorbar": {
             "outlinewidth": 0,
             "ticks": ""
            },
            "type": "contourcarpet"
           }
          ],
          "heatmap": [
           {
            "colorbar": {
             "outlinewidth": 0,
             "ticks": ""
            },
            "colorscale": [
             [
              0,
              "#0d0887"
             ],
             [
              0.1111111111111111,
              "#46039f"
             ],
             [
              0.2222222222222222,
              "#7201a8"
             ],
             [
              0.3333333333333333,
              "#9c179e"
             ],
             [
              0.4444444444444444,
              "#bd3786"
             ],
             [
              0.5555555555555556,
              "#d8576b"
             ],
             [
              0.6666666666666666,
              "#ed7953"
             ],
             [
              0.7777777777777778,
              "#fb9f3a"
             ],
             [
              0.8888888888888888,
              "#fdca26"
             ],
             [
              1,
              "#f0f921"
             ]
            ],
            "type": "heatmap"
           }
          ],
          "heatmapgl": [
           {
            "colorbar": {
             "outlinewidth": 0,
             "ticks": ""
            },
            "colorscale": [
             [
              0,
              "#0d0887"
             ],
             [
              0.1111111111111111,
              "#46039f"
             ],
             [
              0.2222222222222222,
              "#7201a8"
             ],
             [
              0.3333333333333333,
              "#9c179e"
             ],
             [
              0.4444444444444444,
              "#bd3786"
             ],
             [
              0.5555555555555556,
              "#d8576b"
             ],
             [
              0.6666666666666666,
              "#ed7953"
             ],
             [
              0.7777777777777778,
              "#fb9f3a"
             ],
             [
              0.8888888888888888,
              "#fdca26"
             ],
             [
              1,
              "#f0f921"
             ]
            ],
            "type": "heatmapgl"
           }
          ],
          "histogram": [
           {
            "marker": {
             "pattern": {
              "fillmode": "overlay",
              "size": 10,
              "solidity": 0.2
             }
            },
            "type": "histogram"
           }
          ],
          "histogram2d": [
           {
            "colorbar": {
             "outlinewidth": 0,
             "ticks": ""
            },
            "colorscale": [
             [
              0,
              "#0d0887"
             ],
             [
              0.1111111111111111,
              "#46039f"
             ],
             [
              0.2222222222222222,
              "#7201a8"
             ],
             [
              0.3333333333333333,
              "#9c179e"
             ],
             [
              0.4444444444444444,
              "#bd3786"
             ],
             [
              0.5555555555555556,
              "#d8576b"
             ],
             [
              0.6666666666666666,
              "#ed7953"
             ],
             [
              0.7777777777777778,
              "#fb9f3a"
             ],
             [
              0.8888888888888888,
              "#fdca26"
             ],
             [
              1,
              "#f0f921"
             ]
            ],
            "type": "histogram2d"
           }
          ],
          "histogram2dcontour": [
           {
            "colorbar": {
             "outlinewidth": 0,
             "ticks": ""
            },
            "colorscale": [
             [
              0,
              "#0d0887"
             ],
             [
              0.1111111111111111,
              "#46039f"
             ],
             [
              0.2222222222222222,
              "#7201a8"
             ],
             [
              0.3333333333333333,
              "#9c179e"
             ],
             [
              0.4444444444444444,
              "#bd3786"
             ],
             [
              0.5555555555555556,
              "#d8576b"
             ],
             [
              0.6666666666666666,
              "#ed7953"
             ],
             [
              0.7777777777777778,
              "#fb9f3a"
             ],
             [
              0.8888888888888888,
              "#fdca26"
             ],
             [
              1,
              "#f0f921"
             ]
            ],
            "type": "histogram2dcontour"
           }
          ],
          "mesh3d": [
           {
            "colorbar": {
             "outlinewidth": 0,
             "ticks": ""
            },
            "type": "mesh3d"
           }
          ],
          "parcoords": [
           {
            "line": {
             "colorbar": {
              "outlinewidth": 0,
              "ticks": ""
             }
            },
            "type": "parcoords"
           }
          ],
          "pie": [
           {
            "automargin": true,
            "type": "pie"
           }
          ],
          "scatter": [
           {
            "fillpattern": {
             "fillmode": "overlay",
             "size": 10,
             "solidity": 0.2
            },
            "type": "scatter"
           }
          ],
          "scatter3d": [
           {
            "line": {
             "colorbar": {
              "outlinewidth": 0,
              "ticks": ""
             }
            },
            "marker": {
             "colorbar": {
              "outlinewidth": 0,
              "ticks": ""
             }
            },
            "type": "scatter3d"
           }
          ],
          "scattercarpet": [
           {
            "marker": {
             "colorbar": {
              "outlinewidth": 0,
              "ticks": ""
             }
            },
            "type": "scattercarpet"
           }
          ],
          "scattergeo": [
           {
            "marker": {
             "colorbar": {
              "outlinewidth": 0,
              "ticks": ""
             }
            },
            "type": "scattergeo"
           }
          ],
          "scattergl": [
           {
            "marker": {
             "colorbar": {
              "outlinewidth": 0,
              "ticks": ""
             }
            },
            "type": "scattergl"
           }
          ],
          "scattermapbox": [
           {
            "marker": {
             "colorbar": {
              "outlinewidth": 0,
              "ticks": ""
             }
            },
            "type": "scattermapbox"
           }
          ],
          "scatterpolar": [
           {
            "marker": {
             "colorbar": {
              "outlinewidth": 0,
              "ticks": ""
             }
            },
            "type": "scatterpolar"
           }
          ],
          "scatterpolargl": [
           {
            "marker": {
             "colorbar": {
              "outlinewidth": 0,
              "ticks": ""
             }
            },
            "type": "scatterpolargl"
           }
          ],
          "scatterternary": [
           {
            "marker": {
             "colorbar": {
              "outlinewidth": 0,
              "ticks": ""
             }
            },
            "type": "scatterternary"
           }
          ],
          "surface": [
           {
            "colorbar": {
             "outlinewidth": 0,
             "ticks": ""
            },
            "colorscale": [
             [
              0,
              "#0d0887"
             ],
             [
              0.1111111111111111,
              "#46039f"
             ],
             [
              0.2222222222222222,
              "#7201a8"
             ],
             [
              0.3333333333333333,
              "#9c179e"
             ],
             [
              0.4444444444444444,
              "#bd3786"
             ],
             [
              0.5555555555555556,
              "#d8576b"
             ],
             [
              0.6666666666666666,
              "#ed7953"
             ],
             [
              0.7777777777777778,
              "#fb9f3a"
             ],
             [
              0.8888888888888888,
              "#fdca26"
             ],
             [
              1,
              "#f0f921"
             ]
            ],
            "type": "surface"
           }
          ],
          "table": [
           {
            "cells": {
             "fill": {
              "color": "#EBF0F8"
             },
             "line": {
              "color": "white"
             }
            },
            "header": {
             "fill": {
              "color": "#C8D4E3"
             },
             "line": {
              "color": "white"
             }
            },
            "type": "table"
           }
          ]
         },
         "layout": {
          "annotationdefaults": {
           "arrowcolor": "#2a3f5f",
           "arrowhead": 0,
           "arrowwidth": 1
          },
          "autotypenumbers": "strict",
          "coloraxis": {
           "colorbar": {
            "outlinewidth": 0,
            "ticks": ""
           }
          },
          "colorscale": {
           "diverging": [
            [
             0,
             "#8e0152"
            ],
            [
             0.1,
             "#c51b7d"
            ],
            [
             0.2,
             "#de77ae"
            ],
            [
             0.3,
             "#f1b6da"
            ],
            [
             0.4,
             "#fde0ef"
            ],
            [
             0.5,
             "#f7f7f7"
            ],
            [
             0.6,
             "#e6f5d0"
            ],
            [
             0.7,
             "#b8e186"
            ],
            [
             0.8,
             "#7fbc41"
            ],
            [
             0.9,
             "#4d9221"
            ],
            [
             1,
             "#276419"
            ]
           ],
           "sequential": [
            [
             0,
             "#0d0887"
            ],
            [
             0.1111111111111111,
             "#46039f"
            ],
            [
             0.2222222222222222,
             "#7201a8"
            ],
            [
             0.3333333333333333,
             "#9c179e"
            ],
            [
             0.4444444444444444,
             "#bd3786"
            ],
            [
             0.5555555555555556,
             "#d8576b"
            ],
            [
             0.6666666666666666,
             "#ed7953"
            ],
            [
             0.7777777777777778,
             "#fb9f3a"
            ],
            [
             0.8888888888888888,
             "#fdca26"
            ],
            [
             1,
             "#f0f921"
            ]
           ],
           "sequentialminus": [
            [
             0,
             "#0d0887"
            ],
            [
             0.1111111111111111,
             "#46039f"
            ],
            [
             0.2222222222222222,
             "#7201a8"
            ],
            [
             0.3333333333333333,
             "#9c179e"
            ],
            [
             0.4444444444444444,
             "#bd3786"
            ],
            [
             0.5555555555555556,
             "#d8576b"
            ],
            [
             0.6666666666666666,
             "#ed7953"
            ],
            [
             0.7777777777777778,
             "#fb9f3a"
            ],
            [
             0.8888888888888888,
             "#fdca26"
            ],
            [
             1,
             "#f0f921"
            ]
           ]
          },
          "colorway": [
           "#636efa",
           "#EF553B",
           "#00cc96",
           "#ab63fa",
           "#FFA15A",
           "#19d3f3",
           "#FF6692",
           "#B6E880",
           "#FF97FF",
           "#FECB52"
          ],
          "font": {
           "color": "#2a3f5f"
          },
          "geo": {
           "bgcolor": "white",
           "lakecolor": "white",
           "landcolor": "#E5ECF6",
           "showlakes": true,
           "showland": true,
           "subunitcolor": "white"
          },
          "hoverlabel": {
           "align": "left"
          },
          "hovermode": "closest",
          "mapbox": {
           "style": "light"
          },
          "paper_bgcolor": "white",
          "plot_bgcolor": "#E5ECF6",
          "polar": {
           "angularaxis": {
            "gridcolor": "white",
            "linecolor": "white",
            "ticks": ""
           },
           "bgcolor": "#E5ECF6",
           "radialaxis": {
            "gridcolor": "white",
            "linecolor": "white",
            "ticks": ""
           }
          },
          "scene": {
           "xaxis": {
            "backgroundcolor": "#E5ECF6",
            "gridcolor": "white",
            "gridwidth": 2,
            "linecolor": "white",
            "showbackground": true,
            "ticks": "",
            "zerolinecolor": "white"
           },
           "yaxis": {
            "backgroundcolor": "#E5ECF6",
            "gridcolor": "white",
            "gridwidth": 2,
            "linecolor": "white",
            "showbackground": true,
            "ticks": "",
            "zerolinecolor": "white"
           },
           "zaxis": {
            "backgroundcolor": "#E5ECF6",
            "gridcolor": "white",
            "gridwidth": 2,
            "linecolor": "white",
            "showbackground": true,
            "ticks": "",
            "zerolinecolor": "white"
           }
          },
          "shapedefaults": {
           "line": {
            "color": "#2a3f5f"
           }
          },
          "ternary": {
           "aaxis": {
            "gridcolor": "white",
            "linecolor": "white",
            "ticks": ""
           },
           "baxis": {
            "gridcolor": "white",
            "linecolor": "white",
            "ticks": ""
           },
           "bgcolor": "#E5ECF6",
           "caxis": {
            "gridcolor": "white",
            "linecolor": "white",
            "ticks": ""
           }
          },
          "title": {
           "x": 0.05
          },
          "xaxis": {
           "automargin": true,
           "gridcolor": "white",
           "linecolor": "white",
           "ticks": "",
           "title": {
            "standoff": 15
           },
           "zerolinecolor": "white",
           "zerolinewidth": 2
          },
          "yaxis": {
           "automargin": true,
           "gridcolor": "white",
           "linecolor": "white",
           "ticks": "",
           "title": {
            "standoff": 15
           },
           "zerolinecolor": "white",
           "zerolinewidth": 2
          }
         }
        },
        "title": {
         "text": "Numerators (m) over Time for the second-order nonlocal continuous Adam"
        },
        "xaxis": {
         "anchor": "y",
         "domain": [
          0,
          1
         ],
         "title": {
          "text": "Time/lr"
         }
        },
        "yaxis": {
         "anchor": "x",
         "domain": [
          0,
          1
         ],
         "title": {
          "text": "Numerator value (m)"
         }
        }
       }
      }
     },
     "metadata": {},
     "output_type": "display_data"
    },
    {
     "data": {
      "application/vnd.plotly.v1+json": {
       "config": {
        "plotlyServerURL": "https://plot.ly"
       },
       "data": [
        {
         "legendgroup": "LR=0.1",
         "marker": {
          "size": 3
         },
         "mode": "markers",
         "name": "beta1=0.9, beta2=0.99",
         "type": "scatter",
         "x": [
          1e-12,
          0.10000000000100001,
          0.20000000000100002,
          0.300000000001,
          0.400000000001,
          0.500000000001,
          0.6000000000010001,
          0.700000000001,
          0.800000000001,
          0.900000000001,
          1.000000000001,
          1.1000000000010002,
          1.2000000000010003,
          1.3000000000010001,
          1.4000000000010002,
          1.500000000001,
          1.6000000000010002,
          1.7000000000010003,
          1.8000000000010001,
          1.9000000000010002,
          2.000000000001,
          2.100000000001,
          2.2000000000010003,
          2.3000000000010004,
          2.4000000000010004,
          2.500000000001,
          2.600000000001,
          2.7000000000010003,
          2.8000000000010004,
          2.9000000000010004,
          3.000000000001,
          3.100000000001,
          3.2000000000010003,
          3.3000000000010004,
          3.4000000000010004,
          3.500000000001,
          3.600000000001,
          3.7000000000010003,
          3.8000000000010004,
          3.9000000000010004,
          4.000000000001,
          4.100000000001001,
          4.200000000001,
          4.300000000001,
          4.4000000000010004,
          4.500000000001,
          4.600000000001001,
          4.700000000001,
          4.800000000001001
         ],
         "xaxis": "x",
         "y": [
          3.600000000852501e-12,
          54.41952110866877,
          428.39278228300884,
          1356.3845677397508,
          2971.8715906057905,
          5319.601189830965,
          8368.235320354015,
          12023.397271537184,
          16141.124271032115,
          20541.806442715795,
          25024.698644024676,
          29383.0454511076,
          33419.68529593221,
          36962.67872197467,
          39880.07747948878,
          42092.52307589952,
          43582.05984386194,
          44395.45819188156,
          44640.52719016238,
          44474.44710911125,
          44084.23437661131,
          43661.15557598122,
          43372.964363557054,
          43339.443637293785,
          43616.84797897069,
          44194.89769158107,
          45006.51412196804,
          45946.98515562996,
          46897.20359536176,
          47745.61544168628,
          48405.051005535446,
          48822.664253112016,
          48982.92187141562,
          48904.622878196096,
          48633.392248253185,
          48231.255917519935,
          47764.989425913445,
          47294.989081306325,
          46866.34500078589,
          46503.46407007815,
          46208.95366638718,
          45966.64757419341,
          45747.865045474726,
          45519.47168609404,
          45252.17059110415,
          44927.65595014596,
          44543.66670495351,
          44116.42846652621,
          43680.354309011476
         ],
         "yaxis": "y"
        }
       ],
       "layout": {
        "annotations": [
         {
          "font": {
           "size": 16
          },
          "showarrow": false,
          "text": "Learning Rate = 0.1",
          "x": 0.5,
          "xanchor": "center",
          "xref": "paper",
          "y": 1,
          "yanchor": "bottom",
          "yref": "paper"
         }
        ],
        "template": {
         "data": {
          "bar": [
           {
            "error_x": {
             "color": "#2a3f5f"
            },
            "error_y": {
             "color": "#2a3f5f"
            },
            "marker": {
             "line": {
              "color": "#E5ECF6",
              "width": 0.5
             },
             "pattern": {
              "fillmode": "overlay",
              "size": 10,
              "solidity": 0.2
             }
            },
            "type": "bar"
           }
          ],
          "barpolar": [
           {
            "marker": {
             "line": {
              "color": "#E5ECF6",
              "width": 0.5
             },
             "pattern": {
              "fillmode": "overlay",
              "size": 10,
              "solidity": 0.2
             }
            },
            "type": "barpolar"
           }
          ],
          "carpet": [
           {
            "aaxis": {
             "endlinecolor": "#2a3f5f",
             "gridcolor": "white",
             "linecolor": "white",
             "minorgridcolor": "white",
             "startlinecolor": "#2a3f5f"
            },
            "baxis": {
             "endlinecolor": "#2a3f5f",
             "gridcolor": "white",
             "linecolor": "white",
             "minorgridcolor": "white",
             "startlinecolor": "#2a3f5f"
            },
            "type": "carpet"
           }
          ],
          "choropleth": [
           {
            "colorbar": {
             "outlinewidth": 0,
             "ticks": ""
            },
            "type": "choropleth"
           }
          ],
          "contour": [
           {
            "colorbar": {
             "outlinewidth": 0,
             "ticks": ""
            },
            "colorscale": [
             [
              0,
              "#0d0887"
             ],
             [
              0.1111111111111111,
              "#46039f"
             ],
             [
              0.2222222222222222,
              "#7201a8"
             ],
             [
              0.3333333333333333,
              "#9c179e"
             ],
             [
              0.4444444444444444,
              "#bd3786"
             ],
             [
              0.5555555555555556,
              "#d8576b"
             ],
             [
              0.6666666666666666,
              "#ed7953"
             ],
             [
              0.7777777777777778,
              "#fb9f3a"
             ],
             [
              0.8888888888888888,
              "#fdca26"
             ],
             [
              1,
              "#f0f921"
             ]
            ],
            "type": "contour"
           }
          ],
          "contourcarpet": [
           {
            "colorbar": {
             "outlinewidth": 0,
             "ticks": ""
            },
            "type": "contourcarpet"
           }
          ],
          "heatmap": [
           {
            "colorbar": {
             "outlinewidth": 0,
             "ticks": ""
            },
            "colorscale": [
             [
              0,
              "#0d0887"
             ],
             [
              0.1111111111111111,
              "#46039f"
             ],
             [
              0.2222222222222222,
              "#7201a8"
             ],
             [
              0.3333333333333333,
              "#9c179e"
             ],
             [
              0.4444444444444444,
              "#bd3786"
             ],
             [
              0.5555555555555556,
              "#d8576b"
             ],
             [
              0.6666666666666666,
              "#ed7953"
             ],
             [
              0.7777777777777778,
              "#fb9f3a"
             ],
             [
              0.8888888888888888,
              "#fdca26"
             ],
             [
              1,
              "#f0f921"
             ]
            ],
            "type": "heatmap"
           }
          ],
          "heatmapgl": [
           {
            "colorbar": {
             "outlinewidth": 0,
             "ticks": ""
            },
            "colorscale": [
             [
              0,
              "#0d0887"
             ],
             [
              0.1111111111111111,
              "#46039f"
             ],
             [
              0.2222222222222222,
              "#7201a8"
             ],
             [
              0.3333333333333333,
              "#9c179e"
             ],
             [
              0.4444444444444444,
              "#bd3786"
             ],
             [
              0.5555555555555556,
              "#d8576b"
             ],
             [
              0.6666666666666666,
              "#ed7953"
             ],
             [
              0.7777777777777778,
              "#fb9f3a"
             ],
             [
              0.8888888888888888,
              "#fdca26"
             ],
             [
              1,
              "#f0f921"
             ]
            ],
            "type": "heatmapgl"
           }
          ],
          "histogram": [
           {
            "marker": {
             "pattern": {
              "fillmode": "overlay",
              "size": 10,
              "solidity": 0.2
             }
            },
            "type": "histogram"
           }
          ],
          "histogram2d": [
           {
            "colorbar": {
             "outlinewidth": 0,
             "ticks": ""
            },
            "colorscale": [
             [
              0,
              "#0d0887"
             ],
             [
              0.1111111111111111,
              "#46039f"
             ],
             [
              0.2222222222222222,
              "#7201a8"
             ],
             [
              0.3333333333333333,
              "#9c179e"
             ],
             [
              0.4444444444444444,
              "#bd3786"
             ],
             [
              0.5555555555555556,
              "#d8576b"
             ],
             [
              0.6666666666666666,
              "#ed7953"
             ],
             [
              0.7777777777777778,
              "#fb9f3a"
             ],
             [
              0.8888888888888888,
              "#fdca26"
             ],
             [
              1,
              "#f0f921"
             ]
            ],
            "type": "histogram2d"
           }
          ],
          "histogram2dcontour": [
           {
            "colorbar": {
             "outlinewidth": 0,
             "ticks": ""
            },
            "colorscale": [
             [
              0,
              "#0d0887"
             ],
             [
              0.1111111111111111,
              "#46039f"
             ],
             [
              0.2222222222222222,
              "#7201a8"
             ],
             [
              0.3333333333333333,
              "#9c179e"
             ],
             [
              0.4444444444444444,
              "#bd3786"
             ],
             [
              0.5555555555555556,
              "#d8576b"
             ],
             [
              0.6666666666666666,
              "#ed7953"
             ],
             [
              0.7777777777777778,
              "#fb9f3a"
             ],
             [
              0.8888888888888888,
              "#fdca26"
             ],
             [
              1,
              "#f0f921"
             ]
            ],
            "type": "histogram2dcontour"
           }
          ],
          "mesh3d": [
           {
            "colorbar": {
             "outlinewidth": 0,
             "ticks": ""
            },
            "type": "mesh3d"
           }
          ],
          "parcoords": [
           {
            "line": {
             "colorbar": {
              "outlinewidth": 0,
              "ticks": ""
             }
            },
            "type": "parcoords"
           }
          ],
          "pie": [
           {
            "automargin": true,
            "type": "pie"
           }
          ],
          "scatter": [
           {
            "fillpattern": {
             "fillmode": "overlay",
             "size": 10,
             "solidity": 0.2
            },
            "type": "scatter"
           }
          ],
          "scatter3d": [
           {
            "line": {
             "colorbar": {
              "outlinewidth": 0,
              "ticks": ""
             }
            },
            "marker": {
             "colorbar": {
              "outlinewidth": 0,
              "ticks": ""
             }
            },
            "type": "scatter3d"
           }
          ],
          "scattercarpet": [
           {
            "marker": {
             "colorbar": {
              "outlinewidth": 0,
              "ticks": ""
             }
            },
            "type": "scattercarpet"
           }
          ],
          "scattergeo": [
           {
            "marker": {
             "colorbar": {
              "outlinewidth": 0,
              "ticks": ""
             }
            },
            "type": "scattergeo"
           }
          ],
          "scattergl": [
           {
            "marker": {
             "colorbar": {
              "outlinewidth": 0,
              "ticks": ""
             }
            },
            "type": "scattergl"
           }
          ],
          "scattermapbox": [
           {
            "marker": {
             "colorbar": {
              "outlinewidth": 0,
              "ticks": ""
             }
            },
            "type": "scattermapbox"
           }
          ],
          "scatterpolar": [
           {
            "marker": {
             "colorbar": {
              "outlinewidth": 0,
              "ticks": ""
             }
            },
            "type": "scatterpolar"
           }
          ],
          "scatterpolargl": [
           {
            "marker": {
             "colorbar": {
              "outlinewidth": 0,
              "ticks": ""
             }
            },
            "type": "scatterpolargl"
           }
          ],
          "scatterternary": [
           {
            "marker": {
             "colorbar": {
              "outlinewidth": 0,
              "ticks": ""
             }
            },
            "type": "scatterternary"
           }
          ],
          "surface": [
           {
            "colorbar": {
             "outlinewidth": 0,
             "ticks": ""
            },
            "colorscale": [
             [
              0,
              "#0d0887"
             ],
             [
              0.1111111111111111,
              "#46039f"
             ],
             [
              0.2222222222222222,
              "#7201a8"
             ],
             [
              0.3333333333333333,
              "#9c179e"
             ],
             [
              0.4444444444444444,
              "#bd3786"
             ],
             [
              0.5555555555555556,
              "#d8576b"
             ],
             [
              0.6666666666666666,
              "#ed7953"
             ],
             [
              0.7777777777777778,
              "#fb9f3a"
             ],
             [
              0.8888888888888888,
              "#fdca26"
             ],
             [
              1,
              "#f0f921"
             ]
            ],
            "type": "surface"
           }
          ],
          "table": [
           {
            "cells": {
             "fill": {
              "color": "#EBF0F8"
             },
             "line": {
              "color": "white"
             }
            },
            "header": {
             "fill": {
              "color": "#C8D4E3"
             },
             "line": {
              "color": "white"
             }
            },
            "type": "table"
           }
          ]
         },
         "layout": {
          "annotationdefaults": {
           "arrowcolor": "#2a3f5f",
           "arrowhead": 0,
           "arrowwidth": 1
          },
          "autotypenumbers": "strict",
          "coloraxis": {
           "colorbar": {
            "outlinewidth": 0,
            "ticks": ""
           }
          },
          "colorscale": {
           "diverging": [
            [
             0,
             "#8e0152"
            ],
            [
             0.1,
             "#c51b7d"
            ],
            [
             0.2,
             "#de77ae"
            ],
            [
             0.3,
             "#f1b6da"
            ],
            [
             0.4,
             "#fde0ef"
            ],
            [
             0.5,
             "#f7f7f7"
            ],
            [
             0.6,
             "#e6f5d0"
            ],
            [
             0.7,
             "#b8e186"
            ],
            [
             0.8,
             "#7fbc41"
            ],
            [
             0.9,
             "#4d9221"
            ],
            [
             1,
             "#276419"
            ]
           ],
           "sequential": [
            [
             0,
             "#0d0887"
            ],
            [
             0.1111111111111111,
             "#46039f"
            ],
            [
             0.2222222222222222,
             "#7201a8"
            ],
            [
             0.3333333333333333,
             "#9c179e"
            ],
            [
             0.4444444444444444,
             "#bd3786"
            ],
            [
             0.5555555555555556,
             "#d8576b"
            ],
            [
             0.6666666666666666,
             "#ed7953"
            ],
            [
             0.7777777777777778,
             "#fb9f3a"
            ],
            [
             0.8888888888888888,
             "#fdca26"
            ],
            [
             1,
             "#f0f921"
            ]
           ],
           "sequentialminus": [
            [
             0,
             "#0d0887"
            ],
            [
             0.1111111111111111,
             "#46039f"
            ],
            [
             0.2222222222222222,
             "#7201a8"
            ],
            [
             0.3333333333333333,
             "#9c179e"
            ],
            [
             0.4444444444444444,
             "#bd3786"
            ],
            [
             0.5555555555555556,
             "#d8576b"
            ],
            [
             0.6666666666666666,
             "#ed7953"
            ],
            [
             0.7777777777777778,
             "#fb9f3a"
            ],
            [
             0.8888888888888888,
             "#fdca26"
            ],
            [
             1,
             "#f0f921"
            ]
           ]
          },
          "colorway": [
           "#636efa",
           "#EF553B",
           "#00cc96",
           "#ab63fa",
           "#FFA15A",
           "#19d3f3",
           "#FF6692",
           "#B6E880",
           "#FF97FF",
           "#FECB52"
          ],
          "font": {
           "color": "#2a3f5f"
          },
          "geo": {
           "bgcolor": "white",
           "lakecolor": "white",
           "landcolor": "#E5ECF6",
           "showlakes": true,
           "showland": true,
           "subunitcolor": "white"
          },
          "hoverlabel": {
           "align": "left"
          },
          "hovermode": "closest",
          "mapbox": {
           "style": "light"
          },
          "paper_bgcolor": "white",
          "plot_bgcolor": "#E5ECF6",
          "polar": {
           "angularaxis": {
            "gridcolor": "white",
            "linecolor": "white",
            "ticks": ""
           },
           "bgcolor": "#E5ECF6",
           "radialaxis": {
            "gridcolor": "white",
            "linecolor": "white",
            "ticks": ""
           }
          },
          "scene": {
           "xaxis": {
            "backgroundcolor": "#E5ECF6",
            "gridcolor": "white",
            "gridwidth": 2,
            "linecolor": "white",
            "showbackground": true,
            "ticks": "",
            "zerolinecolor": "white"
           },
           "yaxis": {
            "backgroundcolor": "#E5ECF6",
            "gridcolor": "white",
            "gridwidth": 2,
            "linecolor": "white",
            "showbackground": true,
            "ticks": "",
            "zerolinecolor": "white"
           },
           "zaxis": {
            "backgroundcolor": "#E5ECF6",
            "gridcolor": "white",
            "gridwidth": 2,
            "linecolor": "white",
            "showbackground": true,
            "ticks": "",
            "zerolinecolor": "white"
           }
          },
          "shapedefaults": {
           "line": {
            "color": "#2a3f5f"
           }
          },
          "ternary": {
           "aaxis": {
            "gridcolor": "white",
            "linecolor": "white",
            "ticks": ""
           },
           "baxis": {
            "gridcolor": "white",
            "linecolor": "white",
            "ticks": ""
           },
           "bgcolor": "#E5ECF6",
           "caxis": {
            "gridcolor": "white",
            "linecolor": "white",
            "ticks": ""
           }
          },
          "title": {
           "x": 0.05
          },
          "xaxis": {
           "automargin": true,
           "gridcolor": "white",
           "linecolor": "white",
           "ticks": "",
           "title": {
            "standoff": 15
           },
           "zerolinecolor": "white",
           "zerolinewidth": 2
          },
          "yaxis": {
           "automargin": true,
           "gridcolor": "white",
           "linecolor": "white",
           "ticks": "",
           "title": {
            "standoff": 15
           },
           "zerolinecolor": "white",
           "zerolinewidth": 2
          }
         }
        },
        "title": {
         "text": "Denominators (v) over Time for the second-order nonlocal continuous Adam"
        },
        "xaxis": {
         "anchor": "y",
         "domain": [
          0,
          1
         ],
         "title": {
          "text": "Time/lr"
         }
        },
        "yaxis": {
         "anchor": "x",
         "domain": [
          0,
          1
         ],
         "title": {
          "text": "Denominator value (v)"
         }
        }
       }
      }
     },
     "metadata": {},
     "output_type": "display_data"
    }
   ],
   "source": [
    "import plotly.graph_objects as go\n",
    "from plotly.subplots import make_subplots\n",
    "import numpy as np\n",
    "\n",
    "fig_theta = make_subplots(rows=1, cols=n_learning_rates, subplot_titles=[f'Learning Rate = {lr}' for lr in param_grid['lr']])\n",
    "fig_m = make_subplots(rows=1, cols=n_learning_rates, subplot_titles=[f'Learning Rate = {lr}' for lr in param_grid['lr']])\n",
    "fig_v = make_subplots(rows=1, cols=n_learning_rates, subplot_titles=[f'Learning Rate = {lr}' for lr in param_grid['lr']])\n",
    "\n",
    "fig_theta.update_layout(title_text='Theta values convergence trajectories for the second-order nonlocal continuous Adam')\n",
    "fig_m.update_layout(title_text='Numerators (m) over Time for the second-order nonlocal continuous Adam')\n",
    "fig_v.update_layout(title_text='Denominators (v) over Time for the second-order nonlocal continuous Adam')\n",
    "\n",
    "for i, lr in enumerate(param_grid['lr']):\n",
    "\n",
    "    filtered_params = [p for p in param_list if p['lr'] == lr]\n",
    "\n",
    "    for params in filtered_params:\n",
    "        print(f'\\nNonlocal Continuous Adam Configuration: {params}')\n",
    "\n",
    "        solver = NonlocalSolverMomentum2ndOrder(f=f, dL=dL, t_span=t, y0=np.array([1.0]),dy0=np.array([0.0]), alpha=params['lr'],\n",
    "                                        betas=[params['beta1'], params['beta2']])\n",
    "        t_values, y_values, dy_values = solver.solve()\n",
    "        \n",
    "        label = f\"beta1={params['beta1']}, beta2={params['beta2']}\"\n",
    "\n",
    "        # Agregar datos a la figura de theta\n",
    "        fig_theta.add_trace(go.Scatter(\n",
    "            x=t_values/params['lr'],\n",
    "            y=y_values,\n",
    "            mode='lines',\n",
    "            name=label,\n",
    "            legendgroup=f'LR={lr}',\n",
    "        ), row=1, col=i+1)\n",
    "        \n",
    "        # Obtener los valores de numerators y denominators\n",
    "        numerators = solver.m\n",
    "        denominators = solver.v\n",
    "\n",
    "        # Agregar datos a la figura de numerators\n",
    "        fig_m.add_trace(go.Scatter(\n",
    "            x=[item[0] for item in numerators],\n",
    "            y=[item[1]/params['lr'] for item in numerators],\n",
    "            mode='markers',\n",
    "            marker=dict(size=3),\n",
    "            name=label,\n",
    "            legendgroup=f'LR={lr}',\n",
    "        ), row=1, col=i+1)\n",
    "        \n",
    "        # Agregar datos a la figura de denominators\n",
    "        fig_v.add_trace(go.Scatter(\n",
    "            x=[item[0] for item in denominators],\n",
    "            y=[item[1]/params['lr'] for item in denominators],\n",
    "            mode='markers',\n",
    "            marker=dict(size=3),\n",
    "            name=label,\n",
    "            legendgroup=f'LR={lr}',\n",
    "        ), row=1, col=i+1)\n",
    "\n",
    "# Actualización de los ejes\n",
    "fig_theta.update_xaxes(title_text=\"Time/lr\")\n",
    "fig_theta.update_yaxes(title_text=\"Theta value\")\n",
    "\n",
    "fig_m.update_xaxes(title_text=\"Time/lr\")\n",
    "fig_m.update_yaxes(title_text=\"Numerator value (m)\")\n",
    "\n",
    "fig_v.update_xaxes(title_text=\"Time/lr\")\n",
    "fig_v.update_yaxes(title_text=\"Denominator value (v)\")\n",
    "\n",
    "# Mostrar las figuras\n",
    "fig_theta.show()\n",
    "fig_m.show()\n",
    "fig_v.show()"
   ]
  }
 ],
 "metadata": {
  "kernelspec": {
   "display_name": "Python 3",
   "language": "python",
   "name": "python3"
  },
  "language_info": {
   "codemirror_mode": {
    "name": "ipython",
    "version": 3
   },
   "file_extension": ".py",
   "mimetype": "text/x-python",
   "name": "python",
   "nbconvert_exporter": "python",
   "pygments_lexer": "ipython3",
   "version": "3.11.8"
  }
 },
 "nbformat": 4,
 "nbformat_minor": 2
}
