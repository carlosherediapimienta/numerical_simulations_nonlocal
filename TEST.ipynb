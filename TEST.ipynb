{
 "cells": [
  {
   "cell_type": "code",
   "execution_count": 69,
   "metadata": {},
   "outputs": [],
   "source": [
    "from scipy.integrate import fixed_quad\n",
    "from scipy.interpolate import interp1d\n",
    "from concurrent.futures import ThreadPoolExecutor\n",
    "from numba import njit\n",
    "from typing import Callable\n",
    "import numpy as np"
   ]
  },
  {
   "cell_type": "code",
   "execution_count": 79,
   "metadata": {},
   "outputs": [],
   "source": [
    "class NonlocalSolverMomentum2ndOrder:\n",
    "    def __init__(self, f: Callable, dL: Callable, t_span: list, y0: np.array, dy0: np.array, betas: list,\n",
    "                 alpha: float, omega:float = 0, lambda_:float = 0, verbose: bool = True):\n",
    "        \n",
    "        np.random.seed(33)\n",
    "\n",
    "        self.f = f\n",
    "        self.t_span = t_span\n",
    "        self.y0 = y0\n",
    "        self.dy0 = dy0  \n",
    "        self.alpha = alpha\n",
    "        self.omega = omega\n",
    "        self.t = np.arange(t_span[0], t_span[1], alpha)\n",
    "        self.betas = betas\n",
    "        self.lambda_ = lambda_\n",
    "        self.dL = dL\n",
    "        self.alpha_t = lambda t: 2 * np.sqrt((1-betas[1]**(t/alpha)) / alpha) / ( alpha * (1 - betas[0]**(t/alpha)))\n",
    "        \n",
    "        self.epsilon_t = lambda t: np.sqrt((1-betas[1]**(t/alpha)) / alpha) * 1e-8\n",
    "\n",
    "        self.smoothing_factor = 0.5\n",
    "        self.smoothing_factor_max = 0.9999\n",
    "        self.increments = np.linspace(self.smoothing_factor, self.smoothing_factor_max, num=int(1e2))\n",
    "        self.max_value_index = False\n",
    "\n",
    "        self.max_iteration = 600\n",
    "        self.global_error_tolerance = 1e-4\n",
    "        self.verbose = verbose\n",
    "\n",
    "\n",
    "    def __k__(self, i: int, s: float) -> float:\n",
    "        exp_term = np.exp(-s / self.alpha)\n",
    "        \n",
    "        if np.all(exp_term == 0.0):\n",
    "            return 0.0\n",
    "        \n",
    "        beta_value = self.betas[i - 1]\n",
    "        if beta_value == 0.5:\n",
    "            return (s / self.alpha) * exp_term\n",
    "        \n",
    "        sqrt_term = np.sqrt(abs(2 * beta_value - 1))\n",
    "        arg_term = (sqrt_term / self.alpha) * s\n",
    "        \n",
    "        if beta_value > 0.5:\n",
    "            sinh_value = np.sinh(arg_term)\n",
    "            return (2 * (1 - beta_value)) / sqrt_term * exp_term * sinh_value\n",
    "        \n",
    "        # Caso beta_value < 0.5\n",
    "        return (2 * (1 - beta_value)) / sqrt_term * exp_term * np.sin(arg_term)\n",
    "\n",
    "        \n",
    "    def __rhs_system__(self, t, y_vec):\n",
    "        y1, y2 = y_vec\n",
    "        dy1 = y2\n",
    "        dy2 =  (2 / self.alpha) * (y2 + (self.omega / self.alpha) * y1)\n",
    "        return np.array([dy1, dy2])\n",
    "    \n",
    "    def __initial_solution__(self) -> np.array:\n",
    "        return self.__solve_ode__(self.__rhs_system__)\n",
    "       \n",
    "    def __solve_ode__(self, rhs_ode: Callable) -> np.array:\n",
    "        t_values = self.t\n",
    "        n = len(t_values)\n",
    "        y_values = np.zeros((n, 2)) \n",
    "        \n",
    "        # Inicialización de valores iniciales\n",
    "        y_values[0, 0] = self.y0.item() if isinstance(self.y0, np.ndarray) else self.y0\n",
    "        y_values[0, 1] = self.dy0.item() if isinstance(self.dy0, np.ndarray) else self.dy0   \n",
    "        \n",
    "        # Integración a lo largo del tiempo\n",
    "        for i in range(1, n):\n",
    "            dy = rhs_ode(t_values[i - 1], y_values[i - 1])\n",
    "            y_values[i] = y_values[i - 1] + self.alpha * dy\n",
    "        \n",
    "        return y_values\n",
    "          \n",
    "    def __rhs_with_integral_part__(self, y: np.array) -> np.array:\n",
    "        y_interpolated = interp1d(self.t, y[:, 0], kind='cubic', fill_value=\"extrapolate\", assume_sorted=True)\n",
    "\n",
    "        dy_dt = np.gradient(y_interpolated(self.t), self.t)  \n",
    "        dy_interpolated = interp1d(self.t, dy_dt, kind='cubic', fill_value=\"extrapolate\", assume_sorted=True)\n",
    "\n",
    "        self.m = []\n",
    "        self.v = []\n",
    "\n",
    "        def integral(t):\n",
    "            def integrand(i, tp):\n",
    "                k_value = self.__k__(i, t - tp)\n",
    "                df_value = self.dL(y_interpolated(tp))\n",
    "                common_term = df_value + 0.5 * self.lambda_ * y_interpolated(tp)\n",
    "                return k_value * common_term if i == 1 else k_value * (common_term ** 2)\n",
    "            \n",
    "            numerador_func = lambda tp: integrand(1, tp)\n",
    "            denominador_func = lambda tp: integrand(2, tp)\n",
    "\n",
    "            with ThreadPoolExecutor() as executor:\n",
    "                future_numerator = executor.submit(fixed_quad, numerador_func, 0, t, n=int(1e3))\n",
    "                future_denominator = executor.submit(fixed_quad, denominador_func, 0, t, n=int(1e3))\n",
    "\n",
    "                value_numerator, _ = future_numerator.result()\n",
    "                value_denominator, _ = future_denominator.result()\n",
    "\n",
    "            v_value = value_denominator\n",
    "            v_sqrt_value = np.sqrt(v_value) \n",
    "            m_value = value_numerator\n",
    "\n",
    "            self.m.append((t, m_value))\n",
    "            self.v.append((t, v_value))   \n",
    "\n",
    "            return m_value / (v_sqrt_value + self.epsilon_t(t))\n",
    "\n",
    "        def rhs(t, y):\n",
    "            y_vec = np.array([y_interpolated(t), dy_interpolated(t)])\n",
    "            return self.__rhs_system__(t, y_vec) + self.alpha_t(t) * integral(t)\n",
    "                \n",
    "        return self.__solve_ode__(rhs)\n",
    "    \n",
    "    @staticmethod\n",
    "    @njit(parallel=True)\n",
    "    def __global_error__(y_new: np.array, y_guess: np.array) -> float:\n",
    "        diff = y_new - y_guess\n",
    "        return np.sqrt(np.sum(diff ** 2))\n",
    "    \n",
    "    @staticmethod\n",
    "    @njit(parallel=True)\n",
    "    def __next_y__(smoothing_factor: float, y_current: np.array, y_guess: np.array) -> np.array:\n",
    "        return (smoothing_factor * y_current) + ((1.0 - smoothing_factor) * y_guess)            \n",
    "        \n",
    "    def solve(self):\n",
    "        self.iteration = 0\n",
    "\n",
    "        y_current = self.__initial_solution__()\n",
    "        y_guess = self.__rhs_with_integral_part__(y_current)\n",
    "        current_error = self.__global_error__(y_current, y_guess)\n",
    "\n",
    "        if self.verbose:\n",
    "            print(f\"Iteration {self.iteration} advanced. Current error: {current_error}.\")\n",
    "\n",
    "        last_error = current_error\n",
    "        while current_error > self.global_error_tolerance:\n",
    "            \n",
    "            y_new = self.__next_y__(self.smoothing_factor, y_current, y_guess)\n",
    "            y_guess = self.__rhs_with_integral_part__(y_new)\n",
    "            current_error = self.__global_error__(y_new, y_guess)\n",
    "\n",
    "            y_current = y_new\n",
    "            self.iteration += 1\n",
    "\n",
    "            if current_error > last_error:\n",
    "                    if self.max_value_index:\n",
    "                        print(f'Maximum value of the smoothing factor reached. The algorithm will stop without reaching the desired tolerance. The error is {current_error}.')\n",
    "                        break\n",
    "\n",
    "                    try:\n",
    "                        next_factor = self.increments[np.searchsorted(self.increments, self.smoothing_factor, side='right')]\n",
    "                    except IndexError:\n",
    "                        next_factor = self.smoothing_factor_max\n",
    "                        print(f'Smoothing factor is at maximum value.')\n",
    "                        self.max_value_index = True\n",
    "\n",
    "                    self.smoothing_factor = min(self.smoothing_factor_max, next_factor)\n",
    "            last_error = current_error\n",
    "\n",
    "            if self.verbose and self.iteration % 1 == 0:\n",
    "                print(f\"Iteration {self.iteration} advanced. Current error: {current_error}.\")\n",
    "\n",
    "            if self.iteration >= self.max_iteration:\n",
    "                print(f\"Maximum number of iterations reached. Current error: {current_error}.\") \n",
    "                break\n",
    "            \n",
    "        print(f'Last iteration: {self.iteration}. Final error: {current_error}')\n",
    "\n",
    "        self.y = y_guess[:, 0]  \n",
    "        self.dy = y_guess[:, 1]  \n",
    "        self.global_error = current_error\n",
    "\n",
    "        return self.t, self.y, self.dy"
   ]
  },
  {
   "cell_type": "code",
   "execution_count": 30,
   "metadata": {},
   "outputs": [],
   "source": [
    "from sklearn.model_selection import ParameterGrid"
   ]
  },
  {
   "cell_type": "code",
   "execution_count": 75,
   "metadata": {},
   "outputs": [],
   "source": [
    "dL = lambda y: 2 * (y - 4)\n",
    "f = lambda x, y: 0.0\n",
    "t = [1e-12, 3]"
   ]
  },
  {
   "cell_type": "code",
   "execution_count": 77,
   "metadata": {},
   "outputs": [],
   "source": [
    "param_grid = {'lr': [0.1], 'beta1': [0.9],'beta2': [0.999]}\n",
    "n_learning_rates = len(param_grid['lr'])\n",
    "param_list = list(ParameterGrid(param_grid))"
   ]
  },
  {
   "cell_type": "code",
   "execution_count": 80,
   "metadata": {},
   "outputs": [
    {
     "name": "stdout",
     "output_type": "stream",
     "text": [
      "\n",
      "Nonlocal Continuous Adam Configuration: {'beta1': 0.9, 'beta2': 0.999, 'lr': 0.1}\n",
      "Iteration 0 advanced. Current error: 240.86374226721603.\n",
      "Iteration 1 advanced. Current error: 1761.6521072730536.\n",
      "Iteration 2 advanced. Current error: 2600.8843913587602.\n",
      "Iteration 3 advanced. Current error: 2980.503893538146.\n",
      "Iteration 4 advanced. Current error: 3134.7966829726047.\n",
      "Iteration 5 advanced. Current error: 3179.919346300986.\n",
      "Iteration 6 advanced. Current error: 3172.5301914246998.\n",
      "Iteration 7 advanced. Current error: 3139.9599965103757.\n",
      "Iteration 8 advanced. Current error: 3095.3761512663477.\n",
      "Iteration 9 advanced. Current error: 3045.441032091287.\n",
      "Iteration 10 advanced. Current error: 2993.4786353127756.\n",
      "Iteration 11 advanced. Current error: 2941.1101602699755.\n",
      "Iteration 12 advanced. Current error: 2889.0959979119307.\n",
      "Iteration 13 advanced. Current error: 2837.7672501519464.\n",
      "Iteration 14 advanced. Current error: 2787.2454843716696.\n",
      "Iteration 15 advanced. Current error: 2737.553611870304.\n",
      "Iteration 16 advanced. Current error: 2688.6710576553046.\n",
      "Iteration 17 advanced. Current error: 2640.560620147315.\n",
      "Iteration 18 advanced. Current error: 2593.1810864800477.\n",
      "Iteration 19 advanced. Current error: 2546.4927861306733.\n",
      "Iteration 20 advanced. Current error: 2500.459723345531.\n",
      "Iteration 21 advanced. Current error: 2455.050113554554.\n",
      "Iteration 22 advanced. Current error: 2410.2362241994097.\n",
      "Iteration 23 advanced. Current error: 2365.9939532012118.\n",
      "Iteration 24 advanced. Current error: 2322.3023450859523.\n",
      "Iteration 25 advanced. Current error: 2279.1431304437183.\n",
      "Iteration 26 advanced. Current error: 2236.500319877285.\n",
      "Iteration 27 advanced. Current error: 2194.3598587776596.\n",
      "Iteration 28 advanced. Current error: 2152.709338898495.\n",
      "Iteration 29 advanced. Current error: 2111.5377591497263.\n",
      "Iteration 30 advanced. Current error: 2070.8353275228674.\n",
      "Iteration 31 advanced. Current error: 2030.59329678029.\n",
      "Iteration 32 advanced. Current error: 1990.8038276433683.\n",
      "Iteration 33 advanced. Current error: 1951.4598743312185.\n",
      "Iteration 34 advanced. Current error: 1912.555088293186.\n",
      "Iteration 35 advanced. Current error: 1874.0837368032599.\n",
      "Iteration 36 advanced. Current error: 1836.0406337543154.\n",
      "Iteration 37 advanced. Current error: 1798.421080520921.\n",
      "Iteration 38 advanced. Current error: 1761.2208151803136.\n",
      "Iteration 39 advanced. Current error: 1724.4359687122455.\n",
      "Iteration 40 advanced. Current error: 1688.0630270607212.\n",
      "Iteration 41 advanced. Current error: 1652.0987981477253.\n",
      "Iteration 42 advanced. Current error: 1616.5403830941254.\n",
      "Iteration 43 advanced. Current error: 1581.3851510364357.\n",
      "Iteration 44 advanced. Current error: 1546.630717033096.\n",
      "Iteration 45 advanced. Current error: 1512.2749226422281.\n",
      "Iteration 46 advanced. Current error: 1478.315818821903.\n",
      "Iteration 47 advanced. Current error: 1444.7516508633648.\n",
      "Iteration 48 advanced. Current error: 1411.5808451143178.\n",
      "Iteration 49 advanced. Current error: 1378.801997289846.\n",
      "Iteration 50 advanced. Current error: 1346.4138622014323.\n",
      "Iteration 51 advanced. Current error: 1314.4153447614815.\n",
      "Iteration 52 advanced. Current error: 1282.8054921442333.\n",
      "Iteration 53 advanced. Current error: 1251.5834870019942.\n",
      "Iteration 54 advanced. Current error: 1220.7486416509005.\n",
      "Iteration 55 advanced. Current error: 1190.3003931522705.\n",
      "Iteration 56 advanced. Current error: 1160.238299223973.\n",
      "Iteration 57 advanced. Current error: 1130.5620349224673.\n",
      "Iteration 58 advanced. Current error: 1101.2713900383994.\n",
      "Iteration 59 advanced. Current error: 1072.366267150176.\n",
      "Iteration 60 advanced. Current error: 1043.8466802761882.\n",
      "Iteration 61 advanced. Current error: 1015.712754062613.\n",
      "Iteration 62 advanced. Current error: 987.9647234366415.\n",
      "Iteration 63 advanced. Current error: 960.6029336453358.\n",
      "Iteration 64 advanced. Current error: 933.6278405902259.\n",
      "Iteration 65 advanced. Current error: 907.0400113553886.\n",
      "Iteration 66 advanced. Current error: 880.8401248141272.\n",
      "Iteration 67 advanced. Current error: 855.0289721855288.\n",
      "Iteration 68 advanced. Current error: 829.6074574001854.\n",
      "Iteration 69 advanced. Current error: 804.57659712156.\n",
      "Iteration 70 advanced. Current error: 779.9375202593023.\n",
      "Iteration 71 advanced. Current error: 755.6914668031229.\n",
      "Iteration 72 advanced. Current error: 731.8397857995294.\n",
      "Iteration 73 advanced. Current error: 708.3839322932153.\n",
      "Iteration 74 advanced. Current error: 685.3254630555808.\n",
      "Iteration 75 advanced. Current error: 662.6660309308108.\n",
      "Iteration 76 advanced. Current error: 640.4073776399712.\n",
      "Iteration 77 advanced. Current error: 618.5513249001846.\n",
      "Iteration 78 advanced. Current error: 597.0997637362501.\n",
      "Iteration 79 advanced. Current error: 576.0546418879719.\n",
      "Iteration 80 advanced. Current error: 555.4179492452713.\n",
      "Iteration 81 advanced. Current error: 535.1917012773956.\n",
      "Iteration 82 advanced. Current error: 515.3779204582944.\n",
      "Iteration 83 advanced. Current error: 495.97861573004.\n",
      "Iteration 84 advanced. Current error: 476.9957600862466.\n",
      "Iteration 85 advanced. Current error: 458.43126639870525.\n",
      "Iteration 86 advanced. Current error: 440.2869616517128.\n",
      "Iteration 87 advanced. Current error: 422.564559787584.\n",
      "Iteration 88 advanced. Current error: 405.26563340506885.\n",
      "Iteration 89 advanced. Current error: 388.3915845850751.\n",
      "Iteration 90 advanced. Current error: 371.9436151489916.\n",
      "Iteration 91 advanced. Current error: 355.9226966795879.\n",
      "Iteration 92 advanced. Current error: 340.32954065328454.\n",
      "Iteration 93 advanced. Current error: 325.1645690461591.\n",
      "Iteration 94 advanced. Current error: 310.4278857826115.\n",
      "Iteration 95 advanced. Current error: 296.11924939508714.\n",
      "Iteration 96 advanced. Current error: 282.23804725674654.\n",
      "Iteration 97 advanced. Current error: 268.7832717348509.\n",
      "Iteration 98 advanced. Current error: 255.75349859306039.\n",
      "Iteration 99 advanced. Current error: 243.14686794385247.\n",
      "Iteration 100 advanced. Current error: 230.9610680218709.\n",
      "Iteration 101 advanced. Current error: 219.19332201179193.\n",
      "Iteration 102 advanced. Current error: 207.8403781245403.\n",
      "Iteration 103 advanced. Current error: 196.89850307176366.\n",
      "Iteration 104 advanced. Current error: 186.36347904377135.\n",
      "Iteration 105 advanced. Current error: 176.2306042482489.\n",
      "Iteration 106 advanced. Current error: 166.49469702037214.\n",
      "Iteration 107 advanced. Current error: 157.15010346813065.\n",
      "Iteration 108 advanced. Current error: 148.1907085712935.\n",
      "Iteration 109 advanced. Current error: 139.60995060979198.\n",
      "Iteration 110 advanced. Current error: 131.400838756354.\n",
      "Iteration 111 advanced. Current error: 123.55597363304726.\n",
      "Iteration 112 advanced. Current error: 116.06757059730727.\n",
      "Iteration 113 advanced. Current error: 108.92748549682939.\n",
      "Iteration 114 advanced. Current error: 102.12724260852434.\n",
      "Iteration 115 advanced. Current error: 95.65806445926172.\n",
      "Iteration 116 advanced. Current error: 89.5109032130075.\n",
      "Iteration 117 advanced. Current error: 83.6764733011878.\n",
      "Iteration 118 advanced. Current error: 78.14528497025586.\n",
      "Iteration 119 advanced. Current error: 72.9076784224606.\n",
      "Iteration 120 advanced. Current error: 67.95385823171974.\n",
      "Iteration 121 advanced. Current error: 63.27392772688124.\n",
      "Iteration 122 advanced. Current error: 58.85792304960544.\n",
      "Iteration 123 advanced. Current error: 54.69584660974021.\n",
      "Iteration 124 advanced. Current error: 50.77769968277353.\n",
      "Iteration 125 advanced. Current error: 47.09351391478613.\n",
      "Iteration 126 advanced. Current error: 43.63338152527417.\n",
      "Iteration 127 advanced. Current error: 40.38748402277773.\n",
      "Iteration 128 advanced. Current error: 37.34611927488825.\n",
      "Iteration 129 advanced. Current error: 34.49972679960966.\n",
      "Iteration 130 advanced. Current error: 31.838911172360255.\n",
      "Iteration 131 advanced. Current error: 29.35446346781995.\n",
      "Iteration 132 advanced. Current error: 27.037380681106466.\n",
      "Iteration 133 advanced. Current error: 24.87888309624769.\n",
      "Iteration 134 advanced. Current error: 22.870429592974837.\n",
      "Iteration 135 advanced. Current error: 21.003730902786206.\n",
      "Iteration 136 advanced. Current error: 19.2707608449672.\n",
      "Iteration 137 advanced. Current error: 17.663765590397023.\n",
      "Iteration 138 advanced. Current error: 16.175271015759588.\n",
      "Iteration 139 advanced. Current error: 14.798088224773723.\n",
      "Iteration 140 advanced. Current error: 13.525317323619765.\n",
      "Iteration 141 advanced. Current error: 12.350349547709065.\n",
      "Iteration 142 advanced. Current error: 11.266867844064851.\n",
      "Iteration 143 advanced. Current error: 10.268846018824902.\n",
      "Iteration 144 advanced. Current error: 9.350546564493934.\n",
      "Iteration 145 advanced. Current error: 8.506517282125921.\n",
      "Iteration 146 advanced. Current error: 7.731586815935194.\n",
      "Iteration 147 advanced. Current error: 7.020859216609342.\n",
      "Iteration 148 advanced. Current error: 6.369707647572265.\n",
      "Iteration 149 advanced. Current error: 5.773767346759727.\n",
      "Iteration 150 advanced. Current error: 5.228927951085413.\n",
      "Iteration 151 advanced. Current error: 4.731325288192764.\n",
      "Iteration 152 advanced. Current error: 4.277332733406633.\n",
      "Iteration 153 advanced. Current error: 3.863552225108471.\n",
      "Iteration 154 advanced. Current error: 3.4868050254125964.\n",
      "Iteration 155 advanced. Current error: 3.144122306701847.\n",
      "Iteration 156 advanced. Current error: 2.832735638527124.\n",
      "Iteration 157 advanced. Current error: 2.550067442510763.\n",
      "Iteration 158 advanced. Current error: 2.293721476339528.\n",
      "Iteration 159 advanced. Current error: 2.0614734020623913.\n",
      "Iteration 160 advanced. Current error: 1.8512614872018596.\n",
      "Iteration 161 advanced. Current error: 1.6611774811440936.\n",
      "Iteration 162 advanced. Current error: 1.4894577040883392.\n",
      "Iteration 163 advanced. Current error: 1.3344743792594358.\n",
      "Iteration 164 advanced. Current error: 1.1947272352104432.\n",
      "Iteration 165 advanced. Current error: 1.0688353992772899.\n",
      "Iteration 166 advanced. Current error: 0.9555295989577387.\n",
      "Iteration 167 advanced. Current error: 0.853644684078568.\n",
      "Iteration 168 advanced. Current error: 0.7621124787895427.\n",
      "Iteration 169 advanced. Current error: 0.6799549687965597.\n",
      "Iteration 170 advanced. Current error: 0.6062778263618079.\n",
      "Iteration 171 advanced. Current error: 0.5402642728960353.\n",
      "Iteration 172 advanced. Current error: 0.48116927645833985.\n",
      "Iteration 173 advanced. Current error: 0.42831407947169775.\n",
      "Iteration 174 advanced. Current error: 0.3810810499396912.\n",
      "Iteration 175 advanced. Current error: 0.3389088485066103.\n",
      "Iteration 176 advanced. Current error: 0.3012879014671476.\n",
      "Iteration 177 advanced. Current error: 0.2677561697147178.\n",
      "Iteration 178 advanced. Current error: 0.23789520237286402.\n",
      "Iteration 179 advanced. Current error: 0.21132646268041738.\n",
      "Iteration 180 advanced. Current error: 0.18770791443968096.\n",
      "Iteration 181 advanced. Current error: 0.16673085553580516.\n",
      "Iteration 182 advanced. Current error: 0.14811698599123843.\n",
      "Iteration 183 advanced. Current error: 0.13161569694277256.\n",
      "Iteration 184 advanced. Current error: 0.11700156758381013.\n",
      "Iteration 185 advanced. Current error: 0.10407205648331287.\n",
      "Iteration 186 advanced. Current error: 0.09264537458076275.\n",
      "Iteration 187 advanced. Current error: 0.08255852611834882.\n",
      "Iteration 188 advanced. Current error: 0.07366550538929768.\n",
      "Iteration 189 advanced. Current error: 0.06583563664624834.\n",
      "Iteration 190 advanced. Current error: 0.05895204543954812.\n",
      "Iteration 191 advanced. Current error: 0.052910250644459006.\n",
      "Iteration 192 advanced. Current error: 0.04761686800725768.\n",
      "Iteration 193 advanced. Current error: 0.04298841738581843.\n",
      "Iteration 194 advanced. Current error: 0.03895022896101343.\n",
      "Iteration 195 advanced. Current error: 0.03543544562485737.\n",
      "Iteration 196 advanced. Current error: 0.03238412212427905.\n",
      "Iteration 197 advanced. Current error: 0.029742423151569254.\n",
      "Iteration 198 advanced. Current error: 0.027461923252932313.\n",
      "Iteration 199 advanced. Current error: 0.025499010636797034.\n",
      "Iteration 200 advanced. Current error: 0.023814392127464314.\n",
      "Iteration 201 advanced. Current error: 0.02237269245130448.\n",
      "Iteration 202 advanced. Current error: 0.021142133280611056.\n",
      "Iteration 203 advanced. Current error: 0.020094273614740064.\n",
      "Iteration 204 advanced. Current error: 0.019203790134584432.\n",
      "Iteration 205 advanced. Current error: 0.01844827674227948.\n",
      "Iteration 206 advanced. Current error: 0.017808047977797652.\n",
      "Iteration 207 advanced. Current error: 0.017265935559189854.\n",
      "Iteration 208 advanced. Current error: 0.016807075334619868.\n",
      "Iteration 209 advanced. Current error: 0.01641868566604737.\n",
      "Iteration 210 advanced. Current error: 0.016089842974256217.\n",
      "Iteration 211 advanced. Current error: 0.015811260540122232.\n",
      "Iteration 212 advanced. Current error: 0.0155750769631157.\n",
      "Iteration 213 advanced. Current error: 0.015374659403846979.\n",
      "Iteration 214 advanced. Current error: 0.015204424592130896.\n",
      "Iteration 215 advanced. Current error: 0.015059679756667232.\n",
      "Iteration 216 advanced. Current error: 0.014936483150285442.\n",
      "Iteration 217 advanced. Current error: 0.014831524109000268.\n",
      "Iteration 218 advanced. Current error: 0.014742020395408728.\n",
      "Iteration 219 advanced. Current error: 0.014665631680803887.\n",
      "Iteration 220 advanced. Current error: 0.014600386842746315.\n",
      "Iteration 221 advanced. Current error: 0.014544623177225553.\n",
      "Iteration 222 advanced. Current error: 0.014496935841226232.\n",
      "Iteration 223 advanced. Current error: 0.014456135927153235.\n",
      "Iteration 224 advanced. Current error: 0.014421215409310227.\n",
      "Iteration 225 advanced. Current error: 0.014391318295450274.\n",
      "Iteration 226 advanced. Current error: 0.014365716635080803.\n",
      "Iteration 227 advanced. Current error: 0.01434379027140168.\n",
      "Iteration 228 advanced. Current error: 0.014325010442079287.\n",
      "Iteration 229 advanced. Current error: 0.01430892544311228.\n",
      "Iteration 230 advanced. Current error: 0.014295149398651476.\n",
      "Iteration 231 advanced. Current error: 0.014283351997640128.\n",
      "Iteration 232 advanced. Current error: 0.014273250516742336.\n",
      "Iteration 233 advanced. Current error: 0.014264602758715389.\n",
      "Iteration 234 advanced. Current error: 0.014257201075304819.\n",
      "Iteration 235 advanced. Current error: 0.01425086747116123.\n",
      "Iteration 236 advanced. Current error: 0.014245449245558369.\n",
      "Iteration 237 advanced. Current error: 0.014240815441468024.\n",
      "Iteration 238 advanced. Current error: 0.014236853662344456.\n",
      "Iteration 239 advanced. Current error: 0.014233467461835323.\n",
      "Iteration 240 advanced. Current error: 0.014230574215602637.\n",
      "Iteration 241 advanced. Current error: 0.014228102891588023.\n",
      "Iteration 242 advanced. Current error: 0.014225992712788208.\n",
      "Iteration 243 advanced. Current error: 0.014224191456652688.\n",
      "Iteration 244 advanced. Current error: 0.014222654374222108.\n",
      "Iteration 245 advanced. Current error: 0.014221343158447426.\n",
      "Iteration 246 advanced. Current error: 0.014220224963926314.\n",
      "Iteration 247 advanced. Current error: 0.014219271616340994.\n",
      "Iteration 248 advanced. Current error: 0.014218459054124541.\n",
      "Iteration 249 advanced. Current error: 0.01421776665115209.\n",
      "Iteration 250 advanced. Current error: 0.014217176785570561.\n",
      "Iteration 251 advanced. Current error: 0.014216674328063382.\n",
      "Iteration 252 advanced. Current error: 0.014216246411616762.\n",
      "Iteration 253 advanced. Current error: 0.014215881991743055.\n",
      "Iteration 254 advanced. Current error: 0.014215571715211681.\n",
      "Iteration 255 advanced. Current error: 0.014215307460052728.\n",
      "Iteration 256 advanced. Current error: 0.014215082422513993.\n",
      "Iteration 257 advanced. Current error: 0.014214890715759274.\n",
      "Iteration 258 advanced. Current error: 0.014214727364406866.\n",
      "Iteration 259 advanced. Current error: 0.014214588122764443.\n",
      "Iteration 260 advanced. Current error: 0.014214469352347247.\n",
      "Iteration 261 advanced. Current error: 0.014214367980702428.\n",
      "Iteration 262 advanced. Current error: 0.014214281361046622.\n",
      "Iteration 263 advanced. Current error: 0.014214207271050817.\n",
      "Iteration 264 advanced. Current error: 0.014214143801915682.\n",
      "Iteration 265 advanced. Current error: 0.01421408936432073.\n",
      "Iteration 266 advanced. Current error: 0.014214042552722602.\n",
      "Iteration 267 advanced. Current error: 0.01421400220203945.\n",
      "Iteration 268 advanced. Current error: 0.014213967327891151.\n",
      "Iteration 269 advanced. Current error: 0.014213937113060529.\n",
      "Iteration 270 advanced. Current error: 0.014213910785779592.\n",
      "Iteration 271 advanced. Current error: 0.014213887810847904.\n",
      "Iteration 272 advanced. Current error: 0.014213867640485532.\n",
      "Iteration 273 advanced. Current error: 0.014213849807335744.\n",
      "Iteration 274 advanced. Current error: 0.014213834023022199.\n",
      "Iteration 275 advanced. Current error: 0.014213819900029503.\n",
      "Iteration 276 advanced. Current error: 0.014213807221278947.\n",
      "Iteration 277 advanced. Current error: 0.014213795737770683.\n",
      "Iteration 278 advanced. Current error: 0.014213785283941117.\n",
      "Iteration 279 advanced. Current error: 0.014213775704389938.\n",
      "Iteration 280 advanced. Current error: 0.014213766807577516.\n",
      "Iteration 281 advanced. Current error: 0.014213758537219234.\n",
      "Iteration 282 advanced. Current error: 0.014213750783491593.\n",
      "Iteration 283 advanced. Current error: 0.014213743465952415.\n",
      "Iteration 284 advanced. Current error: 0.014213736498565253.\n",
      "Iteration 285 advanced. Current error: 0.0142137298408652.\n",
      "Iteration 286 advanced. Current error: 0.014213723456286274.\n",
      "Iteration 287 advanced. Current error: 0.014213717260076104.\n",
      "Iteration 288 advanced. Current error: 0.014213711289030562.\n",
      "Iteration 289 advanced. Current error: 0.014213705412300154.\n",
      "Iteration 290 advanced. Current error: 0.01421369971505555.\n",
      "Iteration 291 advanced. Current error: 0.014213694106837288.\n",
      "Iteration 292 advanced. Current error: 0.01421368859434187.\n",
      "Iteration 293 advanced. Current error: 0.014213683154514479.\n",
      "Iteration 294 advanced. Current error: 0.014213677770304878.\n",
      "Iteration 295 advanced. Current error: 0.014213672440180252.\n",
      "Iteration 296 advanced. Current error: 0.014213667159716855.\n",
      "Iteration 297 advanced. Current error: 0.01421366193027104.\n",
      "Iteration 298 advanced. Current error: 0.014213656702951816.\n",
      "Iteration 299 advanced. Current error: 0.014213651535947662.\n",
      "Iteration 300 advanced. Current error: 0.01421364637821476.\n",
      "Iteration 301 advanced. Current error: 0.014213641220764803.\n",
      "Iteration 302 advanced. Current error: 0.014213636116135865.\n",
      "Iteration 303 advanced. Current error: 0.014213630968297522.\n",
      "Iteration 304 advanced. Current error: 0.014213625890326657.\n",
      "Iteration 305 advanced. Current error: 0.014213620780674287.\n",
      "Iteration 306 advanced. Current error: 0.014213615691054421.\n",
      "Iteration 307 advanced. Current error: 0.01421361063088226.\n",
      "Iteration 308 advanced. Current error: 0.014213605541448824.\n",
      "Iteration 309 advanced. Current error: 0.014213600486610392.\n",
      "Iteration 310 advanced. Current error: 0.014213595408002301.\n",
      "Iteration 311 advanced. Current error: 0.014213590323651477.\n",
      "Iteration 312 advanced. Current error: 0.0142135852711848.\n",
      "Iteration 313 advanced. Current error: 0.014213580209829501.\n",
      "Iteration 314 advanced. Current error: 0.014213575158610877.\n",
      "Iteration 315 advanced. Current error: 0.014213570090942602.\n",
      "Iteration 316 advanced. Current error: 0.014213565054392136.\n",
      "Iteration 317 advanced. Current error: 0.014213559991494708.\n",
      "Iteration 318 advanced. Current error: 0.014213554933971936.\n",
      "Iteration 319 advanced. Current error: 0.014213549872623852.\n",
      "Iteration 320 advanced. Current error: 0.0142135448242322.\n",
      "Iteration 321 advanced. Current error: 0.014213539782804551.\n",
      "Iteration 322 advanced. Current error: 0.01421353472579752.\n",
      "Iteration 323 advanced. Current error: 0.014213529668556664.\n",
      "Iteration 324 advanced. Current error: 0.014213524633919122.\n",
      "Iteration 325 advanced. Current error: 0.014213519574041.\n",
      "Iteration 326 advanced. Current error: 0.014213514529234894.\n",
      "Iteration 327 advanced. Current error: 0.014213509476360011.\n",
      "Iteration 328 advanced. Current error: 0.014213504418409397.\n",
      "Iteration 329 advanced. Current error: 0.014213499382176975.\n",
      "Iteration 330 advanced. Current error: 0.014213494334156645.\n",
      "Iteration 331 advanced. Current error: 0.01421348928345369.\n",
      "Iteration 332 advanced. Current error: 0.01421348421110794.\n",
      "Iteration 333 advanced. Current error: 0.014213479166291053.\n",
      "Iteration 334 advanced. Current error: 0.014213474132267812.\n",
      "Iteration 335 advanced. Current error: 0.014213469072508523.\n",
      "Iteration 336 advanced. Current error: 0.014213464022161231.\n",
      "Iteration 337 advanced. Current error: 0.01421345895771042.\n",
      "Iteration 338 advanced. Current error: 0.01421345393550806.\n",
      "Iteration 339 advanced. Current error: 0.014213448885090272.\n",
      "Iteration 340 advanced. Current error: 0.01421344382667962.\n",
      "Iteration 341 advanced. Current error: 0.014213438761999125.\n",
      "Iteration 342 advanced. Current error: 0.01421343374325782.\n",
      "Iteration 343 advanced. Current error: 0.01421342867632401.\n",
      "Iteration 344 advanced. Current error: 0.014213423634705704.\n",
      "Iteration 345 advanced. Current error: 0.014213418578699032.\n",
      "Iteration 346 advanced. Current error: 0.014213413532056195.\n",
      "Iteration 347 advanced. Current error: 0.014213408496350267.\n",
      "Iteration 348 advanced. Current error: 0.014213403434742106.\n",
      "Iteration 349 advanced. Current error: 0.014213398398277679.\n",
      "Iteration 350 advanced. Current error: 0.01421339333148452.\n",
      "Iteration 351 advanced. Current error: 0.014213388302594257.\n",
      "Iteration 352 advanced. Current error: 0.014213383221503152.\n",
      "Iteration 353 advanced. Current error: 0.014213378197531313.\n",
      "Iteration 354 advanced. Current error: 0.014213373133292642.\n",
      "Iteration 355 advanced. Current error: 0.014213368093243141.\n",
      "Iteration 356 advanced. Current error: 0.014213363034680791.\n",
      "Iteration 357 advanced. Current error: 0.01421335800050677.\n",
      "Iteration 358 advanced. Current error: 0.014213352950324524.\n",
      "Iteration 359 advanced. Current error: 0.014213347892142238.\n",
      "Iteration 360 advanced. Current error: 0.014213342866118599.\n",
      "Iteration 361 advanced. Current error: 0.014213337801501311.\n",
      "Iteration 362 advanced. Current error: 0.014213332739470263.\n",
      "Iteration 363 advanced. Current error: 0.014213327709055975.\n",
      "Iteration 364 advanced. Current error: 0.014213322654053392.\n",
      "Iteration 365 advanced. Current error: 0.014213317605579555.\n",
      "Iteration 366 advanced. Current error: 0.014213312536918864.\n",
      "Iteration 367 advanced. Current error: 0.014213307499743859.\n",
      "Iteration 368 advanced. Current error: 0.01421330245145843.\n",
      "Iteration 369 advanced. Current error: 0.014213297405764456.\n",
      "Iteration 370 advanced. Current error: 0.014213292347626286.\n",
      "Iteration 371 advanced. Current error: 0.014213287310608577.\n",
      "Iteration 372 advanced. Current error: 0.014213282251713411.\n",
      "Iteration 373 advanced. Current error: 0.014213277213130872.\n",
      "Iteration 374 advanced. Current error: 0.014213272178037343.\n",
      "Iteration 375 advanced. Current error: 0.014213267118139302.\n",
      "Iteration 376 advanced. Current error: 0.014213262072321932.\n",
      "Iteration 377 advanced. Current error: 0.01421325700693513.\n",
      "Iteration 378 advanced. Current error: 0.014213251958042844.\n",
      "Iteration 379 advanced. Current error: 0.014213246906415516.\n",
      "Iteration 380 advanced. Current error: 0.01421324189072247.\n",
      "Iteration 381 advanced. Current error: 0.014213236812412038.\n",
      "Iteration 382 advanced. Current error: 0.014213231779510992.\n",
      "Iteration 383 advanced. Current error: 0.014213226717553842.\n",
      "Iteration 384 advanced. Current error: 0.014213221661764976.\n",
      "Iteration 385 advanced. Current error: 0.014213216623744349.\n",
      "Iteration 386 advanced. Current error: 0.014213211595802062.\n",
      "Iteration 387 advanced. Current error: 0.014213206536787822.\n",
      "Iteration 388 advanced. Current error: 0.014213201481762881.\n",
      "Iteration 389 advanced. Current error: 0.01421319644838836.\n",
      "Iteration 390 advanced. Current error: 0.014213191388839605.\n",
      "Iteration 391 advanced. Current error: 0.014213186340113705.\n",
      "Iteration 392 advanced. Current error: 0.014213181287909547.\n",
      "Iteration 393 advanced. Current error: 0.014213176230860962.\n",
      "Iteration 394 advanced. Current error: 0.014213171203569502.\n",
      "Iteration 395 advanced. Current error: 0.01421316614102505.\n",
      "Iteration 396 advanced. Current error: 0.014213161093481485.\n",
      "Iteration 397 advanced. Current error: 0.014213156022584906.\n",
      "Iteration 398 advanced. Current error: 0.014213150998943047.\n",
      "Iteration 399 advanced. Current error: 0.014213145950537595.\n",
      "Iteration 400 advanced. Current error: 0.014213140892620206.\n",
      "Iteration 401 advanced. Current error: 0.014213135851125146.\n",
      "Iteration 402 advanced. Current error: 0.014213130793143985.\n",
      "Iteration 403 advanced. Current error: 0.014213125750490874.\n",
      "Iteration 404 advanced. Current error: 0.014213120696433566.\n",
      "Iteration 405 advanced. Current error: 0.014213115660181672.\n",
      "Iteration 406 advanced. Current error: 0.014213110591204975.\n",
      "Iteration 407 advanced. Current error: 0.014213105577186535.\n",
      "Iteration 408 advanced. Current error: 0.014213100527528225.\n",
      "Iteration 409 advanced. Current error: 0.014213095469763902.\n",
      "Iteration 410 advanced. Current error: 0.014213090424651945.\n",
      "Iteration 411 advanced. Current error: 0.014213085360748367.\n",
      "Iteration 412 advanced. Current error: 0.014213080310341004.\n",
      "Iteration 413 advanced. Current error: 0.014213075262478891.\n",
      "Iteration 414 advanced. Current error: 0.014213070227888982.\n",
      "Iteration 415 advanced. Current error: 0.014213065167281037.\n",
      "Iteration 416 advanced. Current error: 0.014213060122813911.\n",
      "Iteration 417 advanced. Current error: 0.01421305507353917.\n",
      "Iteration 418 advanced. Current error: 0.01421305002238.\n",
      "Iteration 419 advanced. Current error: 0.01421304497717161.\n",
      "Iteration 420 advanced. Current error: 0.014213039951971136.\n",
      "Iteration 421 advanced. Current error: 0.014213034882447392.\n",
      "Iteration 422 advanced. Current error: 0.014213029828850301.\n",
      "Iteration 423 advanced. Current error: 0.014213024799067156.\n",
      "Iteration 424 advanced. Current error: 0.014213019739668419.\n",
      "Iteration 425 advanced. Current error: 0.014213014687089862.\n",
      "Iteration 426 advanced. Current error: 0.014213009634837404.\n",
      "Iteration 427 advanced. Current error: 0.014213004587582566.\n",
      "Iteration 428 advanced. Current error: 0.014212999566106011.\n",
      "Iteration 429 advanced. Current error: 0.014212994511525388.\n",
      "Iteration 430 advanced. Current error: 0.014212989442837089.\n",
      "Iteration 431 advanced. Current error: 0.014212984394585014.\n",
      "Iteration 432 advanced. Current error: 0.01421297935428345.\n",
      "Iteration 433 advanced. Current error: 0.014212974321359461.\n",
      "Iteration 434 advanced. Current error: 0.014212969255172157.\n",
      "Iteration 435 advanced. Current error: 0.014212964217726777.\n",
      "Iteration 436 advanced. Current error: 0.014212959164759495.\n",
      "Iteration 437 advanced. Current error: 0.014212954101033931.\n",
      "Iteration 438 advanced. Current error: 0.01421294907397607.\n",
      "Iteration 439 advanced. Current error: 0.0142129440127433.\n",
      "Iteration 440 advanced. Current error: 0.014212938964876264.\n",
      "Iteration 441 advanced. Current error: 0.014212933914463181.\n",
      "Iteration 442 advanced. Current error: 0.014212928866300004.\n",
      "Iteration 443 advanced. Current error: 0.014212923825111794.\n",
      "Iteration 444 advanced. Current error: 0.014212918787987644.\n",
      "Iteration 445 advanced. Current error: 0.014212913743517235.\n",
      "Iteration 446 advanced. Current error: 0.014212908696091328.\n",
      "Iteration 447 advanced. Current error: 0.014212903630962084.\n",
      "Iteration 448 advanced. Current error: 0.014212898585623608.\n",
      "Iteration 449 advanced. Current error: 0.014212893547866715.\n",
      "Iteration 450 advanced. Current error: 0.014212888502514853.\n",
      "Iteration 451 advanced. Current error: 0.014212883458435369.\n",
      "Iteration 452 advanced. Current error: 0.01421287839417795.\n",
      "Iteration 453 advanced. Current error: 0.014212873354716172.\n",
      "Iteration 454 advanced. Current error: 0.014212868299335145.\n",
      "Iteration 455 advanced. Current error: 0.014212863242412617.\n",
      "Iteration 456 advanced. Current error: 0.014212858212878852.\n",
      "Iteration 457 advanced. Current error: 0.014212853178005618.\n",
      "Iteration 458 advanced. Current error: 0.014212848107339223.\n",
      "Iteration 459 advanced. Current error: 0.01421284305671228.\n",
      "Iteration 460 advanced. Current error: 0.014212838012615197.\n",
      "Iteration 461 advanced. Current error: 0.014212832968940959.\n",
      "Iteration 462 advanced. Current error: 0.014212827920169825.\n",
      "Iteration 463 advanced. Current error: 0.014212822866996221.\n",
      "Iteration 464 advanced. Current error: 0.014212817817474322.\n",
      "Iteration 465 advanced. Current error: 0.014212812785631966.\n",
      "Iteration 466 advanced. Current error: 0.01421280773225158.\n",
      "Iteration 467 advanced. Current error: 0.014212802692647832.\n",
      "Iteration 468 advanced. Current error: 0.014212797641119585.\n",
      "Iteration 469 advanced. Current error: 0.014212792579826201.\n",
      "Iteration 470 advanced. Current error: 0.014212787537573327.\n",
      "Iteration 471 advanced. Current error: 0.01421278249345473.\n",
      "Iteration 472 advanced. Current error: 0.014212777458574126.\n",
      "Iteration 473 advanced. Current error: 0.014212772402708813.\n",
      "Iteration 474 advanced. Current error: 0.014212767358984708.\n",
      "Iteration 475 advanced. Current error: 0.014212762293668689.\n",
      "Iteration 476 advanced. Current error: 0.014212757252768406.\n",
      "Iteration 477 advanced. Current error: 0.014212752224139936.\n",
      "Iteration 478 advanced. Current error: 0.014212747156913398.\n",
      "Iteration 479 advanced. Current error: 0.014212742101450843.\n",
      "Iteration 480 advanced. Current error: 0.014212737069871183.\n",
      "Iteration 481 advanced. Current error: 0.01421273203157903.\n",
      "Iteration 482 advanced. Current error: 0.014212726963077153.\n",
      "Iteration 483 advanced. Current error: 0.01421272191930451.\n",
      "Iteration 484 advanced. Current error: 0.014212716882876812.\n",
      "Iteration 485 advanced. Current error: 0.014212711824504943.\n",
      "Iteration 486 advanced. Current error: 0.014212706789017222.\n",
      "Iteration 487 advanced. Current error: 0.014212701743218741.\n",
      "Iteration 488 advanced. Current error: 0.01421269670001413.\n",
      "Iteration 489 advanced. Current error: 0.014212691631224893.\n",
      "Iteration 490 advanced. Current error: 0.014212686592782714.\n",
      "Iteration 491 advanced. Current error: 0.01421268153806662.\n",
      "Iteration 492 advanced. Current error: 0.014212676500525847.\n",
      "Iteration 493 advanced. Current error: 0.014212671471933173.\n",
      "Iteration 494 advanced. Current error: 0.014212666393902503.\n",
      "Iteration 495 advanced. Current error: 0.014212661366766455.\n",
      "Iteration 496 advanced. Current error: 0.014212656301074853.\n",
      "Iteration 497 advanced. Current error: 0.014212651257475891.\n",
      "Iteration 498 advanced. Current error: 0.014212646209278534.\n",
      "Iteration 499 advanced. Current error: 0.014212641181040644.\n",
      "Iteration 500 advanced. Current error: 0.014212636114038595.\n",
      "Iteration 501 advanced. Current error: 0.014212631071088482.\n",
      "Iteration 502 advanced. Current error: 0.014212626034418838.\n",
      "Iteration 503 advanced. Current error: 0.01421262098989917.\n",
      "Iteration 504 advanced. Current error: 0.014212615925876594.\n",
      "Iteration 505 advanced. Current error: 0.01421261088937562.\n",
      "Iteration 506 advanced. Current error: 0.014212605849439314.\n",
      "Iteration 507 advanced. Current error: 0.014212600791308493.\n",
      "Iteration 508 advanced. Current error: 0.01421259574609042.\n",
      "Iteration 509 advanced. Current error: 0.014212590713672356.\n",
      "Iteration 510 advanced. Current error: 0.014212585644882057.\n",
      "Iteration 511 advanced. Current error: 0.014212580615004057.\n",
      "Iteration 512 advanced. Current error: 0.014212575556846007.\n",
      "Iteration 513 advanced. Current error: 0.014212570501225348.\n",
      "Iteration 514 advanced. Current error: 0.014212565463656405.\n",
      "Iteration 515 advanced. Current error: 0.01421256042143192.\n",
      "Iteration 516 advanced. Current error: 0.014212555384713733.\n",
      "Iteration 517 advanced. Current error: 0.014212550320083948.\n",
      "Iteration 518 advanced. Current error: 0.014212545274675779.\n",
      "Iteration 519 advanced. Current error: 0.014212540228784445.\n",
      "Iteration 520 advanced. Current error: 0.01421253518072186.\n",
      "Iteration 521 advanced. Current error: 0.014212530131956818.\n",
      "Iteration 522 advanced. Current error: 0.014212525086789045.\n",
      "Iteration 523 advanced. Current error: 0.014212520040165742.\n",
      "Iteration 524 advanced. Current error: 0.014212514990676687.\n",
      "Iteration 525 advanced. Current error: 0.01421250994352702.\n",
      "Iteration 526 advanced. Current error: 0.014212504922711535.\n",
      "Iteration 527 advanced. Current error: 0.014212499877903613.\n",
      "Iteration 528 advanced. Current error: 0.01421249482260802.\n",
      "Iteration 529 advanced. Current error: 0.014212489763553745.\n",
      "Iteration 530 advanced. Current error: 0.014212484707921011.\n",
      "Iteration 531 advanced. Current error: 0.014212479668137774.\n",
      "Iteration 532 advanced. Current error: 0.014212474626657385.\n",
      "Iteration 533 advanced. Current error: 0.014212469588128886.\n",
      "Iteration 534 advanced. Current error: 0.014212464539193028.\n",
      "Iteration 535 advanced. Current error: 0.014212459483428695.\n",
      "Iteration 536 advanced. Current error: 0.014212454449129452.\n",
      "Iteration 537 advanced. Current error: 0.014212449385297794.\n",
      "Iteration 538 advanced. Current error: 0.014212444340892524.\n",
      "Iteration 539 advanced. Current error: 0.014212439304605693.\n",
      "Iteration 540 advanced. Current error: 0.014212434239353082.\n",
      "Iteration 541 advanced. Current error: 0.014212429197014832.\n",
      "Iteration 542 advanced. Current error: 0.014212424155630322.\n",
      "Iteration 543 advanced. Current error: 0.014212419106781107.\n",
      "Iteration 544 advanced. Current error: 0.01421241407040488.\n",
      "Iteration 545 advanced. Current error: 0.01421240901176626.\n",
      "Iteration 546 advanced. Current error: 0.014212403954028863.\n",
      "Iteration 547 advanced. Current error: 0.014212398924645098.\n",
      "Iteration 548 advanced. Current error: 0.014212393887679631.\n",
      "Iteration 549 advanced. Current error: 0.014212388849453854.\n",
      "Iteration 550 advanced. Current error: 0.014212383790158599.\n",
      "Iteration 551 advanced. Current error: 0.014212378733555527.\n",
      "Iteration 552 advanced. Current error: 0.014212373672948359.\n",
      "Iteration 553 advanced. Current error: 0.014212368657142206.\n",
      "Iteration 554 advanced. Current error: 0.01421236360314277.\n",
      "Iteration 555 advanced. Current error: 0.014212358548501546.\n",
      "Iteration 556 advanced. Current error: 0.014212353508327799.\n",
      "Iteration 557 advanced. Current error: 0.014212348452377335.\n",
      "Iteration 558 advanced. Current error: 0.014212343405352454.\n",
      "Iteration 559 advanced. Current error: 0.014212338371240996.\n",
      "Iteration 560 advanced. Current error: 0.01421233331427382.\n",
      "Iteration 561 advanced. Current error: 0.014212328271972793.\n",
      "Iteration 562 advanced. Current error: 0.014212323228527104.\n",
      "Iteration 563 advanced. Current error: 0.014212318188614792.\n",
      "Iteration 564 advanced. Current error: 0.014212313132942736.\n",
      "Iteration 565 advanced. Current error: 0.014212308087409906.\n",
      "Iteration 566 advanced. Current error: 0.014212303022893445.\n",
      "Iteration 567 advanced. Current error: 0.014212297979707442.\n",
      "Iteration 568 advanced. Current error: 0.014212292946841523.\n",
      "Iteration 569 advanced. Current error: 0.014212287900582621.\n",
      "Iteration 570 advanced. Current error: 0.014212282862320907.\n",
      "Iteration 571 advanced. Current error: 0.014212277799297197.\n",
      "Iteration 572 advanced. Current error: 0.014212272788221226.\n",
      "Iteration 573 advanced. Current error: 0.014212267722623875.\n",
      "Iteration 574 advanced. Current error: 0.014212262661209913.\n",
      "Iteration 575 advanced. Current error: 0.014212257632809533.\n",
      "Iteration 576 advanced. Current error: 0.014212252572598562.\n",
      "Iteration 577 advanced. Current error: 0.014212247523534042.\n",
      "Iteration 578 advanced. Current error: 0.014212242485966527.\n",
      "Iteration 579 advanced. Current error: 0.014212237447201174.\n",
      "Iteration 580 advanced. Current error: 0.014212232404303974.\n",
      "Iteration 581 advanced. Current error: 0.014212227354227055.\n",
      "Iteration 582 advanced. Current error: 0.014212222311557622.\n",
      "Iteration 583 advanced. Current error: 0.014212217255477319.\n",
      "Iteration 584 advanced. Current error: 0.014212212233275753.\n",
      "Iteration 585 advanced. Current error: 0.014212207164009833.\n",
      "Iteration 586 advanced. Current error: 0.014212202111629896.\n",
      "Iteration 587 advanced. Current error: 0.014212197067256674.\n",
      "Iteration 588 advanced. Current error: 0.014212192030635739.\n",
      "Iteration 589 advanced. Current error: 0.014212186989312467.\n",
      "Iteration 590 advanced. Current error: 0.014212181957921002.\n",
      "Iteration 591 advanced. Current error: 0.014212176878015315.\n",
      "Iteration 592 advanced. Current error: 0.014212171851573226.\n",
      "Iteration 593 advanced. Current error: 0.014212166808341755.\n",
      "Iteration 594 advanced. Current error: 0.01421216175827369.\n",
      "Iteration 595 advanced. Current error: 0.014212156706000878.\n",
      "Iteration 596 advanced. Current error: 0.014212151655527567.\n",
      "Iteration 597 advanced. Current error: 0.014212146610034213.\n",
      "Iteration 598 advanced. Current error: 0.014212141583196166.\n",
      "Iteration 599 advanced. Current error: 0.014212136533643458.\n",
      "Iteration 600 advanced. Current error: 0.014212131488461982.\n",
      "Maximum number of iterations reached. Current error: 0.014212131488461982.\n",
      "Last iteration: 600. Final error: 0.014212131488461982\n"
     ]
    },
    {
     "data": {
      "application/vnd.plotly.v1+json": {
       "config": {
        "plotlyServerURL": "https://plot.ly"
       },
       "data": [
        {
         "legendgroup": "LR=0.1",
         "mode": "lines",
         "name": "beta1=0.9, beta2=0.999",
         "type": "scatter",
         "x": [
          1e-11,
          1.00000000001,
          2.00000000001,
          3.00000000001,
          4.00000000001,
          5.000000000009999,
          6.00000000001,
          7.00000000001,
          8.00000000001,
          9.00000000001,
          10.000000000010001,
          11.000000000010001,
          12.000000000010003,
          13.000000000010001,
          14.000000000010001,
          15.000000000010001,
          16.00000000001,
          17.00000000001,
          18.00000000001,
          19.00000000001,
          20.00000000001,
          21.00000000001,
          22.00000000001,
          23.00000000001,
          24.000000000010004,
          25.00000000001,
          26.00000000001,
          27.00000000001,
          28.00000000001,
          29.000000000010004
         ],
         "xaxis": "x",
         "y": [
          1,
          0.9982933146134567,
          -1.9722767368929193,
          -8.371926007825929,
          -18.170736079941477,
          -31.277249910948413,
          -47.682097782131706,
          -67.42997271847078,
          -90.59059081359132,
          -117.24431970618835,
          -147.47571980054283,
          -181.37064889189548,
          -219.0149484530615,
          -260.4938440774458,
          -305.8916740617236,
          -355.29176973472624,
          -408.7764050670087,
          -466.4267765071163,
          -528.322994595736,
          -594.5440788781995,
          -665.1679525029213,
          -740.2714352571111,
          -819.9302349072452,
          -904.2189372016476,
          -993.2109950694465,
          -1086.9787175741264,
          -1185.5932591331557,
          -1289.1246094398084,
          -1397.6415844408307,
          -1511.211818643555
         ],
         "yaxis": "y"
        }
       ],
       "layout": {
        "annotations": [
         {
          "font": {
           "size": 16
          },
          "showarrow": false,
          "text": "Learning Rate = 0.1",
          "x": 0.5,
          "xanchor": "center",
          "xref": "paper",
          "y": 1,
          "yanchor": "bottom",
          "yref": "paper"
         }
        ],
        "template": {
         "data": {
          "bar": [
           {
            "error_x": {
             "color": "#2a3f5f"
            },
            "error_y": {
             "color": "#2a3f5f"
            },
            "marker": {
             "line": {
              "color": "#E5ECF6",
              "width": 0.5
             },
             "pattern": {
              "fillmode": "overlay",
              "size": 10,
              "solidity": 0.2
             }
            },
            "type": "bar"
           }
          ],
          "barpolar": [
           {
            "marker": {
             "line": {
              "color": "#E5ECF6",
              "width": 0.5
             },
             "pattern": {
              "fillmode": "overlay",
              "size": 10,
              "solidity": 0.2
             }
            },
            "type": "barpolar"
           }
          ],
          "carpet": [
           {
            "aaxis": {
             "endlinecolor": "#2a3f5f",
             "gridcolor": "white",
             "linecolor": "white",
             "minorgridcolor": "white",
             "startlinecolor": "#2a3f5f"
            },
            "baxis": {
             "endlinecolor": "#2a3f5f",
             "gridcolor": "white",
             "linecolor": "white",
             "minorgridcolor": "white",
             "startlinecolor": "#2a3f5f"
            },
            "type": "carpet"
           }
          ],
          "choropleth": [
           {
            "colorbar": {
             "outlinewidth": 0,
             "ticks": ""
            },
            "type": "choropleth"
           }
          ],
          "contour": [
           {
            "colorbar": {
             "outlinewidth": 0,
             "ticks": ""
            },
            "colorscale": [
             [
              0,
              "#0d0887"
             ],
             [
              0.1111111111111111,
              "#46039f"
             ],
             [
              0.2222222222222222,
              "#7201a8"
             ],
             [
              0.3333333333333333,
              "#9c179e"
             ],
             [
              0.4444444444444444,
              "#bd3786"
             ],
             [
              0.5555555555555556,
              "#d8576b"
             ],
             [
              0.6666666666666666,
              "#ed7953"
             ],
             [
              0.7777777777777778,
              "#fb9f3a"
             ],
             [
              0.8888888888888888,
              "#fdca26"
             ],
             [
              1,
              "#f0f921"
             ]
            ],
            "type": "contour"
           }
          ],
          "contourcarpet": [
           {
            "colorbar": {
             "outlinewidth": 0,
             "ticks": ""
            },
            "type": "contourcarpet"
           }
          ],
          "heatmap": [
           {
            "colorbar": {
             "outlinewidth": 0,
             "ticks": ""
            },
            "colorscale": [
             [
              0,
              "#0d0887"
             ],
             [
              0.1111111111111111,
              "#46039f"
             ],
             [
              0.2222222222222222,
              "#7201a8"
             ],
             [
              0.3333333333333333,
              "#9c179e"
             ],
             [
              0.4444444444444444,
              "#bd3786"
             ],
             [
              0.5555555555555556,
              "#d8576b"
             ],
             [
              0.6666666666666666,
              "#ed7953"
             ],
             [
              0.7777777777777778,
              "#fb9f3a"
             ],
             [
              0.8888888888888888,
              "#fdca26"
             ],
             [
              1,
              "#f0f921"
             ]
            ],
            "type": "heatmap"
           }
          ],
          "heatmapgl": [
           {
            "colorbar": {
             "outlinewidth": 0,
             "ticks": ""
            },
            "colorscale": [
             [
              0,
              "#0d0887"
             ],
             [
              0.1111111111111111,
              "#46039f"
             ],
             [
              0.2222222222222222,
              "#7201a8"
             ],
             [
              0.3333333333333333,
              "#9c179e"
             ],
             [
              0.4444444444444444,
              "#bd3786"
             ],
             [
              0.5555555555555556,
              "#d8576b"
             ],
             [
              0.6666666666666666,
              "#ed7953"
             ],
             [
              0.7777777777777778,
              "#fb9f3a"
             ],
             [
              0.8888888888888888,
              "#fdca26"
             ],
             [
              1,
              "#f0f921"
             ]
            ],
            "type": "heatmapgl"
           }
          ],
          "histogram": [
           {
            "marker": {
             "pattern": {
              "fillmode": "overlay",
              "size": 10,
              "solidity": 0.2
             }
            },
            "type": "histogram"
           }
          ],
          "histogram2d": [
           {
            "colorbar": {
             "outlinewidth": 0,
             "ticks": ""
            },
            "colorscale": [
             [
              0,
              "#0d0887"
             ],
             [
              0.1111111111111111,
              "#46039f"
             ],
             [
              0.2222222222222222,
              "#7201a8"
             ],
             [
              0.3333333333333333,
              "#9c179e"
             ],
             [
              0.4444444444444444,
              "#bd3786"
             ],
             [
              0.5555555555555556,
              "#d8576b"
             ],
             [
              0.6666666666666666,
              "#ed7953"
             ],
             [
              0.7777777777777778,
              "#fb9f3a"
             ],
             [
              0.8888888888888888,
              "#fdca26"
             ],
             [
              1,
              "#f0f921"
             ]
            ],
            "type": "histogram2d"
           }
          ],
          "histogram2dcontour": [
           {
            "colorbar": {
             "outlinewidth": 0,
             "ticks": ""
            },
            "colorscale": [
             [
              0,
              "#0d0887"
             ],
             [
              0.1111111111111111,
              "#46039f"
             ],
             [
              0.2222222222222222,
              "#7201a8"
             ],
             [
              0.3333333333333333,
              "#9c179e"
             ],
             [
              0.4444444444444444,
              "#bd3786"
             ],
             [
              0.5555555555555556,
              "#d8576b"
             ],
             [
              0.6666666666666666,
              "#ed7953"
             ],
             [
              0.7777777777777778,
              "#fb9f3a"
             ],
             [
              0.8888888888888888,
              "#fdca26"
             ],
             [
              1,
              "#f0f921"
             ]
            ],
            "type": "histogram2dcontour"
           }
          ],
          "mesh3d": [
           {
            "colorbar": {
             "outlinewidth": 0,
             "ticks": ""
            },
            "type": "mesh3d"
           }
          ],
          "parcoords": [
           {
            "line": {
             "colorbar": {
              "outlinewidth": 0,
              "ticks": ""
             }
            },
            "type": "parcoords"
           }
          ],
          "pie": [
           {
            "automargin": true,
            "type": "pie"
           }
          ],
          "scatter": [
           {
            "fillpattern": {
             "fillmode": "overlay",
             "size": 10,
             "solidity": 0.2
            },
            "type": "scatter"
           }
          ],
          "scatter3d": [
           {
            "line": {
             "colorbar": {
              "outlinewidth": 0,
              "ticks": ""
             }
            },
            "marker": {
             "colorbar": {
              "outlinewidth": 0,
              "ticks": ""
             }
            },
            "type": "scatter3d"
           }
          ],
          "scattercarpet": [
           {
            "marker": {
             "colorbar": {
              "outlinewidth": 0,
              "ticks": ""
             }
            },
            "type": "scattercarpet"
           }
          ],
          "scattergeo": [
           {
            "marker": {
             "colorbar": {
              "outlinewidth": 0,
              "ticks": ""
             }
            },
            "type": "scattergeo"
           }
          ],
          "scattergl": [
           {
            "marker": {
             "colorbar": {
              "outlinewidth": 0,
              "ticks": ""
             }
            },
            "type": "scattergl"
           }
          ],
          "scattermapbox": [
           {
            "marker": {
             "colorbar": {
              "outlinewidth": 0,
              "ticks": ""
             }
            },
            "type": "scattermapbox"
           }
          ],
          "scatterpolar": [
           {
            "marker": {
             "colorbar": {
              "outlinewidth": 0,
              "ticks": ""
             }
            },
            "type": "scatterpolar"
           }
          ],
          "scatterpolargl": [
           {
            "marker": {
             "colorbar": {
              "outlinewidth": 0,
              "ticks": ""
             }
            },
            "type": "scatterpolargl"
           }
          ],
          "scatterternary": [
           {
            "marker": {
             "colorbar": {
              "outlinewidth": 0,
              "ticks": ""
             }
            },
            "type": "scatterternary"
           }
          ],
          "surface": [
           {
            "colorbar": {
             "outlinewidth": 0,
             "ticks": ""
            },
            "colorscale": [
             [
              0,
              "#0d0887"
             ],
             [
              0.1111111111111111,
              "#46039f"
             ],
             [
              0.2222222222222222,
              "#7201a8"
             ],
             [
              0.3333333333333333,
              "#9c179e"
             ],
             [
              0.4444444444444444,
              "#bd3786"
             ],
             [
              0.5555555555555556,
              "#d8576b"
             ],
             [
              0.6666666666666666,
              "#ed7953"
             ],
             [
              0.7777777777777778,
              "#fb9f3a"
             ],
             [
              0.8888888888888888,
              "#fdca26"
             ],
             [
              1,
              "#f0f921"
             ]
            ],
            "type": "surface"
           }
          ],
          "table": [
           {
            "cells": {
             "fill": {
              "color": "#EBF0F8"
             },
             "line": {
              "color": "white"
             }
            },
            "header": {
             "fill": {
              "color": "#C8D4E3"
             },
             "line": {
              "color": "white"
             }
            },
            "type": "table"
           }
          ]
         },
         "layout": {
          "annotationdefaults": {
           "arrowcolor": "#2a3f5f",
           "arrowhead": 0,
           "arrowwidth": 1
          },
          "autotypenumbers": "strict",
          "coloraxis": {
           "colorbar": {
            "outlinewidth": 0,
            "ticks": ""
           }
          },
          "colorscale": {
           "diverging": [
            [
             0,
             "#8e0152"
            ],
            [
             0.1,
             "#c51b7d"
            ],
            [
             0.2,
             "#de77ae"
            ],
            [
             0.3,
             "#f1b6da"
            ],
            [
             0.4,
             "#fde0ef"
            ],
            [
             0.5,
             "#f7f7f7"
            ],
            [
             0.6,
             "#e6f5d0"
            ],
            [
             0.7,
             "#b8e186"
            ],
            [
             0.8,
             "#7fbc41"
            ],
            [
             0.9,
             "#4d9221"
            ],
            [
             1,
             "#276419"
            ]
           ],
           "sequential": [
            [
             0,
             "#0d0887"
            ],
            [
             0.1111111111111111,
             "#46039f"
            ],
            [
             0.2222222222222222,
             "#7201a8"
            ],
            [
             0.3333333333333333,
             "#9c179e"
            ],
            [
             0.4444444444444444,
             "#bd3786"
            ],
            [
             0.5555555555555556,
             "#d8576b"
            ],
            [
             0.6666666666666666,
             "#ed7953"
            ],
            [
             0.7777777777777778,
             "#fb9f3a"
            ],
            [
             0.8888888888888888,
             "#fdca26"
            ],
            [
             1,
             "#f0f921"
            ]
           ],
           "sequentialminus": [
            [
             0,
             "#0d0887"
            ],
            [
             0.1111111111111111,
             "#46039f"
            ],
            [
             0.2222222222222222,
             "#7201a8"
            ],
            [
             0.3333333333333333,
             "#9c179e"
            ],
            [
             0.4444444444444444,
             "#bd3786"
            ],
            [
             0.5555555555555556,
             "#d8576b"
            ],
            [
             0.6666666666666666,
             "#ed7953"
            ],
            [
             0.7777777777777778,
             "#fb9f3a"
            ],
            [
             0.8888888888888888,
             "#fdca26"
            ],
            [
             1,
             "#f0f921"
            ]
           ]
          },
          "colorway": [
           "#636efa",
           "#EF553B",
           "#00cc96",
           "#ab63fa",
           "#FFA15A",
           "#19d3f3",
           "#FF6692",
           "#B6E880",
           "#FF97FF",
           "#FECB52"
          ],
          "font": {
           "color": "#2a3f5f"
          },
          "geo": {
           "bgcolor": "white",
           "lakecolor": "white",
           "landcolor": "#E5ECF6",
           "showlakes": true,
           "showland": true,
           "subunitcolor": "white"
          },
          "hoverlabel": {
           "align": "left"
          },
          "hovermode": "closest",
          "mapbox": {
           "style": "light"
          },
          "paper_bgcolor": "white",
          "plot_bgcolor": "#E5ECF6",
          "polar": {
           "angularaxis": {
            "gridcolor": "white",
            "linecolor": "white",
            "ticks": ""
           },
           "bgcolor": "#E5ECF6",
           "radialaxis": {
            "gridcolor": "white",
            "linecolor": "white",
            "ticks": ""
           }
          },
          "scene": {
           "xaxis": {
            "backgroundcolor": "#E5ECF6",
            "gridcolor": "white",
            "gridwidth": 2,
            "linecolor": "white",
            "showbackground": true,
            "ticks": "",
            "zerolinecolor": "white"
           },
           "yaxis": {
            "backgroundcolor": "#E5ECF6",
            "gridcolor": "white",
            "gridwidth": 2,
            "linecolor": "white",
            "showbackground": true,
            "ticks": "",
            "zerolinecolor": "white"
           },
           "zaxis": {
            "backgroundcolor": "#E5ECF6",
            "gridcolor": "white",
            "gridwidth": 2,
            "linecolor": "white",
            "showbackground": true,
            "ticks": "",
            "zerolinecolor": "white"
           }
          },
          "shapedefaults": {
           "line": {
            "color": "#2a3f5f"
           }
          },
          "ternary": {
           "aaxis": {
            "gridcolor": "white",
            "linecolor": "white",
            "ticks": ""
           },
           "baxis": {
            "gridcolor": "white",
            "linecolor": "white",
            "ticks": ""
           },
           "bgcolor": "#E5ECF6",
           "caxis": {
            "gridcolor": "white",
            "linecolor": "white",
            "ticks": ""
           }
          },
          "title": {
           "x": 0.05
          },
          "xaxis": {
           "automargin": true,
           "gridcolor": "white",
           "linecolor": "white",
           "ticks": "",
           "title": {
            "standoff": 15
           },
           "zerolinecolor": "white",
           "zerolinewidth": 2
          },
          "yaxis": {
           "automargin": true,
           "gridcolor": "white",
           "linecolor": "white",
           "ticks": "",
           "title": {
            "standoff": 15
           },
           "zerolinecolor": "white",
           "zerolinewidth": 2
          }
         }
        },
        "title": {
         "text": "Theta values convergence trajectories for the second-order nonlocal continuous Adam"
        },
        "xaxis": {
         "anchor": "y",
         "domain": [
          0,
          1
         ],
         "title": {
          "text": "Time/lr"
         }
        },
        "yaxis": {
         "anchor": "x",
         "domain": [
          0,
          1
         ],
         "title": {
          "text": "Theta value"
         }
        }
       }
      }
     },
     "metadata": {},
     "output_type": "display_data"
    },
    {
     "data": {
      "application/vnd.plotly.v1+json": {
       "config": {
        "plotlyServerURL": "https://plot.ly"
       },
       "data": [
        {
         "legendgroup": "LR=0.1",
         "marker": {
          "size": 3
         },
         "mode": "markers",
         "name": "beta1=0.9, beta2=0.999",
         "type": "scatter",
         "x": [
          1e-12,
          0.10000000000100001,
          0.20000000000100002,
          0.300000000001,
          0.400000000001,
          0.500000000001,
          0.6000000000010001,
          0.700000000001,
          0.800000000001,
          0.900000000001,
          1.000000000001,
          1.1000000000010002,
          1.2000000000010003,
          1.3000000000010001,
          1.4000000000010002,
          1.500000000001,
          1.6000000000010002,
          1.7000000000010003,
          1.8000000000010001,
          1.9000000000010002,
          2.000000000001,
          2.100000000001,
          2.2000000000010003,
          2.3000000000010004,
          2.4000000000010004,
          2.500000000001,
          2.600000000001,
          2.7000000000010003,
          2.8000000000010004
         ],
         "xaxis": "x",
         "y": [
          -5.999999999977164e-23,
          -0.3097945181382682,
          -0.9198833781713703,
          -2.1191603523840397,
          -4.4770528431901235,
          -8.547776829253898,
          -14.823628515526309,
          -23.746430477233293,
          -35.72175120811455,
          -51.12783852742607,
          -70.32081901974114,
          -93.63793266955764,
          -121.39976895020982,
          -153.9119702114414,
          -191.46662344779574,
          -234.34344873301004,
          -282.8108401970979,
          -337.12679054617894,
          -397.53971794846467,
          -464.2892079534681,
          -537.6066798713649,
          -617.7159852385295,
          -704.8339449173066,
          -799.170830659356,
          -900.9307964480527,
          -1010.3122644481222,
          -1127.50827021778,
          -1252.7067707194512,
          -1386.0909212102833
         ],
         "yaxis": "y"
        }
       ],
       "layout": {
        "annotations": [
         {
          "font": {
           "size": 16
          },
          "showarrow": false,
          "text": "Learning Rate = 0.1",
          "x": 0.5,
          "xanchor": "center",
          "xref": "paper",
          "y": 1,
          "yanchor": "bottom",
          "yref": "paper"
         }
        ],
        "template": {
         "data": {
          "bar": [
           {
            "error_x": {
             "color": "#2a3f5f"
            },
            "error_y": {
             "color": "#2a3f5f"
            },
            "marker": {
             "line": {
              "color": "#E5ECF6",
              "width": 0.5
             },
             "pattern": {
              "fillmode": "overlay",
              "size": 10,
              "solidity": 0.2
             }
            },
            "type": "bar"
           }
          ],
          "barpolar": [
           {
            "marker": {
             "line": {
              "color": "#E5ECF6",
              "width": 0.5
             },
             "pattern": {
              "fillmode": "overlay",
              "size": 10,
              "solidity": 0.2
             }
            },
            "type": "barpolar"
           }
          ],
          "carpet": [
           {
            "aaxis": {
             "endlinecolor": "#2a3f5f",
             "gridcolor": "white",
             "linecolor": "white",
             "minorgridcolor": "white",
             "startlinecolor": "#2a3f5f"
            },
            "baxis": {
             "endlinecolor": "#2a3f5f",
             "gridcolor": "white",
             "linecolor": "white",
             "minorgridcolor": "white",
             "startlinecolor": "#2a3f5f"
            },
            "type": "carpet"
           }
          ],
          "choropleth": [
           {
            "colorbar": {
             "outlinewidth": 0,
             "ticks": ""
            },
            "type": "choropleth"
           }
          ],
          "contour": [
           {
            "colorbar": {
             "outlinewidth": 0,
             "ticks": ""
            },
            "colorscale": [
             [
              0,
              "#0d0887"
             ],
             [
              0.1111111111111111,
              "#46039f"
             ],
             [
              0.2222222222222222,
              "#7201a8"
             ],
             [
              0.3333333333333333,
              "#9c179e"
             ],
             [
              0.4444444444444444,
              "#bd3786"
             ],
             [
              0.5555555555555556,
              "#d8576b"
             ],
             [
              0.6666666666666666,
              "#ed7953"
             ],
             [
              0.7777777777777778,
              "#fb9f3a"
             ],
             [
              0.8888888888888888,
              "#fdca26"
             ],
             [
              1,
              "#f0f921"
             ]
            ],
            "type": "contour"
           }
          ],
          "contourcarpet": [
           {
            "colorbar": {
             "outlinewidth": 0,
             "ticks": ""
            },
            "type": "contourcarpet"
           }
          ],
          "heatmap": [
           {
            "colorbar": {
             "outlinewidth": 0,
             "ticks": ""
            },
            "colorscale": [
             [
              0,
              "#0d0887"
             ],
             [
              0.1111111111111111,
              "#46039f"
             ],
             [
              0.2222222222222222,
              "#7201a8"
             ],
             [
              0.3333333333333333,
              "#9c179e"
             ],
             [
              0.4444444444444444,
              "#bd3786"
             ],
             [
              0.5555555555555556,
              "#d8576b"
             ],
             [
              0.6666666666666666,
              "#ed7953"
             ],
             [
              0.7777777777777778,
              "#fb9f3a"
             ],
             [
              0.8888888888888888,
              "#fdca26"
             ],
             [
              1,
              "#f0f921"
             ]
            ],
            "type": "heatmap"
           }
          ],
          "heatmapgl": [
           {
            "colorbar": {
             "outlinewidth": 0,
             "ticks": ""
            },
            "colorscale": [
             [
              0,
              "#0d0887"
             ],
             [
              0.1111111111111111,
              "#46039f"
             ],
             [
              0.2222222222222222,
              "#7201a8"
             ],
             [
              0.3333333333333333,
              "#9c179e"
             ],
             [
              0.4444444444444444,
              "#bd3786"
             ],
             [
              0.5555555555555556,
              "#d8576b"
             ],
             [
              0.6666666666666666,
              "#ed7953"
             ],
             [
              0.7777777777777778,
              "#fb9f3a"
             ],
             [
              0.8888888888888888,
              "#fdca26"
             ],
             [
              1,
              "#f0f921"
             ]
            ],
            "type": "heatmapgl"
           }
          ],
          "histogram": [
           {
            "marker": {
             "pattern": {
              "fillmode": "overlay",
              "size": 10,
              "solidity": 0.2
             }
            },
            "type": "histogram"
           }
          ],
          "histogram2d": [
           {
            "colorbar": {
             "outlinewidth": 0,
             "ticks": ""
            },
            "colorscale": [
             [
              0,
              "#0d0887"
             ],
             [
              0.1111111111111111,
              "#46039f"
             ],
             [
              0.2222222222222222,
              "#7201a8"
             ],
             [
              0.3333333333333333,
              "#9c179e"
             ],
             [
              0.4444444444444444,
              "#bd3786"
             ],
             [
              0.5555555555555556,
              "#d8576b"
             ],
             [
              0.6666666666666666,
              "#ed7953"
             ],
             [
              0.7777777777777778,
              "#fb9f3a"
             ],
             [
              0.8888888888888888,
              "#fdca26"
             ],
             [
              1,
              "#f0f921"
             ]
            ],
            "type": "histogram2d"
           }
          ],
          "histogram2dcontour": [
           {
            "colorbar": {
             "outlinewidth": 0,
             "ticks": ""
            },
            "colorscale": [
             [
              0,
              "#0d0887"
             ],
             [
              0.1111111111111111,
              "#46039f"
             ],
             [
              0.2222222222222222,
              "#7201a8"
             ],
             [
              0.3333333333333333,
              "#9c179e"
             ],
             [
              0.4444444444444444,
              "#bd3786"
             ],
             [
              0.5555555555555556,
              "#d8576b"
             ],
             [
              0.6666666666666666,
              "#ed7953"
             ],
             [
              0.7777777777777778,
              "#fb9f3a"
             ],
             [
              0.8888888888888888,
              "#fdca26"
             ],
             [
              1,
              "#f0f921"
             ]
            ],
            "type": "histogram2dcontour"
           }
          ],
          "mesh3d": [
           {
            "colorbar": {
             "outlinewidth": 0,
             "ticks": ""
            },
            "type": "mesh3d"
           }
          ],
          "parcoords": [
           {
            "line": {
             "colorbar": {
              "outlinewidth": 0,
              "ticks": ""
             }
            },
            "type": "parcoords"
           }
          ],
          "pie": [
           {
            "automargin": true,
            "type": "pie"
           }
          ],
          "scatter": [
           {
            "fillpattern": {
             "fillmode": "overlay",
             "size": 10,
             "solidity": 0.2
            },
            "type": "scatter"
           }
          ],
          "scatter3d": [
           {
            "line": {
             "colorbar": {
              "outlinewidth": 0,
              "ticks": ""
             }
            },
            "marker": {
             "colorbar": {
              "outlinewidth": 0,
              "ticks": ""
             }
            },
            "type": "scatter3d"
           }
          ],
          "scattercarpet": [
           {
            "marker": {
             "colorbar": {
              "outlinewidth": 0,
              "ticks": ""
             }
            },
            "type": "scattercarpet"
           }
          ],
          "scattergeo": [
           {
            "marker": {
             "colorbar": {
              "outlinewidth": 0,
              "ticks": ""
             }
            },
            "type": "scattergeo"
           }
          ],
          "scattergl": [
           {
            "marker": {
             "colorbar": {
              "outlinewidth": 0,
              "ticks": ""
             }
            },
            "type": "scattergl"
           }
          ],
          "scattermapbox": [
           {
            "marker": {
             "colorbar": {
              "outlinewidth": 0,
              "ticks": ""
             }
            },
            "type": "scattermapbox"
           }
          ],
          "scatterpolar": [
           {
            "marker": {
             "colorbar": {
              "outlinewidth": 0,
              "ticks": ""
             }
            },
            "type": "scatterpolar"
           }
          ],
          "scatterpolargl": [
           {
            "marker": {
             "colorbar": {
              "outlinewidth": 0,
              "ticks": ""
             }
            },
            "type": "scatterpolargl"
           }
          ],
          "scatterternary": [
           {
            "marker": {
             "colorbar": {
              "outlinewidth": 0,
              "ticks": ""
             }
            },
            "type": "scatterternary"
           }
          ],
          "surface": [
           {
            "colorbar": {
             "outlinewidth": 0,
             "ticks": ""
            },
            "colorscale": [
             [
              0,
              "#0d0887"
             ],
             [
              0.1111111111111111,
              "#46039f"
             ],
             [
              0.2222222222222222,
              "#7201a8"
             ],
             [
              0.3333333333333333,
              "#9c179e"
             ],
             [
              0.4444444444444444,
              "#bd3786"
             ],
             [
              0.5555555555555556,
              "#d8576b"
             ],
             [
              0.6666666666666666,
              "#ed7953"
             ],
             [
              0.7777777777777778,
              "#fb9f3a"
             ],
             [
              0.8888888888888888,
              "#fdca26"
             ],
             [
              1,
              "#f0f921"
             ]
            ],
            "type": "surface"
           }
          ],
          "table": [
           {
            "cells": {
             "fill": {
              "color": "#EBF0F8"
             },
             "line": {
              "color": "white"
             }
            },
            "header": {
             "fill": {
              "color": "#C8D4E3"
             },
             "line": {
              "color": "white"
             }
            },
            "type": "table"
           }
          ]
         },
         "layout": {
          "annotationdefaults": {
           "arrowcolor": "#2a3f5f",
           "arrowhead": 0,
           "arrowwidth": 1
          },
          "autotypenumbers": "strict",
          "coloraxis": {
           "colorbar": {
            "outlinewidth": 0,
            "ticks": ""
           }
          },
          "colorscale": {
           "diverging": [
            [
             0,
             "#8e0152"
            ],
            [
             0.1,
             "#c51b7d"
            ],
            [
             0.2,
             "#de77ae"
            ],
            [
             0.3,
             "#f1b6da"
            ],
            [
             0.4,
             "#fde0ef"
            ],
            [
             0.5,
             "#f7f7f7"
            ],
            [
             0.6,
             "#e6f5d0"
            ],
            [
             0.7,
             "#b8e186"
            ],
            [
             0.8,
             "#7fbc41"
            ],
            [
             0.9,
             "#4d9221"
            ],
            [
             1,
             "#276419"
            ]
           ],
           "sequential": [
            [
             0,
             "#0d0887"
            ],
            [
             0.1111111111111111,
             "#46039f"
            ],
            [
             0.2222222222222222,
             "#7201a8"
            ],
            [
             0.3333333333333333,
             "#9c179e"
            ],
            [
             0.4444444444444444,
             "#bd3786"
            ],
            [
             0.5555555555555556,
             "#d8576b"
            ],
            [
             0.6666666666666666,
             "#ed7953"
            ],
            [
             0.7777777777777778,
             "#fb9f3a"
            ],
            [
             0.8888888888888888,
             "#fdca26"
            ],
            [
             1,
             "#f0f921"
            ]
           ],
           "sequentialminus": [
            [
             0,
             "#0d0887"
            ],
            [
             0.1111111111111111,
             "#46039f"
            ],
            [
             0.2222222222222222,
             "#7201a8"
            ],
            [
             0.3333333333333333,
             "#9c179e"
            ],
            [
             0.4444444444444444,
             "#bd3786"
            ],
            [
             0.5555555555555556,
             "#d8576b"
            ],
            [
             0.6666666666666666,
             "#ed7953"
            ],
            [
             0.7777777777777778,
             "#fb9f3a"
            ],
            [
             0.8888888888888888,
             "#fdca26"
            ],
            [
             1,
             "#f0f921"
            ]
           ]
          },
          "colorway": [
           "#636efa",
           "#EF553B",
           "#00cc96",
           "#ab63fa",
           "#FFA15A",
           "#19d3f3",
           "#FF6692",
           "#B6E880",
           "#FF97FF",
           "#FECB52"
          ],
          "font": {
           "color": "#2a3f5f"
          },
          "geo": {
           "bgcolor": "white",
           "lakecolor": "white",
           "landcolor": "#E5ECF6",
           "showlakes": true,
           "showland": true,
           "subunitcolor": "white"
          },
          "hoverlabel": {
           "align": "left"
          },
          "hovermode": "closest",
          "mapbox": {
           "style": "light"
          },
          "paper_bgcolor": "white",
          "plot_bgcolor": "#E5ECF6",
          "polar": {
           "angularaxis": {
            "gridcolor": "white",
            "linecolor": "white",
            "ticks": ""
           },
           "bgcolor": "#E5ECF6",
           "radialaxis": {
            "gridcolor": "white",
            "linecolor": "white",
            "ticks": ""
           }
          },
          "scene": {
           "xaxis": {
            "backgroundcolor": "#E5ECF6",
            "gridcolor": "white",
            "gridwidth": 2,
            "linecolor": "white",
            "showbackground": true,
            "ticks": "",
            "zerolinecolor": "white"
           },
           "yaxis": {
            "backgroundcolor": "#E5ECF6",
            "gridcolor": "white",
            "gridwidth": 2,
            "linecolor": "white",
            "showbackground": true,
            "ticks": "",
            "zerolinecolor": "white"
           },
           "zaxis": {
            "backgroundcolor": "#E5ECF6",
            "gridcolor": "white",
            "gridwidth": 2,
            "linecolor": "white",
            "showbackground": true,
            "ticks": "",
            "zerolinecolor": "white"
           }
          },
          "shapedefaults": {
           "line": {
            "color": "#2a3f5f"
           }
          },
          "ternary": {
           "aaxis": {
            "gridcolor": "white",
            "linecolor": "white",
            "ticks": ""
           },
           "baxis": {
            "gridcolor": "white",
            "linecolor": "white",
            "ticks": ""
           },
           "bgcolor": "#E5ECF6",
           "caxis": {
            "gridcolor": "white",
            "linecolor": "white",
            "ticks": ""
           }
          },
          "title": {
           "x": 0.05
          },
          "xaxis": {
           "automargin": true,
           "gridcolor": "white",
           "linecolor": "white",
           "ticks": "",
           "title": {
            "standoff": 15
           },
           "zerolinecolor": "white",
           "zerolinewidth": 2
          },
          "yaxis": {
           "automargin": true,
           "gridcolor": "white",
           "linecolor": "white",
           "ticks": "",
           "title": {
            "standoff": 15
           },
           "zerolinecolor": "white",
           "zerolinewidth": 2
          }
         }
        },
        "title": {
         "text": "Numerators (m) over Time for the second-order nonlocal continuous Adam"
        },
        "xaxis": {
         "anchor": "y",
         "domain": [
          0,
          1
         ],
         "title": {
          "text": "Time/lr"
         }
        },
        "yaxis": {
         "anchor": "x",
         "domain": [
          0,
          1
         ],
         "title": {
          "text": "Numerator value (m)"
         }
        }
       }
      }
     },
     "metadata": {},
     "output_type": "display_data"
    },
    {
     "data": {
      "application/vnd.plotly.v1+json": {
       "config": {
        "plotlyServerURL": "https://plot.ly"
       },
       "data": [
        {
         "legendgroup": "LR=0.1",
         "marker": {
          "size": 3
         },
         "mode": "markers",
         "name": "beta1=0.9, beta2=0.999",
         "type": "scatter",
         "x": [
          1e-12,
          0.10000000000100001,
          0.20000000000100002,
          0.300000000001,
          0.400000000001,
          0.500000000001,
          0.6000000000010001,
          0.700000000001,
          0.800000000001,
          0.900000000001,
          1.000000000001,
          1.1000000000010002,
          1.2000000000010003,
          1.3000000000010001,
          1.4000000000010002,
          1.500000000001,
          1.6000000000010002,
          1.7000000000010003,
          1.8000000000010001,
          1.9000000000010002,
          2.000000000001,
          2.100000000001,
          2.2000000000010003,
          2.3000000000010004,
          2.4000000000010004,
          2.500000000001,
          2.600000000001,
          2.7000000000010003,
          2.8000000000010004
         ],
         "xaxis": "x",
         "y": [
          3.5999999999966014e-24,
          0.017421417595057297,
          0.0637577647206814,
          0.2537754296970488,
          0.9899021541029244,
          3.197467637550854,
          8.575961181819075,
          19.863436273538497,
          41.12348592789847,
          78.05688711927398,
          138.3376387208405,
          231.97297865047847,
          371.68717744246766,
          573.3290614832026,
          856.3032972793186,
          1244.0254966563284,
          1764.401202028788,
          2450.3287934673017,
          3340.22633221192,
          4478.582322794274,
          5916.53034063557,
          7712.4474355700995,
          9932.576185393204,
          12651.670237855682,
          15953.663145845694,
          19932.360266074378,
          24692.1534695665,
          30348.758350245807,
          37029.97373015754
         ],
         "yaxis": "y"
        }
       ],
       "layout": {
        "annotations": [
         {
          "font": {
           "size": 16
          },
          "showarrow": false,
          "text": "Learning Rate = 0.1",
          "x": 0.5,
          "xanchor": "center",
          "xref": "paper",
          "y": 1,
          "yanchor": "bottom",
          "yref": "paper"
         }
        ],
        "template": {
         "data": {
          "bar": [
           {
            "error_x": {
             "color": "#2a3f5f"
            },
            "error_y": {
             "color": "#2a3f5f"
            },
            "marker": {
             "line": {
              "color": "#E5ECF6",
              "width": 0.5
             },
             "pattern": {
              "fillmode": "overlay",
              "size": 10,
              "solidity": 0.2
             }
            },
            "type": "bar"
           }
          ],
          "barpolar": [
           {
            "marker": {
             "line": {
              "color": "#E5ECF6",
              "width": 0.5
             },
             "pattern": {
              "fillmode": "overlay",
              "size": 10,
              "solidity": 0.2
             }
            },
            "type": "barpolar"
           }
          ],
          "carpet": [
           {
            "aaxis": {
             "endlinecolor": "#2a3f5f",
             "gridcolor": "white",
             "linecolor": "white",
             "minorgridcolor": "white",
             "startlinecolor": "#2a3f5f"
            },
            "baxis": {
             "endlinecolor": "#2a3f5f",
             "gridcolor": "white",
             "linecolor": "white",
             "minorgridcolor": "white",
             "startlinecolor": "#2a3f5f"
            },
            "type": "carpet"
           }
          ],
          "choropleth": [
           {
            "colorbar": {
             "outlinewidth": 0,
             "ticks": ""
            },
            "type": "choropleth"
           }
          ],
          "contour": [
           {
            "colorbar": {
             "outlinewidth": 0,
             "ticks": ""
            },
            "colorscale": [
             [
              0,
              "#0d0887"
             ],
             [
              0.1111111111111111,
              "#46039f"
             ],
             [
              0.2222222222222222,
              "#7201a8"
             ],
             [
              0.3333333333333333,
              "#9c179e"
             ],
             [
              0.4444444444444444,
              "#bd3786"
             ],
             [
              0.5555555555555556,
              "#d8576b"
             ],
             [
              0.6666666666666666,
              "#ed7953"
             ],
             [
              0.7777777777777778,
              "#fb9f3a"
             ],
             [
              0.8888888888888888,
              "#fdca26"
             ],
             [
              1,
              "#f0f921"
             ]
            ],
            "type": "contour"
           }
          ],
          "contourcarpet": [
           {
            "colorbar": {
             "outlinewidth": 0,
             "ticks": ""
            },
            "type": "contourcarpet"
           }
          ],
          "heatmap": [
           {
            "colorbar": {
             "outlinewidth": 0,
             "ticks": ""
            },
            "colorscale": [
             [
              0,
              "#0d0887"
             ],
             [
              0.1111111111111111,
              "#46039f"
             ],
             [
              0.2222222222222222,
              "#7201a8"
             ],
             [
              0.3333333333333333,
              "#9c179e"
             ],
             [
              0.4444444444444444,
              "#bd3786"
             ],
             [
              0.5555555555555556,
              "#d8576b"
             ],
             [
              0.6666666666666666,
              "#ed7953"
             ],
             [
              0.7777777777777778,
              "#fb9f3a"
             ],
             [
              0.8888888888888888,
              "#fdca26"
             ],
             [
              1,
              "#f0f921"
             ]
            ],
            "type": "heatmap"
           }
          ],
          "heatmapgl": [
           {
            "colorbar": {
             "outlinewidth": 0,
             "ticks": ""
            },
            "colorscale": [
             [
              0,
              "#0d0887"
             ],
             [
              0.1111111111111111,
              "#46039f"
             ],
             [
              0.2222222222222222,
              "#7201a8"
             ],
             [
              0.3333333333333333,
              "#9c179e"
             ],
             [
              0.4444444444444444,
              "#bd3786"
             ],
             [
              0.5555555555555556,
              "#d8576b"
             ],
             [
              0.6666666666666666,
              "#ed7953"
             ],
             [
              0.7777777777777778,
              "#fb9f3a"
             ],
             [
              0.8888888888888888,
              "#fdca26"
             ],
             [
              1,
              "#f0f921"
             ]
            ],
            "type": "heatmapgl"
           }
          ],
          "histogram": [
           {
            "marker": {
             "pattern": {
              "fillmode": "overlay",
              "size": 10,
              "solidity": 0.2
             }
            },
            "type": "histogram"
           }
          ],
          "histogram2d": [
           {
            "colorbar": {
             "outlinewidth": 0,
             "ticks": ""
            },
            "colorscale": [
             [
              0,
              "#0d0887"
             ],
             [
              0.1111111111111111,
              "#46039f"
             ],
             [
              0.2222222222222222,
              "#7201a8"
             ],
             [
              0.3333333333333333,
              "#9c179e"
             ],
             [
              0.4444444444444444,
              "#bd3786"
             ],
             [
              0.5555555555555556,
              "#d8576b"
             ],
             [
              0.6666666666666666,
              "#ed7953"
             ],
             [
              0.7777777777777778,
              "#fb9f3a"
             ],
             [
              0.8888888888888888,
              "#fdca26"
             ],
             [
              1,
              "#f0f921"
             ]
            ],
            "type": "histogram2d"
           }
          ],
          "histogram2dcontour": [
           {
            "colorbar": {
             "outlinewidth": 0,
             "ticks": ""
            },
            "colorscale": [
             [
              0,
              "#0d0887"
             ],
             [
              0.1111111111111111,
              "#46039f"
             ],
             [
              0.2222222222222222,
              "#7201a8"
             ],
             [
              0.3333333333333333,
              "#9c179e"
             ],
             [
              0.4444444444444444,
              "#bd3786"
             ],
             [
              0.5555555555555556,
              "#d8576b"
             ],
             [
              0.6666666666666666,
              "#ed7953"
             ],
             [
              0.7777777777777778,
              "#fb9f3a"
             ],
             [
              0.8888888888888888,
              "#fdca26"
             ],
             [
              1,
              "#f0f921"
             ]
            ],
            "type": "histogram2dcontour"
           }
          ],
          "mesh3d": [
           {
            "colorbar": {
             "outlinewidth": 0,
             "ticks": ""
            },
            "type": "mesh3d"
           }
          ],
          "parcoords": [
           {
            "line": {
             "colorbar": {
              "outlinewidth": 0,
              "ticks": ""
             }
            },
            "type": "parcoords"
           }
          ],
          "pie": [
           {
            "automargin": true,
            "type": "pie"
           }
          ],
          "scatter": [
           {
            "fillpattern": {
             "fillmode": "overlay",
             "size": 10,
             "solidity": 0.2
            },
            "type": "scatter"
           }
          ],
          "scatter3d": [
           {
            "line": {
             "colorbar": {
              "outlinewidth": 0,
              "ticks": ""
             }
            },
            "marker": {
             "colorbar": {
              "outlinewidth": 0,
              "ticks": ""
             }
            },
            "type": "scatter3d"
           }
          ],
          "scattercarpet": [
           {
            "marker": {
             "colorbar": {
              "outlinewidth": 0,
              "ticks": ""
             }
            },
            "type": "scattercarpet"
           }
          ],
          "scattergeo": [
           {
            "marker": {
             "colorbar": {
              "outlinewidth": 0,
              "ticks": ""
             }
            },
            "type": "scattergeo"
           }
          ],
          "scattergl": [
           {
            "marker": {
             "colorbar": {
              "outlinewidth": 0,
              "ticks": ""
             }
            },
            "type": "scattergl"
           }
          ],
          "scattermapbox": [
           {
            "marker": {
             "colorbar": {
              "outlinewidth": 0,
              "ticks": ""
             }
            },
            "type": "scattermapbox"
           }
          ],
          "scatterpolar": [
           {
            "marker": {
             "colorbar": {
              "outlinewidth": 0,
              "ticks": ""
             }
            },
            "type": "scatterpolar"
           }
          ],
          "scatterpolargl": [
           {
            "marker": {
             "colorbar": {
              "outlinewidth": 0,
              "ticks": ""
             }
            },
            "type": "scatterpolargl"
           }
          ],
          "scatterternary": [
           {
            "marker": {
             "colorbar": {
              "outlinewidth": 0,
              "ticks": ""
             }
            },
            "type": "scatterternary"
           }
          ],
          "surface": [
           {
            "colorbar": {
             "outlinewidth": 0,
             "ticks": ""
            },
            "colorscale": [
             [
              0,
              "#0d0887"
             ],
             [
              0.1111111111111111,
              "#46039f"
             ],
             [
              0.2222222222222222,
              "#7201a8"
             ],
             [
              0.3333333333333333,
              "#9c179e"
             ],
             [
              0.4444444444444444,
              "#bd3786"
             ],
             [
              0.5555555555555556,
              "#d8576b"
             ],
             [
              0.6666666666666666,
              "#ed7953"
             ],
             [
              0.7777777777777778,
              "#fb9f3a"
             ],
             [
              0.8888888888888888,
              "#fdca26"
             ],
             [
              1,
              "#f0f921"
             ]
            ],
            "type": "surface"
           }
          ],
          "table": [
           {
            "cells": {
             "fill": {
              "color": "#EBF0F8"
             },
             "line": {
              "color": "white"
             }
            },
            "header": {
             "fill": {
              "color": "#C8D4E3"
             },
             "line": {
              "color": "white"
             }
            },
            "type": "table"
           }
          ]
         },
         "layout": {
          "annotationdefaults": {
           "arrowcolor": "#2a3f5f",
           "arrowhead": 0,
           "arrowwidth": 1
          },
          "autotypenumbers": "strict",
          "coloraxis": {
           "colorbar": {
            "outlinewidth": 0,
            "ticks": ""
           }
          },
          "colorscale": {
           "diverging": [
            [
             0,
             "#8e0152"
            ],
            [
             0.1,
             "#c51b7d"
            ],
            [
             0.2,
             "#de77ae"
            ],
            [
             0.3,
             "#f1b6da"
            ],
            [
             0.4,
             "#fde0ef"
            ],
            [
             0.5,
             "#f7f7f7"
            ],
            [
             0.6,
             "#e6f5d0"
            ],
            [
             0.7,
             "#b8e186"
            ],
            [
             0.8,
             "#7fbc41"
            ],
            [
             0.9,
             "#4d9221"
            ],
            [
             1,
             "#276419"
            ]
           ],
           "sequential": [
            [
             0,
             "#0d0887"
            ],
            [
             0.1111111111111111,
             "#46039f"
            ],
            [
             0.2222222222222222,
             "#7201a8"
            ],
            [
             0.3333333333333333,
             "#9c179e"
            ],
            [
             0.4444444444444444,
             "#bd3786"
            ],
            [
             0.5555555555555556,
             "#d8576b"
            ],
            [
             0.6666666666666666,
             "#ed7953"
            ],
            [
             0.7777777777777778,
             "#fb9f3a"
            ],
            [
             0.8888888888888888,
             "#fdca26"
            ],
            [
             1,
             "#f0f921"
            ]
           ],
           "sequentialminus": [
            [
             0,
             "#0d0887"
            ],
            [
             0.1111111111111111,
             "#46039f"
            ],
            [
             0.2222222222222222,
             "#7201a8"
            ],
            [
             0.3333333333333333,
             "#9c179e"
            ],
            [
             0.4444444444444444,
             "#bd3786"
            ],
            [
             0.5555555555555556,
             "#d8576b"
            ],
            [
             0.6666666666666666,
             "#ed7953"
            ],
            [
             0.7777777777777778,
             "#fb9f3a"
            ],
            [
             0.8888888888888888,
             "#fdca26"
            ],
            [
             1,
             "#f0f921"
            ]
           ]
          },
          "colorway": [
           "#636efa",
           "#EF553B",
           "#00cc96",
           "#ab63fa",
           "#FFA15A",
           "#19d3f3",
           "#FF6692",
           "#B6E880",
           "#FF97FF",
           "#FECB52"
          ],
          "font": {
           "color": "#2a3f5f"
          },
          "geo": {
           "bgcolor": "white",
           "lakecolor": "white",
           "landcolor": "#E5ECF6",
           "showlakes": true,
           "showland": true,
           "subunitcolor": "white"
          },
          "hoverlabel": {
           "align": "left"
          },
          "hovermode": "closest",
          "mapbox": {
           "style": "light"
          },
          "paper_bgcolor": "white",
          "plot_bgcolor": "#E5ECF6",
          "polar": {
           "angularaxis": {
            "gridcolor": "white",
            "linecolor": "white",
            "ticks": ""
           },
           "bgcolor": "#E5ECF6",
           "radialaxis": {
            "gridcolor": "white",
            "linecolor": "white",
            "ticks": ""
           }
          },
          "scene": {
           "xaxis": {
            "backgroundcolor": "#E5ECF6",
            "gridcolor": "white",
            "gridwidth": 2,
            "linecolor": "white",
            "showbackground": true,
            "ticks": "",
            "zerolinecolor": "white"
           },
           "yaxis": {
            "backgroundcolor": "#E5ECF6",
            "gridcolor": "white",
            "gridwidth": 2,
            "linecolor": "white",
            "showbackground": true,
            "ticks": "",
            "zerolinecolor": "white"
           },
           "zaxis": {
            "backgroundcolor": "#E5ECF6",
            "gridcolor": "white",
            "gridwidth": 2,
            "linecolor": "white",
            "showbackground": true,
            "ticks": "",
            "zerolinecolor": "white"
           }
          },
          "shapedefaults": {
           "line": {
            "color": "#2a3f5f"
           }
          },
          "ternary": {
           "aaxis": {
            "gridcolor": "white",
            "linecolor": "white",
            "ticks": ""
           },
           "baxis": {
            "gridcolor": "white",
            "linecolor": "white",
            "ticks": ""
           },
           "bgcolor": "#E5ECF6",
           "caxis": {
            "gridcolor": "white",
            "linecolor": "white",
            "ticks": ""
           }
          },
          "title": {
           "x": 0.05
          },
          "xaxis": {
           "automargin": true,
           "gridcolor": "white",
           "linecolor": "white",
           "ticks": "",
           "title": {
            "standoff": 15
           },
           "zerolinecolor": "white",
           "zerolinewidth": 2
          },
          "yaxis": {
           "automargin": true,
           "gridcolor": "white",
           "linecolor": "white",
           "ticks": "",
           "title": {
            "standoff": 15
           },
           "zerolinecolor": "white",
           "zerolinewidth": 2
          }
         }
        },
        "title": {
         "text": "Denominators (v) over Time for the second-order nonlocal continuous Adam"
        },
        "xaxis": {
         "anchor": "y",
         "domain": [
          0,
          1
         ],
         "title": {
          "text": "Time/lr"
         }
        },
        "yaxis": {
         "anchor": "x",
         "domain": [
          0,
          1
         ],
         "title": {
          "text": "Denominator value (v)"
         }
        }
       }
      }
     },
     "metadata": {},
     "output_type": "display_data"
    }
   ],
   "source": [
    "import plotly.graph_objects as go\n",
    "from plotly.subplots import make_subplots\n",
    "import numpy as np\n",
    "\n",
    "fig_theta = make_subplots(rows=1, cols=n_learning_rates, subplot_titles=[f'Learning Rate = {lr}' for lr in param_grid['lr']])\n",
    "fig_m = make_subplots(rows=1, cols=n_learning_rates, subplot_titles=[f'Learning Rate = {lr}' for lr in param_grid['lr']])\n",
    "fig_v = make_subplots(rows=1, cols=n_learning_rates, subplot_titles=[f'Learning Rate = {lr}' for lr in param_grid['lr']])\n",
    "\n",
    "fig_theta.update_layout(title_text='Theta values convergence trajectories for the second-order nonlocal continuous Adam')\n",
    "fig_m.update_layout(title_text='Numerators (m) over Time for the second-order nonlocal continuous Adam')\n",
    "fig_v.update_layout(title_text='Denominators (v) over Time for the second-order nonlocal continuous Adam')\n",
    "\n",
    "for i, lr in enumerate(param_grid['lr']):\n",
    "\n",
    "    filtered_params = [p for p in param_list if p['lr'] == lr]\n",
    "\n",
    "    for params in filtered_params:\n",
    "        print(f'\\nNonlocal Continuous Adam Configuration: {params}')\n",
    "\n",
    "        solver = NonlocalSolverMomentum2ndOrder(f=f, dL=dL, t_span=t, y0=np.array([1.0]),dy0=np.array([0.0]), alpha=params['lr'],\n",
    "                                        betas=[params['beta1'], params['beta2']])\n",
    "        t_values, y_values, dy_values = solver.solve()\n",
    "        \n",
    "        label = f\"beta1={params['beta1']}, beta2={params['beta2']}\"\n",
    "\n",
    "        # Agregar datos a la figura de theta\n",
    "        fig_theta.add_trace(go.Scatter(\n",
    "            x=t_values/params['lr'],\n",
    "            y=y_values,\n",
    "            mode='lines',\n",
    "            name=label,\n",
    "            legendgroup=f'LR={lr}',\n",
    "        ), row=1, col=i+1)\n",
    "        \n",
    "        # Obtener los valores de numerators y denominators\n",
    "        numerators = solver.m\n",
    "        denominators = solver.v\n",
    "\n",
    "        # Agregar datos a la figura de numerators\n",
    "        fig_m.add_trace(go.Scatter(\n",
    "            x=[item[0] for item in numerators],\n",
    "            y=[item[1]/params['lr'] for item in numerators],\n",
    "            mode='markers',\n",
    "            marker=dict(size=3),\n",
    "            name=label,\n",
    "            legendgroup=f'LR={lr}',\n",
    "        ), row=1, col=i+1)\n",
    "        \n",
    "        # Agregar datos a la figura de denominators\n",
    "        fig_v.add_trace(go.Scatter(\n",
    "            x=[item[0] for item in denominators],\n",
    "            y=[item[1]/params['lr'] for item in denominators],\n",
    "            mode='markers',\n",
    "            marker=dict(size=3),\n",
    "            name=label,\n",
    "            legendgroup=f'LR={lr}',\n",
    "        ), row=1, col=i+1)\n",
    "\n",
    "# Actualización de los ejes\n",
    "fig_theta.update_xaxes(title_text=\"Time/lr\")\n",
    "fig_theta.update_yaxes(title_text=\"Theta value\")\n",
    "\n",
    "fig_m.update_xaxes(title_text=\"Time/lr\")\n",
    "fig_m.update_yaxes(title_text=\"Numerator value (m)\")\n",
    "\n",
    "fig_v.update_xaxes(title_text=\"Time/lr\")\n",
    "fig_v.update_yaxes(title_text=\"Denominator value (v)\")\n",
    "\n",
    "# Mostrar las figuras\n",
    "fig_theta.show()\n",
    "fig_m.show()\n",
    "fig_v.show()"
   ]
  }
 ],
 "metadata": {
  "kernelspec": {
   "display_name": "Python 3",
   "language": "python",
   "name": "python3"
  },
  "language_info": {
   "codemirror_mode": {
    "name": "ipython",
    "version": 3
   },
   "file_extension": ".py",
   "mimetype": "text/x-python",
   "name": "python",
   "nbconvert_exporter": "python",
   "pygments_lexer": "ipython3",
   "version": "3.11.8"
  }
 },
 "nbformat": 4,
 "nbformat_minor": 2
}
