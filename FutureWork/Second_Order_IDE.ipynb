{
 "cells": [
  {
   "cell_type": "code",
   "execution_count": 2,
   "metadata": {},
   "outputs": [],
   "source": [
    "from scipy.integrate import fixed_quad\n",
    "from scipy.interpolate import interp1d\n",
    "from concurrent.futures import ThreadPoolExecutor\n",
    "from numba import njit\n",
    "from typing import Callable\n",
    "import numpy as np"
   ]
  },
  {
   "cell_type": "code",
   "execution_count": 10,
   "metadata": {},
   "outputs": [],
   "source": [
    "class NonlocalSolverMomentum2ndOrder:\n",
    "    def __init__(self, f: Callable, dL: Callable, t_span: list, y0: np.array, dy0: np.array, betas: list,\n",
    "                 alpha: float, omega:float = 0, lambda_:float = 0, verbose: bool = True):\n",
    "        \n",
    "        np.random.seed(33)\n",
    "\n",
    "        self.f = f\n",
    "        self.t_span = t_span\n",
    "        self.y0 = y0\n",
    "        self.dy0 = dy0  \n",
    "        self.alpha = alpha\n",
    "        self.omega = omega\n",
    "        self.t = np.arange(t_span[0], t_span[1], alpha)\n",
    "        self.betas = betas\n",
    "        self.lambda_ = lambda_\n",
    "        self.dL = dL\n",
    "        self.alpha_t = lambda t: 2 * np.sqrt((1-betas[1]**(t/alpha)) / alpha) / ( alpha * (1 - betas[0]**(t/alpha)))\n",
    "        \n",
    "        self.epsilon_t = lambda t: np.sqrt((1-betas[1]**(t/alpha)) / alpha) * 1e-8\n",
    "\n",
    "        self.smoothing_factor = 0.5\n",
    "        self.smoothing_factor_max = 0.9999\n",
    "        self.increments = np.linspace(self.smoothing_factor, self.smoothing_factor_max, num=int(1e3))\n",
    "        self.max_value_index = False\n",
    "\n",
    "        self.max_iteration = 600\n",
    "        self.global_error_tolerance = 1e-4\n",
    "        self.verbose = verbose\n",
    "\n",
    "\n",
    "    def __k__(self, i: int, s: float) -> float:\n",
    "        exp_term = np.exp(-s / self.alpha)\n",
    "        \n",
    "        if np.all(exp_term == 0.0):\n",
    "            return 0.0\n",
    "        \n",
    "        beta_value = self.betas[i - 1]\n",
    "        if beta_value == 0.5:\n",
    "            return (s / self.alpha) * exp_term\n",
    "        \n",
    "        sqrt_term = np.sqrt(abs(2 * beta_value - 1))\n",
    "        arg_term = sqrt_term / self.alpha * s\n",
    "        \n",
    "        if beta_value > 0.5:\n",
    "            sinh_value = np.sinh(arg_term)\n",
    "            return (2 * (1 - beta_value)) / sqrt_term * exp_term * sinh_value\n",
    "        \n",
    "        # Caso beta_value < 0.5\n",
    "        return (2 * (1 - beta_value)) / sqrt_term * exp_term * np.sin(arg_term)\n",
    "\n",
    "        \n",
    "    def __rhs_system__(self, t, y_vec):\n",
    "        y1, y2 = y_vec\n",
    "        dy1 = y2\n",
    "        dy2 =  (2 / self.alpha) * (y2 + (self.omega / self.alpha) * y1)\n",
    "        return np.array([dy1, dy2])\n",
    "    \n",
    "    def __initial_solution__(self) -> np.array:\n",
    "        return self.__solve_ode__(self.__rhs_system__)\n",
    "       \n",
    "    def __solve_ode__(self, rhs_ode: Callable) -> np.array:\n",
    "        t_values = self.t\n",
    "        n = len(t_values)\n",
    "        y_values = np.zeros((n, 2)) \n",
    "        \n",
    "        # Inicialización de valores iniciales\n",
    "        y_values[0, 0] = self.y0.item() if isinstance(self.y0, np.ndarray) else self.y0\n",
    "        y_values[0, 1] = self.dy0.item() if isinstance(self.dy0, np.ndarray) else self.dy0   \n",
    "        \n",
    "        # Integración a lo largo del tiempo\n",
    "        for i in range(1, n):\n",
    "            dy = rhs_ode(t_values[i - 1], y_values[i - 1])\n",
    "            y_values[i] = y_values[i - 1] + self.alpha * dy\n",
    "        \n",
    "        return y_values\n",
    "          \n",
    "    def __rhs_with_integral_part__(self, y: np.array) -> np.array:\n",
    "        y_interpolated = interp1d(self.t, y[:, 0], kind='cubic', fill_value=\"extrapolate\", assume_sorted=True)\n",
    "\n",
    "        dy_dt = np.gradient(y_interpolated(self.t), self.t)  \n",
    "        dy_interpolated = interp1d(self.t, dy_dt, kind='cubic', fill_value=\"extrapolate\", assume_sorted=True)\n",
    "\n",
    "        self.m = []\n",
    "        self.v = []\n",
    "\n",
    "        def integral(t):\n",
    "            def integrand(i, tp):\n",
    "                k_value = self.__k__(i, t - tp)\n",
    "                df_value = self.dL(y_interpolated(tp))\n",
    "                common_term = df_value + 0.5 * self.lambda_ * y_interpolated(tp)\n",
    "                return k_value * common_term if i == 1 else k_value * (common_term ** 2)\n",
    "            \n",
    "            numerador_func = lambda tp: integrand(1, tp)\n",
    "            denominador_func = lambda tp: integrand(2, tp)\n",
    "\n",
    "            with ThreadPoolExecutor() as executor:\n",
    "                future_numerator = executor.submit(fixed_quad, numerador_func, 0, t, n=int(1e3))\n",
    "                future_denominator = executor.submit(fixed_quad, denominador_func, 0, t, n=int(1e3))\n",
    "\n",
    "                value_numerator, _ = future_numerator.result()\n",
    "                value_denominator, _ = future_denominator.result()\n",
    "\n",
    "            v_value = value_denominator\n",
    "            v_sqrt_value = np.sqrt(v_value) \n",
    "            m_value = value_numerator\n",
    "\n",
    "            self.m.append((t, m_value))\n",
    "            self.v.append((t, v_value))   \n",
    "\n",
    "            return m_value / (v_sqrt_value + self.epsilon_t(t))\n",
    "\n",
    "        def rhs(t, y):\n",
    "            y_vec = np.array([y_interpolated(t), dy_interpolated(t)])\n",
    "            return self.__rhs_system__(t, y_vec) + self.alpha_t(t) * integral(t)\n",
    "                \n",
    "        return self.__solve_ode__(rhs)\n",
    "    \n",
    "    @staticmethod\n",
    "    @njit(parallel=True)\n",
    "    def __global_error__(y_new: np.array, y_guess: np.array) -> float:\n",
    "        diff = y_new - y_guess\n",
    "        return np.sqrt(np.sum(diff ** 2))\n",
    "    \n",
    "    @staticmethod\n",
    "    @njit(parallel=True)\n",
    "    def __next_y__(smoothing_factor: float, y_current: np.array, y_guess: np.array) -> np.array:\n",
    "        return (smoothing_factor * y_current) + ((1.0 - smoothing_factor) * y_guess)            \n",
    "        \n",
    "    def solve(self):\n",
    "        self.iteration = 0\n",
    "\n",
    "        y_current = self.__initial_solution__()\n",
    "        y_guess = self.__rhs_with_integral_part__(y_current)\n",
    "        current_error = self.__global_error__(y_current, y_guess)\n",
    "\n",
    "        if self.verbose:\n",
    "            print(f\"Iteration {self.iteration} advanced. Current error: {current_error}.\")\n",
    "\n",
    "        last_error = current_error\n",
    "        while current_error > self.global_error_tolerance:\n",
    "            \n",
    "            y_new = self.__next_y__(self.smoothing_factor, y_current, y_guess)\n",
    "            y_guess = self.__rhs_with_integral_part__(y_new)\n",
    "            current_error = self.__global_error__(y_new, y_guess)\n",
    "\n",
    "            y_current = y_new\n",
    "            self.iteration += 1\n",
    "\n",
    "            if current_error > last_error:\n",
    "                    if self.max_value_index:\n",
    "                        print(f'Maximum value of the smoothing factor reached. The algorithm will stop without reaching the desired tolerance. The error is {current_error}.')\n",
    "                        break\n",
    "\n",
    "                    try:\n",
    "                        next_factor = self.increments[np.searchsorted(self.increments, self.smoothing_factor, side='right')]\n",
    "                    except IndexError:\n",
    "                        next_factor = self.smoothing_factor_max\n",
    "                        print(f'Smoothing factor is at maximum value.')\n",
    "                        self.max_value_index = True\n",
    "\n",
    "                    self.smoothing_factor = min(self.smoothing_factor_max, next_factor)\n",
    "            last_error = current_error\n",
    "\n",
    "            if self.verbose and self.iteration % 1 == 0:\n",
    "                print(f\"Iteration {self.iteration} advanced. Current error: {current_error}.\")\n",
    "\n",
    "            if self.iteration >= self.max_iteration:\n",
    "                print(f\"Maximum number of iterations reached. Current error: {current_error}.\") \n",
    "                break\n",
    "            \n",
    "        print(f'Last iteration: {self.iteration}. Final error: {current_error}')\n",
    "\n",
    "        self.y = y_guess[:, 0]  \n",
    "        self.dy = y_guess[:, 1]  \n",
    "        self.global_error = current_error\n",
    "\n",
    "        return self.t, self.y, self.dy"
   ]
  },
  {
   "cell_type": "code",
   "execution_count": 11,
   "metadata": {},
   "outputs": [],
   "source": [
    "dL = lambda y: 2 * (y - 4)\n",
    "f = lambda x, y: 0.0\n",
    "t = [1e-12, 3]"
   ]
  },
  {
   "cell_type": "code",
   "execution_count": 12,
   "metadata": {},
   "outputs": [],
   "source": [
    "from sklearn.model_selection import ParameterGrid\n",
    "\n",
    "param_grid = {'lr': [0.1], 'beta1': [0.9],'beta2': [0.999]}\n",
    "n_learning_rates = len(param_grid['lr'])\n",
    "param_list = list(ParameterGrid(param_grid))"
   ]
  },
  {
   "cell_type": "code",
   "execution_count": 13,
   "metadata": {},
   "outputs": [
    {
     "name": "stdout",
     "output_type": "stream",
     "text": [
      "\n",
      "Nonlocal Continuous Adam Configuration: {'beta1': 0.9, 'beta2': 0.999, 'lr': 0.1}\n",
      "Iteration 0 advanced. Current error: 1.7031638420797772.\n",
      "Iteration 1 advanced. Current error: 12.38351776515547.\n",
      "Iteration 2 advanced. Current error: 17.794131301307953.\n",
      "Iteration 3 advanced. Current error: 20.374470490942183.\n",
      "Iteration 4 advanced. Current error: 21.53602093868246.\n",
      "Iteration 5 advanced. Current error: 21.986078075931044.\n",
      "Iteration 6 advanced. Current error: 22.07847284274465.\n",
      "Iteration 7 advanced. Current error: 21.990360355163112.\n",
      "Iteration 8 advanced. Current error: 21.81040100330997.\n",
      "Iteration 9 advanced. Current error: 21.583112970499396.\n",
      "Iteration 10 advanced. Current error: 21.33102632749361.\n",
      "Iteration 11 advanced. Current error: 21.06560160179232.\n",
      "Iteration 12 advanced. Current error: 20.792722835228364.\n",
      "Iteration 13 advanced. Current error: 20.515461205993798.\n",
      "Iteration 14 advanced. Current error: 20.235465668366317.\n",
      "Iteration 15 advanced. Current error: 19.953662972239705.\n",
      "Iteration 16 advanced. Current error: 19.670610290841246.\n",
      "Iteration 17 advanced. Current error: 19.386673089399068.\n",
      "Iteration 18 advanced. Current error: 19.102115060274933.\n",
      "Iteration 19 advanced. Current error: 18.817143793349647.\n",
      "Iteration 20 advanced. Current error: 18.53193414597281.\n",
      "Iteration 21 advanced. Current error: 18.246640361526136.\n",
      "Iteration 22 advanced. Current error: 17.96140249638231.\n",
      "Iteration 23 advanced. Current error: 17.67634995441239.\n",
      "Iteration 24 advanced. Current error: 17.391603539717927.\n",
      "Iteration 25 advanced. Current error: 17.107276739771358.\n",
      "Iteration 26 advanced. Current error: 16.823476599632812.\n",
      "Iteration 27 advanced. Current error: 16.540304370884588.\n",
      "Iteration 28 advanced. Current error: 16.257856029664588.\n",
      "Iteration 29 advanced. Current error: 15.976222713070054.\n",
      "Iteration 30 advanced. Current error: 15.695491100327155.\n",
      "Iteration 31 advanced. Current error: 15.415743753438974.\n",
      "Iteration 32 advanced. Current error: 15.137059425997055.\n",
      "Iteration 33 advanced. Current error: 14.859513345676746.\n",
      "Iteration 34 advanced. Current error: 14.583177474220228.\n",
      "Iteration 35 advanced. Current error: 14.308120747748312.\n",
      "Iteration 36 advanced. Current error: 14.034409299666741.\n",
      "Iteration 37 advanced. Current error: 13.762106668052475.\n",
      "Iteration 38 advanced. Current error: 13.491273989161202.\n",
      "Iteration 39 advanced. Current error: 13.221970178495098.\n",
      "Iteration 40 advanced. Current error: 12.954252100723059.\n",
      "Iteration 41 advanced. Current error: 12.688174729623462.\n",
      "Iteration 42 advanced. Current error: 12.423791299114201.\n",
      "Iteration 43 advanced. Current error: 12.161153446342727.\n",
      "Iteration 44 advanced. Current error: 11.900311347733464.\n",
      "Iteration 45 advanced. Current error: 11.641313848821992.\n",
      "Iteration 46 advanced. Current error: 11.384208588635827.\n",
      "Iteration 47 advanced. Current error: 11.129042119330776.\n",
      "Iteration 48 advanced. Current error: 10.875860021731137.\n",
      "Iteration 49 advanced. Current error: 10.624707017368305.\n",
      "Iteration 50 advanced. Current error: 10.37562707755388.\n",
      "Iteration 51 advanced. Current error: 10.128663529959642.\n",
      "Iteration 52 advanced. Current error: 9.883859163108049.\n",
      "Iteration 53 advanced. Current error: 9.64125632909692.\n",
      "Iteration 54 advanced. Current error: 9.400897044787337.\n",
      "Iteration 55 advanced. Current error: 9.162823091583974.\n",
      "Iteration 56 advanced. Current error: 8.927076113803569.\n",
      "Iteration 57 advanced. Current error: 8.693697715502662.\n",
      "Iteration 58 advanced. Current error: 8.462729555464893.\n",
      "Iteration 59 advanced. Current error: 8.234213439887652.\n",
      "Iteration 60 advanced. Current error: 8.008191412116313.\n",
      "Iteration 61 advanced. Current error: 7.784705838578095.\n",
      "Iteration 62 advanced. Current error: 7.563799489865553.\n",
      "Iteration 63 advanced. Current error: 7.345515615718762.\n",
      "Iteration 64 advanced. Current error: 7.129898012453078.\n",
      "Iteration 65 advanced. Current error: 6.916991081201167.\n",
      "Iteration 66 advanced. Current error: 6.706839875178945.\n",
      "Iteration 67 advanced. Current error: 6.499490134047988.\n",
      "Iteration 68 advanced. Current error: 6.294988303365858.\n",
      "Iteration 69 advanced. Current error: 6.093381537066499.\n",
      "Iteration 70 advanced. Current error: 5.894717680929387.\n",
      "Iteration 71 advanced. Current error: 5.699045235059862.\n",
      "Iteration 72 advanced. Current error: 5.50641329355339.\n",
      "Iteration 73 advanced. Current error: 5.316871459700574.\n",
      "Iteration 74 advanced. Current error: 5.1304697353796564.\n",
      "Iteration 75 advanced. Current error: 4.947258383600085.\n",
      "Iteration 76 advanced. Current error: 4.767287763568844.\n",
      "Iteration 77 advanced. Current error: 4.5906081380912065.\n",
      "Iteration 78 advanced. Current error: 4.417269453613603.\n",
      "Iteration 79 advanced. Current error: 4.247321093741746.\n",
      "Iteration 80 advanced. Current error: 4.080811607613877.\n",
      "Iteration 81 advanced. Current error: 3.9177884150639737.\n",
      "Iteration 82 advanced. Current error: 3.7582974910597655.\n",
      "Iteration 83 advanced. Current error: 3.6023830324163026.\n",
      "Iteration 84 advanced. Current error: 3.450087110289773.\n",
      "Iteration 85 advanced. Current error: 3.3014493123792152.\n",
      "Iteration 86 advanced. Current error: 3.1565063791491905.\n",
      "Iteration 87 advanced. Current error: 3.015291838678663.\n",
      "Iteration 88 advanced. Current error: 2.877835644964089.\n",
      "Iteration 89 advanced. Current error: 2.7441638246228464.\n",
      "Iteration 90 advanced. Current error: 2.6142981369767133.\n",
      "Iteration 91 advanced. Current error: 2.4882557524223468.\n",
      "Iteration 92 advanced. Current error: 2.3660489538310756.\n",
      "Iteration 93 advanced. Current error: 2.247684865461447.\n",
      "Iteration 94 advanced. Current error: 2.133165213513103.\n",
      "Iteration 95 advanced. Current error: 2.0224861220285315.\n",
      "Iteration 96 advanced. Current error: 1.91563794734542.\n",
      "Iteration 97 advanced. Current error: 1.8126051537425525.\n",
      "Iteration 98 advanced. Current error: 1.7133662323186658.\n",
      "Iteration 99 advanced. Current error: 1.6178936645114192.\n",
      "Iteration 100 advanced. Current error: 1.5261539309963665.\n",
      "Iteration 101 advanced. Current error: 1.4381075660576912.\n",
      "Iteration 102 advanced. Current error: 1.3537092568696747.\n",
      "Iteration 103 advanced. Current error: 1.2729079864956434.\n",
      "Iteration 104 advanced. Current error: 1.195647218827896.\n",
      "Iteration 105 advanced. Current error: 1.1218651231400452.\n",
      "Iteration 106 advanced. Current error: 1.0514948354348648.\n",
      "Iteration 107 advanced. Current error: 0.9844647533412032.\n",
      "Iteration 108 advanced. Current error: 0.9206988609531546.\n",
      "Iteration 109 advanced. Current error: 0.8601170797167572.\n",
      "Iteration 110 advanced. Current error: 0.8026356412553975.\n",
      "Iteration 111 advanced. Current error: 0.7481674778832802.\n",
      "Iteration 112 advanced. Current error: 0.6966226264924504.\n",
      "Iteration 113 advanced. Current error: 0.6479086415011038.\n",
      "Iteration 114 advanced. Current error: 0.6019310126195881.\n",
      "Iteration 115 advanced. Current error: 0.5585935833221837.\n",
      "Iteration 116 advanced. Current error: 0.517798966099618.\n",
      "Iteration 117 advanced. Current error: 0.47944895079708777.\n",
      "Iteration 118 advanced. Current error: 0.44344490261890596.\n",
      "Iteration 119 advanced. Current error: 0.4096881466889017.\n",
      "Iteration 120 advanced. Current error: 0.3780803363833153.\n",
      "Iteration 121 advanced. Current error: 0.3485238030106084.\n",
      "Iteration 122 advanced. Current error: 0.3209218847635822.\n",
      "Iteration 123 advanced. Current error: 0.2951792332455804.\n",
      "Iteration 124 advanced. Current error: 0.2712020962236365.\n",
      "Iteration 125 advanced. Current error: 0.24889857562282994.\n",
      "Iteration 126 advanced. Current error: 0.2281788601117686.\n",
      "Iteration 127 advanced. Current error: 0.20895543195477054.\n",
      "Iteration 128 advanced. Current error: 0.19114324810854083.\n",
      "Iteration 129 advanced. Current error: 0.1746598958129002.\n",
      "Iteration 130 advanced. Current error: 0.1594257231837657.\n",
      "Iteration 131 advanced. Current error: 0.14536394553680163.\n",
      "Iteration 132 advanced. Current error: 0.1324007283591926.\n",
      "Iteration 133 advanced. Current error: 0.1204652480246803.\n",
      "Iteration 134 advanced. Current error: 0.10948973147365502.\n",
      "Iteration 135 advanced. Current error: 0.09940947619342883.\n",
      "Iteration 136 advanced. Current error: 0.09016285191959865.\n",
      "Iteration 137 advanced. Current error: 0.08169128553199784.\n",
      "Iteration 138 advanced. Current error: 0.07393923065474654.\n",
      "Iteration 139 advanced. Current error: 0.06685412348559457.\n",
      "Iteration 140 advanced. Current error: 0.060386326367615116.\n",
      "Iteration 141 advanced. Current error: 0.05448906059661043.\n",
      "Iteration 142 advanced. Current error: 0.04911832991700176.\n",
      "Iteration 143 advanced. Current error: 0.044232836104874385.\n",
      "Iteration 144 advanced. Current error: 0.03979388797947226.\n",
      "Iteration 145 advanced. Current error: 0.03576530510525538.\n",
      "Iteration 146 advanced. Current error: 0.03211331737697613.\n",
      "Iteration 147 advanced. Current error: 0.028806461589345866.\n",
      "Iteration 148 advanced. Current error: 0.02581547601053167.\n",
      "Iteration 149 advanced. Current error: 0.023113193890999775.\n",
      "Iteration 150 advanced. Current error: 0.020674436747796638.\n",
      "Iteration 151 advanced. Current error: 0.01847590817808722.\n",
      "Iteration 152 advanced. Current error: 0.016496088870765938.\n",
      "Iteration 153 advanced. Current error: 0.014715133399905682.\n",
      "Iteration 154 advanced. Current error: 0.013114769303531813.\n",
      "Iteration 155 advanced. Current error: 0.011678198879637105.\n",
      "Iteration 156 advanced. Current error: 0.010390004052946813.\n",
      "Iteration 157 advanced. Current error: 0.009236054606626264.\n",
      "Iteration 158 advanced. Current error: 0.0082034200061102.\n",
      "Iteration 159 advanced. Current error: 0.007280284989488589.\n",
      "Iteration 160 advanced. Current error: 0.0064558690434591785.\n",
      "Iteration 161 advanced. Current error: 0.0057203498433631705.\n",
      "Iteration 162 advanced. Current error: 0.005064790689341323.\n",
      "Iteration 163 advanced. Current error: 0.004481071934933833.\n",
      "Iteration 164 advanced. Current error: 0.00396182637872281.\n",
      "Iteration 165 advanced. Current error: 0.0035003785516709175.\n",
      "Iteration 166 advanced. Current error: 0.003090687818330406.\n",
      "Iteration 167 advanced. Current error: 0.0027272951896115025.\n",
      "Iteration 168 advanced. Current error: 0.002405273719396858.\n",
      "Iteration 169 advanced. Current error: 0.0021201823606357842.\n",
      "Iteration 170 advanced. Current error: 0.0018680231320384807.\n",
      "Iteration 171 advanced. Current error: 0.0016452014441774453.\n",
      "Iteration 172 advanced. Current error: 0.0014484894357799161.\n",
      "Iteration 173 advanced. Current error: 0.0012749921524245074.\n",
      "Iteration 174 advanced. Current error: 0.0011221164158914834.\n",
      "Iteration 175 advanced. Current error: 0.000987542217785817.\n",
      "Iteration 176 advanced. Current error: 0.0008691964820849233.\n",
      "Iteration 177 advanced. Current error: 0.0007652290372651652.\n",
      "Iteration 178 advanced. Current error: 0.0006739906451139779.\n",
      "Iteration 179 advanced. Current error: 0.0005940129328225962.\n",
      "Iteration 180 advanced. Current error: 0.0005239900826961277.\n",
      "Iteration 181 advanced. Current error: 0.00046276213440354225.\n",
      "Iteration 182 advanced. Current error: 0.00040929975981557223.\n",
      "Iteration 183 advanced. Current error: 0.0003626903798314398.\n",
      "Iteration 184 advanced. Current error: 0.00032212549535549624.\n",
      "Iteration 185 advanced. Current error: 0.0002868891219534124.\n",
      "Iteration 186 advanced. Current error: 0.00025634722910653526.\n",
      "Iteration 187 advanced. Current error: 0.00022993810758956248.\n",
      "Iteration 188 advanced. Current error: 0.00020716361888025394.\n",
      "Iteration 189 advanced. Current error: 0.00018758130400819246.\n",
      "Iteration 190 advanced. Current error: 0.00017079736797357144.\n",
      "Iteration 191 advanced. Current error: 0.00015646056048373435.\n",
      "Iteration 192 advanced. Current error: 0.00014425698547427277.\n",
      "Iteration 193 advanced. Current error: 0.0001339058370959537.\n",
      "Iteration 194 advanced. Current error: 0.0001251560043531412.\n",
      "Iteration 195 advanced. Current error: 0.00011778343435025302.\n",
      "Iteration 196 advanced. Current error: 0.00011158906181129614.\n",
      "Iteration 197 advanced. Current error: 0.00010639710732612056.\n",
      "Iteration 198 advanced. Current error: 0.00010205353641396454.\n",
      "Iteration 199 advanced. Current error: 9.842452228234697e-05.\n",
      "Last iteration: 199. Final error: 9.842452228234697e-05\n"
     ]
    },
    {
     "data": {
      "application/vnd.plotly.v1+json": {
       "config": {
        "plotlyServerURL": "https://plot.ly"
       },
       "data": [
        {
         "legendgroup": "LR=0.1",
         "mode": "lines",
         "name": "beta1=0.9, beta2=0.999",
         "type": "scatter",
         "x": [
          1e-11,
          1.00000000001,
          2.00000000001,
          3.00000000001,
          4.00000000001,
          5.000000000009999,
          6.00000000001,
          7.00000000001,
          8.00000000001,
          9.00000000001,
          10.000000000010001,
          11.000000000010001,
          12.000000000010003,
          13.000000000010001,
          14.000000000010001,
          15.000000000010001,
          16.00000000001,
          17.00000000001,
          18.00000000001,
          19.00000000001,
          20.00000000001,
          21.00000000001,
          22.00000000001,
          23.00000000001,
          24.000000000010004,
          25.00000000001,
          26.00000000001,
          27.00000000001,
          28.00000000001,
          29.000000000010004
         ],
         "xaxis": "x",
         "y": [
          1,
          0.9999957921203909,
          0.9789813506451791,
          0.9333068136225793,
          0.8614893451601556,
          0.7627641669086063,
          0.6366599830566085,
          0.4828397878475157,
          0.30102988719571977,
          0.09098388215510317,
          -0.14753726063309436,
          -0.4147767430873817,
          -0.7109886273792033,
          -1.0364415240768339,
          -1.3914203303166106,
          -1.776226675632297,
          -2.1911785134267925,
          -2.6366091621616414,
          -3.112866011530504,
          -3.620309046151446,
          -4.159309293339805,
          -4.730247267383587,
          -5.333511457475652,
          -5.969496887947113,
          -6.6386037659129435,
          -7.341236221169236,
          -8.07780113432974,
          -8.848707039590995,
          -9.654363075480138,
          -10.495177937131423
         ],
         "yaxis": "y"
        }
       ],
       "layout": {
        "annotations": [
         {
          "font": {
           "size": 16
          },
          "showarrow": false,
          "text": "Learning Rate = 0.1",
          "x": 0.5,
          "xanchor": "center",
          "xref": "paper",
          "y": 1,
          "yanchor": "bottom",
          "yref": "paper"
         }
        ],
        "template": {
         "data": {
          "bar": [
           {
            "error_x": {
             "color": "#2a3f5f"
            },
            "error_y": {
             "color": "#2a3f5f"
            },
            "marker": {
             "line": {
              "color": "#E5ECF6",
              "width": 0.5
             },
             "pattern": {
              "fillmode": "overlay",
              "size": 10,
              "solidity": 0.2
             }
            },
            "type": "bar"
           }
          ],
          "barpolar": [
           {
            "marker": {
             "line": {
              "color": "#E5ECF6",
              "width": 0.5
             },
             "pattern": {
              "fillmode": "overlay",
              "size": 10,
              "solidity": 0.2
             }
            },
            "type": "barpolar"
           }
          ],
          "carpet": [
           {
            "aaxis": {
             "endlinecolor": "#2a3f5f",
             "gridcolor": "white",
             "linecolor": "white",
             "minorgridcolor": "white",
             "startlinecolor": "#2a3f5f"
            },
            "baxis": {
             "endlinecolor": "#2a3f5f",
             "gridcolor": "white",
             "linecolor": "white",
             "minorgridcolor": "white",
             "startlinecolor": "#2a3f5f"
            },
            "type": "carpet"
           }
          ],
          "choropleth": [
           {
            "colorbar": {
             "outlinewidth": 0,
             "ticks": ""
            },
            "type": "choropleth"
           }
          ],
          "contour": [
           {
            "colorbar": {
             "outlinewidth": 0,
             "ticks": ""
            },
            "colorscale": [
             [
              0,
              "#0d0887"
             ],
             [
              0.1111111111111111,
              "#46039f"
             ],
             [
              0.2222222222222222,
              "#7201a8"
             ],
             [
              0.3333333333333333,
              "#9c179e"
             ],
             [
              0.4444444444444444,
              "#bd3786"
             ],
             [
              0.5555555555555556,
              "#d8576b"
             ],
             [
              0.6666666666666666,
              "#ed7953"
             ],
             [
              0.7777777777777778,
              "#fb9f3a"
             ],
             [
              0.8888888888888888,
              "#fdca26"
             ],
             [
              1,
              "#f0f921"
             ]
            ],
            "type": "contour"
           }
          ],
          "contourcarpet": [
           {
            "colorbar": {
             "outlinewidth": 0,
             "ticks": ""
            },
            "type": "contourcarpet"
           }
          ],
          "heatmap": [
           {
            "colorbar": {
             "outlinewidth": 0,
             "ticks": ""
            },
            "colorscale": [
             [
              0,
              "#0d0887"
             ],
             [
              0.1111111111111111,
              "#46039f"
             ],
             [
              0.2222222222222222,
              "#7201a8"
             ],
             [
              0.3333333333333333,
              "#9c179e"
             ],
             [
              0.4444444444444444,
              "#bd3786"
             ],
             [
              0.5555555555555556,
              "#d8576b"
             ],
             [
              0.6666666666666666,
              "#ed7953"
             ],
             [
              0.7777777777777778,
              "#fb9f3a"
             ],
             [
              0.8888888888888888,
              "#fdca26"
             ],
             [
              1,
              "#f0f921"
             ]
            ],
            "type": "heatmap"
           }
          ],
          "heatmapgl": [
           {
            "colorbar": {
             "outlinewidth": 0,
             "ticks": ""
            },
            "colorscale": [
             [
              0,
              "#0d0887"
             ],
             [
              0.1111111111111111,
              "#46039f"
             ],
             [
              0.2222222222222222,
              "#7201a8"
             ],
             [
              0.3333333333333333,
              "#9c179e"
             ],
             [
              0.4444444444444444,
              "#bd3786"
             ],
             [
              0.5555555555555556,
              "#d8576b"
             ],
             [
              0.6666666666666666,
              "#ed7953"
             ],
             [
              0.7777777777777778,
              "#fb9f3a"
             ],
             [
              0.8888888888888888,
              "#fdca26"
             ],
             [
              1,
              "#f0f921"
             ]
            ],
            "type": "heatmapgl"
           }
          ],
          "histogram": [
           {
            "marker": {
             "pattern": {
              "fillmode": "overlay",
              "size": 10,
              "solidity": 0.2
             }
            },
            "type": "histogram"
           }
          ],
          "histogram2d": [
           {
            "colorbar": {
             "outlinewidth": 0,
             "ticks": ""
            },
            "colorscale": [
             [
              0,
              "#0d0887"
             ],
             [
              0.1111111111111111,
              "#46039f"
             ],
             [
              0.2222222222222222,
              "#7201a8"
             ],
             [
              0.3333333333333333,
              "#9c179e"
             ],
             [
              0.4444444444444444,
              "#bd3786"
             ],
             [
              0.5555555555555556,
              "#d8576b"
             ],
             [
              0.6666666666666666,
              "#ed7953"
             ],
             [
              0.7777777777777778,
              "#fb9f3a"
             ],
             [
              0.8888888888888888,
              "#fdca26"
             ],
             [
              1,
              "#f0f921"
             ]
            ],
            "type": "histogram2d"
           }
          ],
          "histogram2dcontour": [
           {
            "colorbar": {
             "outlinewidth": 0,
             "ticks": ""
            },
            "colorscale": [
             [
              0,
              "#0d0887"
             ],
             [
              0.1111111111111111,
              "#46039f"
             ],
             [
              0.2222222222222222,
              "#7201a8"
             ],
             [
              0.3333333333333333,
              "#9c179e"
             ],
             [
              0.4444444444444444,
              "#bd3786"
             ],
             [
              0.5555555555555556,
              "#d8576b"
             ],
             [
              0.6666666666666666,
              "#ed7953"
             ],
             [
              0.7777777777777778,
              "#fb9f3a"
             ],
             [
              0.8888888888888888,
              "#fdca26"
             ],
             [
              1,
              "#f0f921"
             ]
            ],
            "type": "histogram2dcontour"
           }
          ],
          "mesh3d": [
           {
            "colorbar": {
             "outlinewidth": 0,
             "ticks": ""
            },
            "type": "mesh3d"
           }
          ],
          "parcoords": [
           {
            "line": {
             "colorbar": {
              "outlinewidth": 0,
              "ticks": ""
             }
            },
            "type": "parcoords"
           }
          ],
          "pie": [
           {
            "automargin": true,
            "type": "pie"
           }
          ],
          "scatter": [
           {
            "fillpattern": {
             "fillmode": "overlay",
             "size": 10,
             "solidity": 0.2
            },
            "type": "scatter"
           }
          ],
          "scatter3d": [
           {
            "line": {
             "colorbar": {
              "outlinewidth": 0,
              "ticks": ""
             }
            },
            "marker": {
             "colorbar": {
              "outlinewidth": 0,
              "ticks": ""
             }
            },
            "type": "scatter3d"
           }
          ],
          "scattercarpet": [
           {
            "marker": {
             "colorbar": {
              "outlinewidth": 0,
              "ticks": ""
             }
            },
            "type": "scattercarpet"
           }
          ],
          "scattergeo": [
           {
            "marker": {
             "colorbar": {
              "outlinewidth": 0,
              "ticks": ""
             }
            },
            "type": "scattergeo"
           }
          ],
          "scattergl": [
           {
            "marker": {
             "colorbar": {
              "outlinewidth": 0,
              "ticks": ""
             }
            },
            "type": "scattergl"
           }
          ],
          "scattermapbox": [
           {
            "marker": {
             "colorbar": {
              "outlinewidth": 0,
              "ticks": ""
             }
            },
            "type": "scattermapbox"
           }
          ],
          "scatterpolar": [
           {
            "marker": {
             "colorbar": {
              "outlinewidth": 0,
              "ticks": ""
             }
            },
            "type": "scatterpolar"
           }
          ],
          "scatterpolargl": [
           {
            "marker": {
             "colorbar": {
              "outlinewidth": 0,
              "ticks": ""
             }
            },
            "type": "scatterpolargl"
           }
          ],
          "scatterternary": [
           {
            "marker": {
             "colorbar": {
              "outlinewidth": 0,
              "ticks": ""
             }
            },
            "type": "scatterternary"
           }
          ],
          "surface": [
           {
            "colorbar": {
             "outlinewidth": 0,
             "ticks": ""
            },
            "colorscale": [
             [
              0,
              "#0d0887"
             ],
             [
              0.1111111111111111,
              "#46039f"
             ],
             [
              0.2222222222222222,
              "#7201a8"
             ],
             [
              0.3333333333333333,
              "#9c179e"
             ],
             [
              0.4444444444444444,
              "#bd3786"
             ],
             [
              0.5555555555555556,
              "#d8576b"
             ],
             [
              0.6666666666666666,
              "#ed7953"
             ],
             [
              0.7777777777777778,
              "#fb9f3a"
             ],
             [
              0.8888888888888888,
              "#fdca26"
             ],
             [
              1,
              "#f0f921"
             ]
            ],
            "type": "surface"
           }
          ],
          "table": [
           {
            "cells": {
             "fill": {
              "color": "#EBF0F8"
             },
             "line": {
              "color": "white"
             }
            },
            "header": {
             "fill": {
              "color": "#C8D4E3"
             },
             "line": {
              "color": "white"
             }
            },
            "type": "table"
           }
          ]
         },
         "layout": {
          "annotationdefaults": {
           "arrowcolor": "#2a3f5f",
           "arrowhead": 0,
           "arrowwidth": 1
          },
          "autotypenumbers": "strict",
          "coloraxis": {
           "colorbar": {
            "outlinewidth": 0,
            "ticks": ""
           }
          },
          "colorscale": {
           "diverging": [
            [
             0,
             "#8e0152"
            ],
            [
             0.1,
             "#c51b7d"
            ],
            [
             0.2,
             "#de77ae"
            ],
            [
             0.3,
             "#f1b6da"
            ],
            [
             0.4,
             "#fde0ef"
            ],
            [
             0.5,
             "#f7f7f7"
            ],
            [
             0.6,
             "#e6f5d0"
            ],
            [
             0.7,
             "#b8e186"
            ],
            [
             0.8,
             "#7fbc41"
            ],
            [
             0.9,
             "#4d9221"
            ],
            [
             1,
             "#276419"
            ]
           ],
           "sequential": [
            [
             0,
             "#0d0887"
            ],
            [
             0.1111111111111111,
             "#46039f"
            ],
            [
             0.2222222222222222,
             "#7201a8"
            ],
            [
             0.3333333333333333,
             "#9c179e"
            ],
            [
             0.4444444444444444,
             "#bd3786"
            ],
            [
             0.5555555555555556,
             "#d8576b"
            ],
            [
             0.6666666666666666,
             "#ed7953"
            ],
            [
             0.7777777777777778,
             "#fb9f3a"
            ],
            [
             0.8888888888888888,
             "#fdca26"
            ],
            [
             1,
             "#f0f921"
            ]
           ],
           "sequentialminus": [
            [
             0,
             "#0d0887"
            ],
            [
             0.1111111111111111,
             "#46039f"
            ],
            [
             0.2222222222222222,
             "#7201a8"
            ],
            [
             0.3333333333333333,
             "#9c179e"
            ],
            [
             0.4444444444444444,
             "#bd3786"
            ],
            [
             0.5555555555555556,
             "#d8576b"
            ],
            [
             0.6666666666666666,
             "#ed7953"
            ],
            [
             0.7777777777777778,
             "#fb9f3a"
            ],
            [
             0.8888888888888888,
             "#fdca26"
            ],
            [
             1,
             "#f0f921"
            ]
           ]
          },
          "colorway": [
           "#636efa",
           "#EF553B",
           "#00cc96",
           "#ab63fa",
           "#FFA15A",
           "#19d3f3",
           "#FF6692",
           "#B6E880",
           "#FF97FF",
           "#FECB52"
          ],
          "font": {
           "color": "#2a3f5f"
          },
          "geo": {
           "bgcolor": "white",
           "lakecolor": "white",
           "landcolor": "#E5ECF6",
           "showlakes": true,
           "showland": true,
           "subunitcolor": "white"
          },
          "hoverlabel": {
           "align": "left"
          },
          "hovermode": "closest",
          "mapbox": {
           "style": "light"
          },
          "paper_bgcolor": "white",
          "plot_bgcolor": "#E5ECF6",
          "polar": {
           "angularaxis": {
            "gridcolor": "white",
            "linecolor": "white",
            "ticks": ""
           },
           "bgcolor": "#E5ECF6",
           "radialaxis": {
            "gridcolor": "white",
            "linecolor": "white",
            "ticks": ""
           }
          },
          "scene": {
           "xaxis": {
            "backgroundcolor": "#E5ECF6",
            "gridcolor": "white",
            "gridwidth": 2,
            "linecolor": "white",
            "showbackground": true,
            "ticks": "",
            "zerolinecolor": "white"
           },
           "yaxis": {
            "backgroundcolor": "#E5ECF6",
            "gridcolor": "white",
            "gridwidth": 2,
            "linecolor": "white",
            "showbackground": true,
            "ticks": "",
            "zerolinecolor": "white"
           },
           "zaxis": {
            "backgroundcolor": "#E5ECF6",
            "gridcolor": "white",
            "gridwidth": 2,
            "linecolor": "white",
            "showbackground": true,
            "ticks": "",
            "zerolinecolor": "white"
           }
          },
          "shapedefaults": {
           "line": {
            "color": "#2a3f5f"
           }
          },
          "ternary": {
           "aaxis": {
            "gridcolor": "white",
            "linecolor": "white",
            "ticks": ""
           },
           "baxis": {
            "gridcolor": "white",
            "linecolor": "white",
            "ticks": ""
           },
           "bgcolor": "#E5ECF6",
           "caxis": {
            "gridcolor": "white",
            "linecolor": "white",
            "ticks": ""
           }
          },
          "title": {
           "x": 0.05
          },
          "xaxis": {
           "automargin": true,
           "gridcolor": "white",
           "linecolor": "white",
           "ticks": "",
           "title": {
            "standoff": 15
           },
           "zerolinecolor": "white",
           "zerolinewidth": 2
          },
          "yaxis": {
           "automargin": true,
           "gridcolor": "white",
           "linecolor": "white",
           "ticks": "",
           "title": {
            "standoff": 15
           },
           "zerolinecolor": "white",
           "zerolinewidth": 2
          }
         }
        },
        "title": {
         "text": "Theta values convergence trajectories for the second-order nonlocal continuous Adam"
        },
        "xaxis": {
         "anchor": "y",
         "domain": [
          0,
          1
         ],
         "title": {
          "text": "Time/lr"
         }
        },
        "yaxis": {
         "anchor": "x",
         "domain": [
          0,
          1
         ],
         "title": {
          "text": "Theta value"
         }
        }
       }
      }
     },
     "metadata": {},
     "output_type": "display_data"
    },
    {
     "data": {
      "application/vnd.plotly.v1+json": {
       "config": {
        "plotlyServerURL": "https://plot.ly"
       },
       "data": [
        {
         "legendgroup": "LR=0.1",
         "marker": {
          "size": 3
         },
         "mode": "markers",
         "name": "beta1=0.9, beta2=0.999",
         "type": "scatter",
         "x": [
          1e-11,
          1.00000000001,
          2.00000000001,
          3.00000000001,
          4.00000000001,
          5.000000000009999,
          6.00000000001,
          7.00000000001,
          8.00000000001,
          9.00000000001,
          10.000000000010001,
          11.000000000010001,
          12.000000000010003,
          13.000000000010001,
          14.000000000010001,
          15.000000000010001,
          16.00000000001,
          17.00000000001,
          18.00000000001,
          19.00000000001,
          20.00000000001,
          21.00000000001,
          22.00000000001,
          23.00000000001,
          24.000000000010004,
          25.00000000001,
          26.00000000001,
          27.00000000001,
          28.00000000001
         ],
         "xaxis": "x",
         "y": [
          -2.9999999999800595e-25,
          -0.0016779830808201783,
          -0.004318853256058116,
          -0.006886512811665616,
          -0.009268115497904619,
          -0.011486573337937631,
          -0.01358183659476917,
          -0.01559314735664155,
          -0.017556590738589787,
          -0.019504982877030536,
          -0.021468113152760357,
          -0.023473029794737713,
          -0.02554431623894049,
          -0.027704348038253074,
          -0.0299735281615988,
          -0.03237050065437422,
          -0.034912343453393106,
          -0.03761474155011338,
          -0.04049214189584814,
          -0.043557891526302364,
          -0.046824360392197374,
          -0.05030305034371206,
          -0.05400469164627902,
          -0.05793932831612445,
          -0.06211639346472829,
          -0.06654477573734977,
          -0.07123287782780367,
          -0.0761886679416692,
          -0.08141972499532016
         ],
         "yaxis": "y"
        }
       ],
       "layout": {
        "annotations": [
         {
          "font": {
           "size": 16
          },
          "showarrow": false,
          "text": "Learning Rate = 0.1",
          "x": 0.5,
          "xanchor": "center",
          "xref": "paper",
          "y": 1,
          "yanchor": "bottom",
          "yref": "paper"
         }
        ],
        "template": {
         "data": {
          "bar": [
           {
            "error_x": {
             "color": "#2a3f5f"
            },
            "error_y": {
             "color": "#2a3f5f"
            },
            "marker": {
             "line": {
              "color": "#E5ECF6",
              "width": 0.5
             },
             "pattern": {
              "fillmode": "overlay",
              "size": 10,
              "solidity": 0.2
             }
            },
            "type": "bar"
           }
          ],
          "barpolar": [
           {
            "marker": {
             "line": {
              "color": "#E5ECF6",
              "width": 0.5
             },
             "pattern": {
              "fillmode": "overlay",
              "size": 10,
              "solidity": 0.2
             }
            },
            "type": "barpolar"
           }
          ],
          "carpet": [
           {
            "aaxis": {
             "endlinecolor": "#2a3f5f",
             "gridcolor": "white",
             "linecolor": "white",
             "minorgridcolor": "white",
             "startlinecolor": "#2a3f5f"
            },
            "baxis": {
             "endlinecolor": "#2a3f5f",
             "gridcolor": "white",
             "linecolor": "white",
             "minorgridcolor": "white",
             "startlinecolor": "#2a3f5f"
            },
            "type": "carpet"
           }
          ],
          "choropleth": [
           {
            "colorbar": {
             "outlinewidth": 0,
             "ticks": ""
            },
            "type": "choropleth"
           }
          ],
          "contour": [
           {
            "colorbar": {
             "outlinewidth": 0,
             "ticks": ""
            },
            "colorscale": [
             [
              0,
              "#0d0887"
             ],
             [
              0.1111111111111111,
              "#46039f"
             ],
             [
              0.2222222222222222,
              "#7201a8"
             ],
             [
              0.3333333333333333,
              "#9c179e"
             ],
             [
              0.4444444444444444,
              "#bd3786"
             ],
             [
              0.5555555555555556,
              "#d8576b"
             ],
             [
              0.6666666666666666,
              "#ed7953"
             ],
             [
              0.7777777777777778,
              "#fb9f3a"
             ],
             [
              0.8888888888888888,
              "#fdca26"
             ],
             [
              1,
              "#f0f921"
             ]
            ],
            "type": "contour"
           }
          ],
          "contourcarpet": [
           {
            "colorbar": {
             "outlinewidth": 0,
             "ticks": ""
            },
            "type": "contourcarpet"
           }
          ],
          "heatmap": [
           {
            "colorbar": {
             "outlinewidth": 0,
             "ticks": ""
            },
            "colorscale": [
             [
              0,
              "#0d0887"
             ],
             [
              0.1111111111111111,
              "#46039f"
             ],
             [
              0.2222222222222222,
              "#7201a8"
             ],
             [
              0.3333333333333333,
              "#9c179e"
             ],
             [
              0.4444444444444444,
              "#bd3786"
             ],
             [
              0.5555555555555556,
              "#d8576b"
             ],
             [
              0.6666666666666666,
              "#ed7953"
             ],
             [
              0.7777777777777778,
              "#fb9f3a"
             ],
             [
              0.8888888888888888,
              "#fdca26"
             ],
             [
              1,
              "#f0f921"
             ]
            ],
            "type": "heatmap"
           }
          ],
          "heatmapgl": [
           {
            "colorbar": {
             "outlinewidth": 0,
             "ticks": ""
            },
            "colorscale": [
             [
              0,
              "#0d0887"
             ],
             [
              0.1111111111111111,
              "#46039f"
             ],
             [
              0.2222222222222222,
              "#7201a8"
             ],
             [
              0.3333333333333333,
              "#9c179e"
             ],
             [
              0.4444444444444444,
              "#bd3786"
             ],
             [
              0.5555555555555556,
              "#d8576b"
             ],
             [
              0.6666666666666666,
              "#ed7953"
             ],
             [
              0.7777777777777778,
              "#fb9f3a"
             ],
             [
              0.8888888888888888,
              "#fdca26"
             ],
             [
              1,
              "#f0f921"
             ]
            ],
            "type": "heatmapgl"
           }
          ],
          "histogram": [
           {
            "marker": {
             "pattern": {
              "fillmode": "overlay",
              "size": 10,
              "solidity": 0.2
             }
            },
            "type": "histogram"
           }
          ],
          "histogram2d": [
           {
            "colorbar": {
             "outlinewidth": 0,
             "ticks": ""
            },
            "colorscale": [
             [
              0,
              "#0d0887"
             ],
             [
              0.1111111111111111,
              "#46039f"
             ],
             [
              0.2222222222222222,
              "#7201a8"
             ],
             [
              0.3333333333333333,
              "#9c179e"
             ],
             [
              0.4444444444444444,
              "#bd3786"
             ],
             [
              0.5555555555555556,
              "#d8576b"
             ],
             [
              0.6666666666666666,
              "#ed7953"
             ],
             [
              0.7777777777777778,
              "#fb9f3a"
             ],
             [
              0.8888888888888888,
              "#fdca26"
             ],
             [
              1,
              "#f0f921"
             ]
            ],
            "type": "histogram2d"
           }
          ],
          "histogram2dcontour": [
           {
            "colorbar": {
             "outlinewidth": 0,
             "ticks": ""
            },
            "colorscale": [
             [
              0,
              "#0d0887"
             ],
             [
              0.1111111111111111,
              "#46039f"
             ],
             [
              0.2222222222222222,
              "#7201a8"
             ],
             [
              0.3333333333333333,
              "#9c179e"
             ],
             [
              0.4444444444444444,
              "#bd3786"
             ],
             [
              0.5555555555555556,
              "#d8576b"
             ],
             [
              0.6666666666666666,
              "#ed7953"
             ],
             [
              0.7777777777777778,
              "#fb9f3a"
             ],
             [
              0.8888888888888888,
              "#fdca26"
             ],
             [
              1,
              "#f0f921"
             ]
            ],
            "type": "histogram2dcontour"
           }
          ],
          "mesh3d": [
           {
            "colorbar": {
             "outlinewidth": 0,
             "ticks": ""
            },
            "type": "mesh3d"
           }
          ],
          "parcoords": [
           {
            "line": {
             "colorbar": {
              "outlinewidth": 0,
              "ticks": ""
             }
            },
            "type": "parcoords"
           }
          ],
          "pie": [
           {
            "automargin": true,
            "type": "pie"
           }
          ],
          "scatter": [
           {
            "fillpattern": {
             "fillmode": "overlay",
             "size": 10,
             "solidity": 0.2
            },
            "type": "scatter"
           }
          ],
          "scatter3d": [
           {
            "line": {
             "colorbar": {
              "outlinewidth": 0,
              "ticks": ""
             }
            },
            "marker": {
             "colorbar": {
              "outlinewidth": 0,
              "ticks": ""
             }
            },
            "type": "scatter3d"
           }
          ],
          "scattercarpet": [
           {
            "marker": {
             "colorbar": {
              "outlinewidth": 0,
              "ticks": ""
             }
            },
            "type": "scattercarpet"
           }
          ],
          "scattergeo": [
           {
            "marker": {
             "colorbar": {
              "outlinewidth": 0,
              "ticks": ""
             }
            },
            "type": "scattergeo"
           }
          ],
          "scattergl": [
           {
            "marker": {
             "colorbar": {
              "outlinewidth": 0,
              "ticks": ""
             }
            },
            "type": "scattergl"
           }
          ],
          "scattermapbox": [
           {
            "marker": {
             "colorbar": {
              "outlinewidth": 0,
              "ticks": ""
             }
            },
            "type": "scattermapbox"
           }
          ],
          "scatterpolar": [
           {
            "marker": {
             "colorbar": {
              "outlinewidth": 0,
              "ticks": ""
             }
            },
            "type": "scatterpolar"
           }
          ],
          "scatterpolargl": [
           {
            "marker": {
             "colorbar": {
              "outlinewidth": 0,
              "ticks": ""
             }
            },
            "type": "scatterpolargl"
           }
          ],
          "scatterternary": [
           {
            "marker": {
             "colorbar": {
              "outlinewidth": 0,
              "ticks": ""
             }
            },
            "type": "scatterternary"
           }
          ],
          "surface": [
           {
            "colorbar": {
             "outlinewidth": 0,
             "ticks": ""
            },
            "colorscale": [
             [
              0,
              "#0d0887"
             ],
             [
              0.1111111111111111,
              "#46039f"
             ],
             [
              0.2222222222222222,
              "#7201a8"
             ],
             [
              0.3333333333333333,
              "#9c179e"
             ],
             [
              0.4444444444444444,
              "#bd3786"
             ],
             [
              0.5555555555555556,
              "#d8576b"
             ],
             [
              0.6666666666666666,
              "#ed7953"
             ],
             [
              0.7777777777777778,
              "#fb9f3a"
             ],
             [
              0.8888888888888888,
              "#fdca26"
             ],
             [
              1,
              "#f0f921"
             ]
            ],
            "type": "surface"
           }
          ],
          "table": [
           {
            "cells": {
             "fill": {
              "color": "#EBF0F8"
             },
             "line": {
              "color": "white"
             }
            },
            "header": {
             "fill": {
              "color": "#C8D4E3"
             },
             "line": {
              "color": "white"
             }
            },
            "type": "table"
           }
          ]
         },
         "layout": {
          "annotationdefaults": {
           "arrowcolor": "#2a3f5f",
           "arrowhead": 0,
           "arrowwidth": 1
          },
          "autotypenumbers": "strict",
          "coloraxis": {
           "colorbar": {
            "outlinewidth": 0,
            "ticks": ""
           }
          },
          "colorscale": {
           "diverging": [
            [
             0,
             "#8e0152"
            ],
            [
             0.1,
             "#c51b7d"
            ],
            [
             0.2,
             "#de77ae"
            ],
            [
             0.3,
             "#f1b6da"
            ],
            [
             0.4,
             "#fde0ef"
            ],
            [
             0.5,
             "#f7f7f7"
            ],
            [
             0.6,
             "#e6f5d0"
            ],
            [
             0.7,
             "#b8e186"
            ],
            [
             0.8,
             "#7fbc41"
            ],
            [
             0.9,
             "#4d9221"
            ],
            [
             1,
             "#276419"
            ]
           ],
           "sequential": [
            [
             0,
             "#0d0887"
            ],
            [
             0.1111111111111111,
             "#46039f"
            ],
            [
             0.2222222222222222,
             "#7201a8"
            ],
            [
             0.3333333333333333,
             "#9c179e"
            ],
            [
             0.4444444444444444,
             "#bd3786"
            ],
            [
             0.5555555555555556,
             "#d8576b"
            ],
            [
             0.6666666666666666,
             "#ed7953"
            ],
            [
             0.7777777777777778,
             "#fb9f3a"
            ],
            [
             0.8888888888888888,
             "#fdca26"
            ],
            [
             1,
             "#f0f921"
            ]
           ],
           "sequentialminus": [
            [
             0,
             "#0d0887"
            ],
            [
             0.1111111111111111,
             "#46039f"
            ],
            [
             0.2222222222222222,
             "#7201a8"
            ],
            [
             0.3333333333333333,
             "#9c179e"
            ],
            [
             0.4444444444444444,
             "#bd3786"
            ],
            [
             0.5555555555555556,
             "#d8576b"
            ],
            [
             0.6666666666666666,
             "#ed7953"
            ],
            [
             0.7777777777777778,
             "#fb9f3a"
            ],
            [
             0.8888888888888888,
             "#fdca26"
            ],
            [
             1,
             "#f0f921"
            ]
           ]
          },
          "colorway": [
           "#636efa",
           "#EF553B",
           "#00cc96",
           "#ab63fa",
           "#FFA15A",
           "#19d3f3",
           "#FF6692",
           "#B6E880",
           "#FF97FF",
           "#FECB52"
          ],
          "font": {
           "color": "#2a3f5f"
          },
          "geo": {
           "bgcolor": "white",
           "lakecolor": "white",
           "landcolor": "#E5ECF6",
           "showlakes": true,
           "showland": true,
           "subunitcolor": "white"
          },
          "hoverlabel": {
           "align": "left"
          },
          "hovermode": "closest",
          "mapbox": {
           "style": "light"
          },
          "paper_bgcolor": "white",
          "plot_bgcolor": "#E5ECF6",
          "polar": {
           "angularaxis": {
            "gridcolor": "white",
            "linecolor": "white",
            "ticks": ""
           },
           "bgcolor": "#E5ECF6",
           "radialaxis": {
            "gridcolor": "white",
            "linecolor": "white",
            "ticks": ""
           }
          },
          "scene": {
           "xaxis": {
            "backgroundcolor": "#E5ECF6",
            "gridcolor": "white",
            "gridwidth": 2,
            "linecolor": "white",
            "showbackground": true,
            "ticks": "",
            "zerolinecolor": "white"
           },
           "yaxis": {
            "backgroundcolor": "#E5ECF6",
            "gridcolor": "white",
            "gridwidth": 2,
            "linecolor": "white",
            "showbackground": true,
            "ticks": "",
            "zerolinecolor": "white"
           },
           "zaxis": {
            "backgroundcolor": "#E5ECF6",
            "gridcolor": "white",
            "gridwidth": 2,
            "linecolor": "white",
            "showbackground": true,
            "ticks": "",
            "zerolinecolor": "white"
           }
          },
          "shapedefaults": {
           "line": {
            "color": "#2a3f5f"
           }
          },
          "ternary": {
           "aaxis": {
            "gridcolor": "white",
            "linecolor": "white",
            "ticks": ""
           },
           "baxis": {
            "gridcolor": "white",
            "linecolor": "white",
            "ticks": ""
           },
           "bgcolor": "#E5ECF6",
           "caxis": {
            "gridcolor": "white",
            "linecolor": "white",
            "ticks": ""
           }
          },
          "title": {
           "x": 0.05
          },
          "xaxis": {
           "automargin": true,
           "gridcolor": "white",
           "linecolor": "white",
           "ticks": "",
           "title": {
            "standoff": 15
           },
           "zerolinecolor": "white",
           "zerolinewidth": 2
          },
          "yaxis": {
           "automargin": true,
           "gridcolor": "white",
           "linecolor": "white",
           "ticks": "",
           "title": {
            "standoff": 15
           },
           "zerolinecolor": "white",
           "zerolinewidth": 2
          }
         }
        },
        "title": {
         "text": "Numerators (m) over Time for the second-order nonlocal continuous Adam"
        },
        "xaxis": {
         "anchor": "y",
         "domain": [
          0,
          1
         ],
         "title": {
          "text": "Time/lr"
         }
        },
        "yaxis": {
         "anchor": "x",
         "domain": [
          0,
          1
         ],
         "title": {
          "text": "Numerator value (m)"
         }
        }
       }
      }
     },
     "metadata": {},
     "output_type": "display_data"
    },
    {
     "data": {
      "application/vnd.plotly.v1+json": {
       "config": {
        "plotlyServerURL": "https://plot.ly"
       },
       "data": [
        {
         "legendgroup": "LR=0.1",
         "marker": {
          "size": 3
         },
         "mode": "markers",
         "name": "beta1=0.9, beta2=0.999",
         "type": "scatter",
         "x": [
          1e-11,
          1.00000000001,
          2.00000000001,
          3.00000000001,
          4.00000000001,
          5.000000000009999,
          6.00000000001,
          7.00000000001,
          8.00000000001,
          9.00000000001,
          10.000000000010001,
          11.000000000010001,
          12.000000000010003,
          13.000000000010001,
          14.000000000010001,
          15.000000000010001,
          16.00000000001,
          17.00000000001,
          18.00000000001,
          19.00000000001,
          20.00000000001,
          21.00000000001,
          22.00000000001,
          23.00000000001,
          24.000000000010004,
          25.00000000001,
          26.00000000001,
          27.00000000001,
          28.00000000001
         ],
         "xaxis": "x",
         "y": [
          1.799999999988074e-26,
          0.00010205396116039755,
          0.0002717502613413891,
          0.0004530598935506537,
          0.0006410483517122876,
          0.0008379832063360531,
          0.0010473935400478135,
          0.0012733177229714064,
          0.0015202710856884924,
          0.001793320130108343,
          0.0020981766874930453,
          0.002441299030477942,
          0.002829997653252395,
          0.00327254526553206,
          0.0037782909568710066,
          0.004357778621043252,
          0.005022869777165433,
          0.005786870935680247,
          0.006664665651256189,
          0.007672851390149666,
          0.008829881321332307,
          0.01015621112125202,
          0.011674450862766804,
          0.013409522040123328,
          0.015388819764037116,
          0.017642380143418415,
          0.0202030528532991,
          0.023106678866233025,
          0.026392273309449692
         ],
         "yaxis": "y"
        }
       ],
       "layout": {
        "annotations": [
         {
          "font": {
           "size": 16
          },
          "showarrow": false,
          "text": "Learning Rate = 0.1",
          "x": 0.5,
          "xanchor": "center",
          "xref": "paper",
          "y": 1,
          "yanchor": "bottom",
          "yref": "paper"
         }
        ],
        "template": {
         "data": {
          "bar": [
           {
            "error_x": {
             "color": "#2a3f5f"
            },
            "error_y": {
             "color": "#2a3f5f"
            },
            "marker": {
             "line": {
              "color": "#E5ECF6",
              "width": 0.5
             },
             "pattern": {
              "fillmode": "overlay",
              "size": 10,
              "solidity": 0.2
             }
            },
            "type": "bar"
           }
          ],
          "barpolar": [
           {
            "marker": {
             "line": {
              "color": "#E5ECF6",
              "width": 0.5
             },
             "pattern": {
              "fillmode": "overlay",
              "size": 10,
              "solidity": 0.2
             }
            },
            "type": "barpolar"
           }
          ],
          "carpet": [
           {
            "aaxis": {
             "endlinecolor": "#2a3f5f",
             "gridcolor": "white",
             "linecolor": "white",
             "minorgridcolor": "white",
             "startlinecolor": "#2a3f5f"
            },
            "baxis": {
             "endlinecolor": "#2a3f5f",
             "gridcolor": "white",
             "linecolor": "white",
             "minorgridcolor": "white",
             "startlinecolor": "#2a3f5f"
            },
            "type": "carpet"
           }
          ],
          "choropleth": [
           {
            "colorbar": {
             "outlinewidth": 0,
             "ticks": ""
            },
            "type": "choropleth"
           }
          ],
          "contour": [
           {
            "colorbar": {
             "outlinewidth": 0,
             "ticks": ""
            },
            "colorscale": [
             [
              0,
              "#0d0887"
             ],
             [
              0.1111111111111111,
              "#46039f"
             ],
             [
              0.2222222222222222,
              "#7201a8"
             ],
             [
              0.3333333333333333,
              "#9c179e"
             ],
             [
              0.4444444444444444,
              "#bd3786"
             ],
             [
              0.5555555555555556,
              "#d8576b"
             ],
             [
              0.6666666666666666,
              "#ed7953"
             ],
             [
              0.7777777777777778,
              "#fb9f3a"
             ],
             [
              0.8888888888888888,
              "#fdca26"
             ],
             [
              1,
              "#f0f921"
             ]
            ],
            "type": "contour"
           }
          ],
          "contourcarpet": [
           {
            "colorbar": {
             "outlinewidth": 0,
             "ticks": ""
            },
            "type": "contourcarpet"
           }
          ],
          "heatmap": [
           {
            "colorbar": {
             "outlinewidth": 0,
             "ticks": ""
            },
            "colorscale": [
             [
              0,
              "#0d0887"
             ],
             [
              0.1111111111111111,
              "#46039f"
             ],
             [
              0.2222222222222222,
              "#7201a8"
             ],
             [
              0.3333333333333333,
              "#9c179e"
             ],
             [
              0.4444444444444444,
              "#bd3786"
             ],
             [
              0.5555555555555556,
              "#d8576b"
             ],
             [
              0.6666666666666666,
              "#ed7953"
             ],
             [
              0.7777777777777778,
              "#fb9f3a"
             ],
             [
              0.8888888888888888,
              "#fdca26"
             ],
             [
              1,
              "#f0f921"
             ]
            ],
            "type": "heatmap"
           }
          ],
          "heatmapgl": [
           {
            "colorbar": {
             "outlinewidth": 0,
             "ticks": ""
            },
            "colorscale": [
             [
              0,
              "#0d0887"
             ],
             [
              0.1111111111111111,
              "#46039f"
             ],
             [
              0.2222222222222222,
              "#7201a8"
             ],
             [
              0.3333333333333333,
              "#9c179e"
             ],
             [
              0.4444444444444444,
              "#bd3786"
             ],
             [
              0.5555555555555556,
              "#d8576b"
             ],
             [
              0.6666666666666666,
              "#ed7953"
             ],
             [
              0.7777777777777778,
              "#fb9f3a"
             ],
             [
              0.8888888888888888,
              "#fdca26"
             ],
             [
              1,
              "#f0f921"
             ]
            ],
            "type": "heatmapgl"
           }
          ],
          "histogram": [
           {
            "marker": {
             "pattern": {
              "fillmode": "overlay",
              "size": 10,
              "solidity": 0.2
             }
            },
            "type": "histogram"
           }
          ],
          "histogram2d": [
           {
            "colorbar": {
             "outlinewidth": 0,
             "ticks": ""
            },
            "colorscale": [
             [
              0,
              "#0d0887"
             ],
             [
              0.1111111111111111,
              "#46039f"
             ],
             [
              0.2222222222222222,
              "#7201a8"
             ],
             [
              0.3333333333333333,
              "#9c179e"
             ],
             [
              0.4444444444444444,
              "#bd3786"
             ],
             [
              0.5555555555555556,
              "#d8576b"
             ],
             [
              0.6666666666666666,
              "#ed7953"
             ],
             [
              0.7777777777777778,
              "#fb9f3a"
             ],
             [
              0.8888888888888888,
              "#fdca26"
             ],
             [
              1,
              "#f0f921"
             ]
            ],
            "type": "histogram2d"
           }
          ],
          "histogram2dcontour": [
           {
            "colorbar": {
             "outlinewidth": 0,
             "ticks": ""
            },
            "colorscale": [
             [
              0,
              "#0d0887"
             ],
             [
              0.1111111111111111,
              "#46039f"
             ],
             [
              0.2222222222222222,
              "#7201a8"
             ],
             [
              0.3333333333333333,
              "#9c179e"
             ],
             [
              0.4444444444444444,
              "#bd3786"
             ],
             [
              0.5555555555555556,
              "#d8576b"
             ],
             [
              0.6666666666666666,
              "#ed7953"
             ],
             [
              0.7777777777777778,
              "#fb9f3a"
             ],
             [
              0.8888888888888888,
              "#fdca26"
             ],
             [
              1,
              "#f0f921"
             ]
            ],
            "type": "histogram2dcontour"
           }
          ],
          "mesh3d": [
           {
            "colorbar": {
             "outlinewidth": 0,
             "ticks": ""
            },
            "type": "mesh3d"
           }
          ],
          "parcoords": [
           {
            "line": {
             "colorbar": {
              "outlinewidth": 0,
              "ticks": ""
             }
            },
            "type": "parcoords"
           }
          ],
          "pie": [
           {
            "automargin": true,
            "type": "pie"
           }
          ],
          "scatter": [
           {
            "fillpattern": {
             "fillmode": "overlay",
             "size": 10,
             "solidity": 0.2
            },
            "type": "scatter"
           }
          ],
          "scatter3d": [
           {
            "line": {
             "colorbar": {
              "outlinewidth": 0,
              "ticks": ""
             }
            },
            "marker": {
             "colorbar": {
              "outlinewidth": 0,
              "ticks": ""
             }
            },
            "type": "scatter3d"
           }
          ],
          "scattercarpet": [
           {
            "marker": {
             "colorbar": {
              "outlinewidth": 0,
              "ticks": ""
             }
            },
            "type": "scattercarpet"
           }
          ],
          "scattergeo": [
           {
            "marker": {
             "colorbar": {
              "outlinewidth": 0,
              "ticks": ""
             }
            },
            "type": "scattergeo"
           }
          ],
          "scattergl": [
           {
            "marker": {
             "colorbar": {
              "outlinewidth": 0,
              "ticks": ""
             }
            },
            "type": "scattergl"
           }
          ],
          "scattermapbox": [
           {
            "marker": {
             "colorbar": {
              "outlinewidth": 0,
              "ticks": ""
             }
            },
            "type": "scattermapbox"
           }
          ],
          "scatterpolar": [
           {
            "marker": {
             "colorbar": {
              "outlinewidth": 0,
              "ticks": ""
             }
            },
            "type": "scatterpolar"
           }
          ],
          "scatterpolargl": [
           {
            "marker": {
             "colorbar": {
              "outlinewidth": 0,
              "ticks": ""
             }
            },
            "type": "scatterpolargl"
           }
          ],
          "scatterternary": [
           {
            "marker": {
             "colorbar": {
              "outlinewidth": 0,
              "ticks": ""
             }
            },
            "type": "scatterternary"
           }
          ],
          "surface": [
           {
            "colorbar": {
             "outlinewidth": 0,
             "ticks": ""
            },
            "colorscale": [
             [
              0,
              "#0d0887"
             ],
             [
              0.1111111111111111,
              "#46039f"
             ],
             [
              0.2222222222222222,
              "#7201a8"
             ],
             [
              0.3333333333333333,
              "#9c179e"
             ],
             [
              0.4444444444444444,
              "#bd3786"
             ],
             [
              0.5555555555555556,
              "#d8576b"
             ],
             [
              0.6666666666666666,
              "#ed7953"
             ],
             [
              0.7777777777777778,
              "#fb9f3a"
             ],
             [
              0.8888888888888888,
              "#fdca26"
             ],
             [
              1,
              "#f0f921"
             ]
            ],
            "type": "surface"
           }
          ],
          "table": [
           {
            "cells": {
             "fill": {
              "color": "#EBF0F8"
             },
             "line": {
              "color": "white"
             }
            },
            "header": {
             "fill": {
              "color": "#C8D4E3"
             },
             "line": {
              "color": "white"
             }
            },
            "type": "table"
           }
          ]
         },
         "layout": {
          "annotationdefaults": {
           "arrowcolor": "#2a3f5f",
           "arrowhead": 0,
           "arrowwidth": 1
          },
          "autotypenumbers": "strict",
          "coloraxis": {
           "colorbar": {
            "outlinewidth": 0,
            "ticks": ""
           }
          },
          "colorscale": {
           "diverging": [
            [
             0,
             "#8e0152"
            ],
            [
             0.1,
             "#c51b7d"
            ],
            [
             0.2,
             "#de77ae"
            ],
            [
             0.3,
             "#f1b6da"
            ],
            [
             0.4,
             "#fde0ef"
            ],
            [
             0.5,
             "#f7f7f7"
            ],
            [
             0.6,
             "#e6f5d0"
            ],
            [
             0.7,
             "#b8e186"
            ],
            [
             0.8,
             "#7fbc41"
            ],
            [
             0.9,
             "#4d9221"
            ],
            [
             1,
             "#276419"
            ]
           ],
           "sequential": [
            [
             0,
             "#0d0887"
            ],
            [
             0.1111111111111111,
             "#46039f"
            ],
            [
             0.2222222222222222,
             "#7201a8"
            ],
            [
             0.3333333333333333,
             "#9c179e"
            ],
            [
             0.4444444444444444,
             "#bd3786"
            ],
            [
             0.5555555555555556,
             "#d8576b"
            ],
            [
             0.6666666666666666,
             "#ed7953"
            ],
            [
             0.7777777777777778,
             "#fb9f3a"
            ],
            [
             0.8888888888888888,
             "#fdca26"
            ],
            [
             1,
             "#f0f921"
            ]
           ],
           "sequentialminus": [
            [
             0,
             "#0d0887"
            ],
            [
             0.1111111111111111,
             "#46039f"
            ],
            [
             0.2222222222222222,
             "#7201a8"
            ],
            [
             0.3333333333333333,
             "#9c179e"
            ],
            [
             0.4444444444444444,
             "#bd3786"
            ],
            [
             0.5555555555555556,
             "#d8576b"
            ],
            [
             0.6666666666666666,
             "#ed7953"
            ],
            [
             0.7777777777777778,
             "#fb9f3a"
            ],
            [
             0.8888888888888888,
             "#fdca26"
            ],
            [
             1,
             "#f0f921"
            ]
           ]
          },
          "colorway": [
           "#636efa",
           "#EF553B",
           "#00cc96",
           "#ab63fa",
           "#FFA15A",
           "#19d3f3",
           "#FF6692",
           "#B6E880",
           "#FF97FF",
           "#FECB52"
          ],
          "font": {
           "color": "#2a3f5f"
          },
          "geo": {
           "bgcolor": "white",
           "lakecolor": "white",
           "landcolor": "#E5ECF6",
           "showlakes": true,
           "showland": true,
           "subunitcolor": "white"
          },
          "hoverlabel": {
           "align": "left"
          },
          "hovermode": "closest",
          "mapbox": {
           "style": "light"
          },
          "paper_bgcolor": "white",
          "plot_bgcolor": "#E5ECF6",
          "polar": {
           "angularaxis": {
            "gridcolor": "white",
            "linecolor": "white",
            "ticks": ""
           },
           "bgcolor": "#E5ECF6",
           "radialaxis": {
            "gridcolor": "white",
            "linecolor": "white",
            "ticks": ""
           }
          },
          "scene": {
           "xaxis": {
            "backgroundcolor": "#E5ECF6",
            "gridcolor": "white",
            "gridwidth": 2,
            "linecolor": "white",
            "showbackground": true,
            "ticks": "",
            "zerolinecolor": "white"
           },
           "yaxis": {
            "backgroundcolor": "#E5ECF6",
            "gridcolor": "white",
            "gridwidth": 2,
            "linecolor": "white",
            "showbackground": true,
            "ticks": "",
            "zerolinecolor": "white"
           },
           "zaxis": {
            "backgroundcolor": "#E5ECF6",
            "gridcolor": "white",
            "gridwidth": 2,
            "linecolor": "white",
            "showbackground": true,
            "ticks": "",
            "zerolinecolor": "white"
           }
          },
          "shapedefaults": {
           "line": {
            "color": "#2a3f5f"
           }
          },
          "ternary": {
           "aaxis": {
            "gridcolor": "white",
            "linecolor": "white",
            "ticks": ""
           },
           "baxis": {
            "gridcolor": "white",
            "linecolor": "white",
            "ticks": ""
           },
           "bgcolor": "#E5ECF6",
           "caxis": {
            "gridcolor": "white",
            "linecolor": "white",
            "ticks": ""
           }
          },
          "title": {
           "x": 0.05
          },
          "xaxis": {
           "automargin": true,
           "gridcolor": "white",
           "linecolor": "white",
           "ticks": "",
           "title": {
            "standoff": 15
           },
           "zerolinecolor": "white",
           "zerolinewidth": 2
          },
          "yaxis": {
           "automargin": true,
           "gridcolor": "white",
           "linecolor": "white",
           "ticks": "",
           "title": {
            "standoff": 15
           },
           "zerolinecolor": "white",
           "zerolinewidth": 2
          }
         }
        },
        "title": {
         "text": "Denominators (v) over Time for the second-order nonlocal continuous Adam"
        },
        "xaxis": {
         "anchor": "y",
         "domain": [
          0,
          1
         ],
         "title": {
          "text": "Time/lr"
         }
        },
        "yaxis": {
         "anchor": "x",
         "domain": [
          0,
          1
         ],
         "title": {
          "text": "Denominator value (v)"
         }
        }
       }
      }
     },
     "metadata": {},
     "output_type": "display_data"
    }
   ],
   "source": [
    "import plotly.graph_objects as go\n",
    "from plotly.subplots import make_subplots\n",
    "import numpy as np\n",
    "\n",
    "fig_theta = make_subplots(rows=1, cols=n_learning_rates, subplot_titles=[f'Learning Rate = {lr}' for lr in param_grid['lr']])\n",
    "fig_m = make_subplots(rows=1, cols=n_learning_rates, subplot_titles=[f'Learning Rate = {lr}' for lr in param_grid['lr']])\n",
    "fig_v = make_subplots(rows=1, cols=n_learning_rates, subplot_titles=[f'Learning Rate = {lr}' for lr in param_grid['lr']])\n",
    "\n",
    "fig_theta.update_layout(title_text='Theta values convergence trajectories for the second-order nonlocal continuous Adam')\n",
    "fig_m.update_layout(title_text='Numerators (m) over Time for the second-order nonlocal continuous Adam')\n",
    "fig_v.update_layout(title_text='Denominators (v) over Time for the second-order nonlocal continuous Adam')\n",
    "\n",
    "for i, lr in enumerate(param_grid['lr']):\n",
    "\n",
    "    filtered_params = [p for p in param_list if p['lr'] == lr]\n",
    "\n",
    "    for params in filtered_params:\n",
    "        print(f'\\nNonlocal Continuous Adam Configuration: {params}')\n",
    "\n",
    "        solver = NonlocalSolverMomentum2ndOrder(f=f, dL=dL, t_span=t, y0=np.array([1.0]),dy0=np.array([0.0]), alpha=params['lr'],\n",
    "                                        betas=[params['beta1'], params['beta2']])\n",
    "        t_values, y_values, dy_values = solver.solve()\n",
    "        \n",
    "        label = f\"beta1={params['beta1']}, beta2={params['beta2']}\"\n",
    "\n",
    "        # Agregar datos a la figura de theta\n",
    "        fig_theta.add_trace(go.Scatter(\n",
    "            x=t_values/params['lr'],\n",
    "            y=y_values,\n",
    "            mode='lines',\n",
    "            name=label,\n",
    "            legendgroup=f'LR={lr}',\n",
    "        ), row=1, col=i+1)\n",
    "        \n",
    "        # Obtener los valores de numerators y denominators\n",
    "        numerators = solver.m\n",
    "        denominators = solver.v\n",
    "\n",
    "        # Agregar datos a la figura de numerators\n",
    "        fig_m.add_trace(go.Scatter(\n",
    "            x=[item[0]/params['lr'] for item in numerators],\n",
    "            y=[item[1] for item in numerators],\n",
    "            mode='markers',\n",
    "            marker=dict(size=3),\n",
    "            name=label,\n",
    "            legendgroup=f'LR={lr}',\n",
    "        ), row=1, col=i+1)\n",
    "        \n",
    "        # Agregar datos a la figura de denominators\n",
    "        fig_v.add_trace(go.Scatter(\n",
    "            x=[item[0]/params['lr'] for item in denominators],\n",
    "            y=[item[1] for item in denominators],\n",
    "            mode='markers',\n",
    "            marker=dict(size=3),\n",
    "            name=label,\n",
    "            legendgroup=f'LR={lr}',\n",
    "        ), row=1, col=i+1)\n",
    "\n",
    "# Actualización de los ejes\n",
    "fig_theta.update_xaxes(title_text=\"Time/lr\")\n",
    "fig_theta.update_yaxes(title_text=\"Theta value\")\n",
    "\n",
    "fig_m.update_xaxes(title_text=\"Time/lr\")\n",
    "fig_m.update_yaxes(title_text=\"Numerator value (m)\")\n",
    "\n",
    "fig_v.update_xaxes(title_text=\"Time/lr\")\n",
    "fig_v.update_yaxes(title_text=\"Denominator value (v)\")\n",
    "\n",
    "# Mostrar las figuras\n",
    "fig_theta.show()\n",
    "fig_m.show()\n",
    "fig_v.show()"
   ]
  }
 ],
 "metadata": {
  "kernelspec": {
   "display_name": "Python 3",
   "language": "python",
   "name": "python3"
  },
  "language_info": {
   "codemirror_mode": {
    "name": "ipython",
    "version": 3
   },
   "file_extension": ".py",
   "mimetype": "text/x-python",
   "name": "python",
   "nbconvert_exporter": "python",
   "pygments_lexer": "ipython3",
   "version": "3.11.8"
  }
 },
 "nbformat": 4,
 "nbformat_minor": 2
}
